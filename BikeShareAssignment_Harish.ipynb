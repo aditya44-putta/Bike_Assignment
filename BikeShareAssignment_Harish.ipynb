{
 "cells": [
  {
   "cell_type": "code",
   "execution_count": 53,
   "metadata": {},
   "outputs": [],
   "source": [
    "# Import all required libraries for executing code\n",
    "import warnings\n",
    "warnings.filterwarnings('ignore')\n",
    "import pandas as pd\n",
    "import numpy as np\n",
    "import seaborn as sns\n",
    "import matplotlib.pyplot as plt\n",
    "from sklearn.model_selection import train_test_split\n",
    "from sklearn.preprocessing import MinMaxScaler\n",
    "from sklearn.feature_selection import RFE\n",
    "from sklearn.linear_model import LinearRegression\n",
    "import statsmodels.api as sm\n",
    "from statsmodels.stats.outliers_influence import variance_inflation_factor\n",
    "from sklearn.metrics import r2_score\n",
    "from sklearn import preprocessing\n",
    "from scipy.stats import anderson"
   ]
  },
  {
   "cell_type": "code",
   "execution_count": 54,
   "metadata": {},
   "outputs": [],
   "source": [
    "# Read given data from CSV File\n",
    "bike_usage = pd.read_csv('day.csv')"
   ]
  },
  {
   "cell_type": "code",
   "execution_count": 55,
   "metadata": {},
   "outputs": [
    {
     "data": {
      "text/html": [
       "<div>\n",
       "<style scoped>\n",
       "    .dataframe tbody tr th:only-of-type {\n",
       "        vertical-align: middle;\n",
       "    }\n",
       "\n",
       "    .dataframe tbody tr th {\n",
       "        vertical-align: top;\n",
       "    }\n",
       "\n",
       "    .dataframe thead th {\n",
       "        text-align: right;\n",
       "    }\n",
       "</style>\n",
       "<table border=\"1\" class=\"dataframe\">\n",
       "  <thead>\n",
       "    <tr style=\"text-align: right;\">\n",
       "      <th></th>\n",
       "      <th>instant</th>\n",
       "      <th>dteday</th>\n",
       "      <th>season</th>\n",
       "      <th>yr</th>\n",
       "      <th>mnth</th>\n",
       "      <th>holiday</th>\n",
       "      <th>weekday</th>\n",
       "      <th>workingday</th>\n",
       "      <th>weathersit</th>\n",
       "      <th>temp</th>\n",
       "      <th>atemp</th>\n",
       "      <th>hum</th>\n",
       "      <th>windspeed</th>\n",
       "      <th>casual</th>\n",
       "      <th>registered</th>\n",
       "      <th>cnt</th>\n",
       "    </tr>\n",
       "  </thead>\n",
       "  <tbody>\n",
       "    <tr>\n",
       "      <th>0</th>\n",
       "      <td>1</td>\n",
       "      <td>01-01-2018</td>\n",
       "      <td>1</td>\n",
       "      <td>0</td>\n",
       "      <td>1</td>\n",
       "      <td>0</td>\n",
       "      <td>6</td>\n",
       "      <td>0</td>\n",
       "      <td>2</td>\n",
       "      <td>14.110847</td>\n",
       "      <td>18.18125</td>\n",
       "      <td>80.5833</td>\n",
       "      <td>10.749882</td>\n",
       "      <td>331</td>\n",
       "      <td>654</td>\n",
       "      <td>985</td>\n",
       "    </tr>\n",
       "    <tr>\n",
       "      <th>1</th>\n",
       "      <td>2</td>\n",
       "      <td>02-01-2018</td>\n",
       "      <td>1</td>\n",
       "      <td>0</td>\n",
       "      <td>1</td>\n",
       "      <td>0</td>\n",
       "      <td>0</td>\n",
       "      <td>0</td>\n",
       "      <td>2</td>\n",
       "      <td>14.902598</td>\n",
       "      <td>17.68695</td>\n",
       "      <td>69.6087</td>\n",
       "      <td>16.652113</td>\n",
       "      <td>131</td>\n",
       "      <td>670</td>\n",
       "      <td>801</td>\n",
       "    </tr>\n",
       "    <tr>\n",
       "      <th>2</th>\n",
       "      <td>3</td>\n",
       "      <td>03-01-2018</td>\n",
       "      <td>1</td>\n",
       "      <td>0</td>\n",
       "      <td>1</td>\n",
       "      <td>0</td>\n",
       "      <td>1</td>\n",
       "      <td>1</td>\n",
       "      <td>1</td>\n",
       "      <td>8.050924</td>\n",
       "      <td>9.47025</td>\n",
       "      <td>43.7273</td>\n",
       "      <td>16.636703</td>\n",
       "      <td>120</td>\n",
       "      <td>1229</td>\n",
       "      <td>1349</td>\n",
       "    </tr>\n",
       "    <tr>\n",
       "      <th>3</th>\n",
       "      <td>4</td>\n",
       "      <td>04-01-2018</td>\n",
       "      <td>1</td>\n",
       "      <td>0</td>\n",
       "      <td>1</td>\n",
       "      <td>0</td>\n",
       "      <td>2</td>\n",
       "      <td>1</td>\n",
       "      <td>1</td>\n",
       "      <td>8.200000</td>\n",
       "      <td>10.60610</td>\n",
       "      <td>59.0435</td>\n",
       "      <td>10.739832</td>\n",
       "      <td>108</td>\n",
       "      <td>1454</td>\n",
       "      <td>1562</td>\n",
       "    </tr>\n",
       "    <tr>\n",
       "      <th>4</th>\n",
       "      <td>5</td>\n",
       "      <td>05-01-2018</td>\n",
       "      <td>1</td>\n",
       "      <td>0</td>\n",
       "      <td>1</td>\n",
       "      <td>0</td>\n",
       "      <td>3</td>\n",
       "      <td>1</td>\n",
       "      <td>1</td>\n",
       "      <td>9.305237</td>\n",
       "      <td>11.46350</td>\n",
       "      <td>43.6957</td>\n",
       "      <td>12.522300</td>\n",
       "      <td>82</td>\n",
       "      <td>1518</td>\n",
       "      <td>1600</td>\n",
       "    </tr>\n",
       "  </tbody>\n",
       "</table>\n",
       "</div>"
      ],
      "text/plain": [
       "   instant      dteday  season  yr  mnth  holiday  weekday  workingday  \\\n",
       "0        1  01-01-2018       1   0     1        0        6           0   \n",
       "1        2  02-01-2018       1   0     1        0        0           0   \n",
       "2        3  03-01-2018       1   0     1        0        1           1   \n",
       "3        4  04-01-2018       1   0     1        0        2           1   \n",
       "4        5  05-01-2018       1   0     1        0        3           1   \n",
       "\n",
       "   weathersit       temp     atemp      hum  windspeed  casual  registered  \\\n",
       "0           2  14.110847  18.18125  80.5833  10.749882     331         654   \n",
       "1           2  14.902598  17.68695  69.6087  16.652113     131         670   \n",
       "2           1   8.050924   9.47025  43.7273  16.636703     120        1229   \n",
       "3           1   8.200000  10.60610  59.0435  10.739832     108        1454   \n",
       "4           1   9.305237  11.46350  43.6957  12.522300      82        1518   \n",
       "\n",
       "    cnt  \n",
       "0   985  \n",
       "1   801  \n",
       "2  1349  \n",
       "3  1562  \n",
       "4  1600  "
      ]
     },
     "execution_count": 55,
     "metadata": {},
     "output_type": "execute_result"
    }
   ],
   "source": [
    "# View Data format of read content\n",
    "bike_usage.head()"
   ]
  },
  {
   "cell_type": "code",
   "execution_count": 56,
   "metadata": {},
   "outputs": [
    {
     "data": {
      "text/plain": [
       "(730, 16)"
      ]
     },
     "execution_count": 56,
     "metadata": {},
     "output_type": "execute_result"
    }
   ],
   "source": [
    "# Checking size of data provided\n",
    "bike_usage.shape"
   ]
  },
  {
   "cell_type": "code",
   "execution_count": 57,
   "metadata": {},
   "outputs": [
    {
     "data": {
      "text/plain": [
       "instant       0\n",
       "dteday        0\n",
       "season        0\n",
       "yr            0\n",
       "mnth          0\n",
       "holiday       0\n",
       "weekday       0\n",
       "workingday    0\n",
       "weathersit    0\n",
       "temp          0\n",
       "atemp         0\n",
       "hum           0\n",
       "windspeed     0\n",
       "casual        0\n",
       "registered    0\n",
       "cnt           0\n",
       "dtype: int64"
      ]
     },
     "execution_count": 57,
     "metadata": {},
     "output_type": "execute_result"
    }
   ],
   "source": [
    "# Checking for null values to be handled\n",
    "bike_usage.isnull().sum()"
   ]
  },
  {
   "cell_type": "code",
   "execution_count": 58,
   "metadata": {},
   "outputs": [
    {
     "name": "stdout",
     "output_type": "stream",
     "text": [
      "<class 'pandas.core.frame.DataFrame'>\n",
      "RangeIndex: 730 entries, 0 to 729\n",
      "Data columns (total 16 columns):\n",
      " #   Column      Non-Null Count  Dtype  \n",
      "---  ------      --------------  -----  \n",
      " 0   instant     730 non-null    int64  \n",
      " 1   dteday      730 non-null    object \n",
      " 2   season      730 non-null    int64  \n",
      " 3   yr          730 non-null    int64  \n",
      " 4   mnth        730 non-null    int64  \n",
      " 5   holiday     730 non-null    int64  \n",
      " 6   weekday     730 non-null    int64  \n",
      " 7   workingday  730 non-null    int64  \n",
      " 8   weathersit  730 non-null    int64  \n",
      " 9   temp        730 non-null    float64\n",
      " 10  atemp       730 non-null    float64\n",
      " 11  hum         730 non-null    float64\n",
      " 12  windspeed   730 non-null    float64\n",
      " 13  casual      730 non-null    int64  \n",
      " 14  registered  730 non-null    int64  \n",
      " 15  cnt         730 non-null    int64  \n",
      "dtypes: float64(4), int64(11), object(1)\n",
      "memory usage: 91.4+ KB\n"
     ]
    }
   ],
   "source": [
    "# There are no null entries in the data set and hence no subsequent action required\n",
    "# Validate object types for all columns\n",
    "bike_usage.info()"
   ]
  },
  {
   "cell_type": "code",
   "execution_count": 59,
   "metadata": {},
   "outputs": [
    {
     "data": {
      "text/plain": [
       "<matplotlib.axes._subplots.AxesSubplot at 0x1261fa0d548>"
      ]
     },
     "execution_count": 59,
     "metadata": {},
     "output_type": "execute_result"
    },
    {
     "data": {
      "image/png": "[encoded data removed]",
      "text/plain": [
       "<Figure size 1440x720 with 4 Axes>"
      ]
     },
     "metadata": {
      "needs_background": "light"
     },
     "output_type": "display_data"
    }
   ],
   "source": [
    "# Checking for outliers (temp\tatemp\thum\twindspeed)\n",
    "plt.figure(figsize=(20,10))\n",
    "plt.subplot(2,2,1)\n",
    "sns.boxplot(data=bike_usage,x='temp')\n",
    "plt.subplot(2,2,2)\n",
    "sns.boxplot(data=bike_usage,x='atemp')\n",
    "plt.subplot(2,2,3)\n",
    "sns.boxplot(data=bike_usage,x='hum')\n",
    "plt.subplot(2,2,4)\n",
    "sns.boxplot(data=bike_usage,x='windspeed')"
   ]
  },
  {
   "cell_type": "code",
   "execution_count": 60,
   "metadata": {},
   "outputs": [
    {
     "data": {
      "text/html": [
       "<div>\n",
       "<style scoped>\n",
       "    .dataframe tbody tr th:only-of-type {\n",
       "        vertical-align: middle;\n",
       "    }\n",
       "\n",
       "    .dataframe tbody tr th {\n",
       "        vertical-align: top;\n",
       "    }\n",
       "\n",
       "    .dataframe thead th {\n",
       "        text-align: right;\n",
       "    }\n",
       "</style>\n",
       "<table border=\"1\" class=\"dataframe\">\n",
       "  <thead>\n",
       "    <tr style=\"text-align: right;\">\n",
       "      <th></th>\n",
       "      <th>instant</th>\n",
       "      <th>season</th>\n",
       "      <th>yr</th>\n",
       "      <th>mnth</th>\n",
       "      <th>holiday</th>\n",
       "      <th>weekday</th>\n",
       "      <th>workingday</th>\n",
       "      <th>weathersit</th>\n",
       "      <th>temp</th>\n",
       "      <th>atemp</th>\n",
       "      <th>hum</th>\n",
       "      <th>windspeed</th>\n",
       "      <th>casual</th>\n",
       "      <th>registered</th>\n",
       "      <th>cnt</th>\n",
       "    </tr>\n",
       "  </thead>\n",
       "  <tbody>\n",
       "    <tr>\n",
       "      <th>count</th>\n",
       "      <td>730.000000</td>\n",
       "      <td>730.000000</td>\n",
       "      <td>730.000000</td>\n",
       "      <td>730.000000</td>\n",
       "      <td>730.000000</td>\n",
       "      <td>730.000000</td>\n",
       "      <td>730.000000</td>\n",
       "      <td>730.000000</td>\n",
       "      <td>730.000000</td>\n",
       "      <td>730.000000</td>\n",
       "      <td>730.000000</td>\n",
       "      <td>730.000000</td>\n",
       "      <td>730.000000</td>\n",
       "      <td>730.000000</td>\n",
       "      <td>730.000000</td>\n",
       "    </tr>\n",
       "    <tr>\n",
       "      <th>mean</th>\n",
       "      <td>365.500000</td>\n",
       "      <td>2.498630</td>\n",
       "      <td>0.500000</td>\n",
       "      <td>6.526027</td>\n",
       "      <td>0.028767</td>\n",
       "      <td>2.997260</td>\n",
       "      <td>0.683562</td>\n",
       "      <td>1.394521</td>\n",
       "      <td>20.319259</td>\n",
       "      <td>23.726322</td>\n",
       "      <td>62.765175</td>\n",
       "      <td>12.763620</td>\n",
       "      <td>849.249315</td>\n",
       "      <td>3658.757534</td>\n",
       "      <td>4508.006849</td>\n",
       "    </tr>\n",
       "    <tr>\n",
       "      <th>std</th>\n",
       "      <td>210.877136</td>\n",
       "      <td>1.110184</td>\n",
       "      <td>0.500343</td>\n",
       "      <td>3.450215</td>\n",
       "      <td>0.167266</td>\n",
       "      <td>2.006161</td>\n",
       "      <td>0.465405</td>\n",
       "      <td>0.544807</td>\n",
       "      <td>7.506729</td>\n",
       "      <td>8.150308</td>\n",
       "      <td>14.237589</td>\n",
       "      <td>5.195841</td>\n",
       "      <td>686.479875</td>\n",
       "      <td>1559.758728</td>\n",
       "      <td>1936.011647</td>\n",
       "    </tr>\n",
       "    <tr>\n",
       "      <th>min</th>\n",
       "      <td>1.000000</td>\n",
       "      <td>1.000000</td>\n",
       "      <td>0.000000</td>\n",
       "      <td>1.000000</td>\n",
       "      <td>0.000000</td>\n",
       "      <td>0.000000</td>\n",
       "      <td>0.000000</td>\n",
       "      <td>1.000000</td>\n",
       "      <td>2.424346</td>\n",
       "      <td>3.953480</td>\n",
       "      <td>0.000000</td>\n",
       "      <td>1.500244</td>\n",
       "      <td>2.000000</td>\n",
       "      <td>20.000000</td>\n",
       "      <td>22.000000</td>\n",
       "    </tr>\n",
       "    <tr>\n",
       "      <th>25%</th>\n",
       "      <td>183.250000</td>\n",
       "      <td>2.000000</td>\n",
       "      <td>0.000000</td>\n",
       "      <td>4.000000</td>\n",
       "      <td>0.000000</td>\n",
       "      <td>1.000000</td>\n",
       "      <td>0.000000</td>\n",
       "      <td>1.000000</td>\n",
       "      <td>13.811885</td>\n",
       "      <td>16.889713</td>\n",
       "      <td>52.000000</td>\n",
       "      <td>9.041650</td>\n",
       "      <td>316.250000</td>\n",
       "      <td>2502.250000</td>\n",
       "      <td>3169.750000</td>\n",
       "    </tr>\n",
       "    <tr>\n",
       "      <th>50%</th>\n",
       "      <td>365.500000</td>\n",
       "      <td>3.000000</td>\n",
       "      <td>0.500000</td>\n",
       "      <td>7.000000</td>\n",
       "      <td>0.000000</td>\n",
       "      <td>3.000000</td>\n",
       "      <td>1.000000</td>\n",
       "      <td>1.000000</td>\n",
       "      <td>20.465826</td>\n",
       "      <td>24.368225</td>\n",
       "      <td>62.625000</td>\n",
       "      <td>12.125325</td>\n",
       "      <td>717.000000</td>\n",
       "      <td>3664.500000</td>\n",
       "      <td>4548.500000</td>\n",
       "    </tr>\n",
       "    <tr>\n",
       "      <th>75%</th>\n",
       "      <td>547.750000</td>\n",
       "      <td>3.000000</td>\n",
       "      <td>1.000000</td>\n",
       "      <td>10.000000</td>\n",
       "      <td>0.000000</td>\n",
       "      <td>5.000000</td>\n",
       "      <td>1.000000</td>\n",
       "      <td>2.000000</td>\n",
       "      <td>26.880615</td>\n",
       "      <td>30.445775</td>\n",
       "      <td>72.989575</td>\n",
       "      <td>15.625589</td>\n",
       "      <td>1096.500000</td>\n",
       "      <td>4783.250000</td>\n",
       "      <td>5966.000000</td>\n",
       "    </tr>\n",
       "    <tr>\n",
       "      <th>max</th>\n",
       "      <td>730.000000</td>\n",
       "      <td>4.000000</td>\n",
       "      <td>1.000000</td>\n",
       "      <td>12.000000</td>\n",
       "      <td>1.000000</td>\n",
       "      <td>6.000000</td>\n",
       "      <td>1.000000</td>\n",
       "      <td>3.000000</td>\n",
       "      <td>35.328347</td>\n",
       "      <td>42.044800</td>\n",
       "      <td>97.250000</td>\n",
       "      <td>34.000021</td>\n",
       "      <td>3410.000000</td>\n",
       "      <td>6946.000000</td>\n",
       "      <td>8714.000000</td>\n",
       "    </tr>\n",
       "  </tbody>\n",
       "</table>\n",
       "</div>"
      ],
      "text/plain": [
       "          instant      season          yr        mnth     holiday     weekday  \\\n",
       "count  730.000000  730.000000  730.000000  730.000000  730.000000  730.000000   \n",
       "mean   365.500000    2.498630    0.500000    6.526027    0.028767    2.997260   \n",
       "std    210.877136    1.110184    0.500343    3.450215    0.167266    2.006161   \n",
       "min      1.000000    1.000000    0.000000    1.000000    0.000000    0.000000   \n",
       "25%    183.250000    2.000000    0.000000    4.000000    0.000000    1.000000   \n",
       "50%    365.500000    3.000000    0.500000    7.000000    0.000000    3.000000   \n",
       "75%    547.750000    3.000000    1.000000   10.000000    0.000000    5.000000   \n",
       "max    730.000000    4.000000    1.000000   12.000000    1.000000    6.000000   \n",
       "\n",
       "       workingday  weathersit        temp       atemp         hum   windspeed  \\\n",
       "count  730.000000  730.000000  730.000000  730.000000  730.000000  730.000000   \n",
       "mean     0.683562    1.394521   20.319259   23.726322   62.765175   12.763620   \n",
       "std      0.465405    0.544807    7.506729    8.150308   14.237589    5.195841   \n",
       "min      0.000000    1.000000    2.424346    3.953480    0.000000    1.500244   \n",
       "25%      0.000000    1.000000   13.811885   16.889713   52.000000    9.041650   \n",
       "50%      1.000000    1.000000   20.465826   24.368225   62.625000   12.125325   \n",
       "75%      1.000000    2.000000   26.880615   30.445775   72.989575   15.625589   \n",
       "max      1.000000    3.000000   35.328347   42.044800   97.250000   34.000021   \n",
       "\n",
       "            casual   registered          cnt  \n",
       "count   730.000000   730.000000   730.000000  \n",
       "mean    849.249315  3658.757534  4508.006849  \n",
       "std     686.479875  1559.758728  1936.011647  \n",
       "min       2.000000    20.000000    22.000000  \n",
       "25%     316.250000  2502.250000  3169.750000  \n",
       "50%     717.000000  3664.500000  4548.500000  \n",
       "75%    1096.500000  4783.250000  5966.000000  \n",
       "max    3410.000000  6946.000000  8714.000000  "
      ]
     },
     "execution_count": 60,
     "metadata": {},
     "output_type": "execute_result"
    }
   ],
   "source": [
    "bike_usage.describe()"
   ]
  },
  {
   "cell_type": "code",
   "execution_count": 61,
   "metadata": {},
   "outputs": [
    {
     "data": {
      "text/plain": [
       "(14, 16)"
      ]
     },
     "execution_count": 61,
     "metadata": {},
     "output_type": "execute_result"
    }
   ],
   "source": [
    "# Dropping outliers in humidity & windspeed entries\n",
    "#Calculating upper limit for windspeed\n",
    "wind_limit = bike_usage.quantile(0.75).windspeed + (1.5 * (bike_usage.quantile(0.75).windspeed - bike_usage.quantile(0.25).windspeed))\n",
    "#Calculating lower limit for humidity\n",
    "hum_limit = bike_usage.quantile(0.25).hum - (1.5 * (bike_usage.quantile(0.75).hum - bike_usage.quantile(0.25).hum))\n",
    "#Checking number of such outlier entries\n",
    "bike_usage[(bike_usage.hum<hum_limit) | (bike_usage.windspeed>wind_limit)].shape"
   ]
  },
  {
   "cell_type": "code",
   "execution_count": 62,
   "metadata": {},
   "outputs": [
    {
     "data": {
      "text/plain": [
       "(716, 16)"
      ]
     },
     "execution_count": 62,
     "metadata": {},
     "output_type": "execute_result"
    }
   ],
   "source": [
    "# Removing the outlier entries as the count is less than 10% of the total data\n",
    "bike_usage = bike_usage[~((bike_usage.hum<hum_limit) | (bike_usage.windspeed>wind_limit))]\n",
    "bike_usage.shape"
   ]
  },
  {
   "cell_type": "code",
   "execution_count": 63,
   "metadata": {},
   "outputs": [
    {
     "data": {
      "text/plain": [
       "0      6\n",
       "1      0\n",
       "7      6\n",
       "8      0\n",
       "14     6\n",
       "      ..\n",
       "714    0\n",
       "721    0\n",
       "723    2\n",
       "727    6\n",
       "728    0\n",
       "Name: weekday, Length: 226, dtype: int64"
      ]
     },
     "execution_count": 63,
     "metadata": {},
     "output_type": "execute_result"
    }
   ],
   "source": [
    "# Weekday is numbered from 0 till 6\n",
    "# We will find the mapping between Sunday and corresponding number by looking for the number marked as non-workign day\n",
    "bike_usage[bike_usage.workingday ==0].weekday"
   ]
  },
  {
   "cell_type": "markdown",
   "metadata": {},
   "source": [
    "Understanding:\n",
    "We now know that Sunday is represented by numerical 6 in weekday column\n",
    "All columns are either integers or decimal values except dteday which is a date\n",
    "\n",
    "\n",
    "Columns to be dropped:\n",
    "As cnt is our target variable which is total count of rented bikes, we can analyze the dependency of year, month or weekday which are already seperate columns and hence we can drop the dteday column \n",
    "Instant column is just like index and hence dropping this colum as well.\n",
    "We can also drop the column working day because holidays are already represnted in holiday column and Sundays are represented in the weekday column. However, in order to see the possibility of greater dependeny on any kind of holiday, we will leave it for now and remove it from model if it does not play any role.\n",
    "\n",
    "Derived Columns:\n",
    "The columns casual & registered are just the count columns split between total users or cnt column. Therefore, they cannot be used as predictors. Therfore, we will derive another column which indicates ratio of registered users to casual users. This can later be used as a predictor, which will indicate the company to get as many people registered as possible."
   ]
  },
  {
   "cell_type": "code",
   "execution_count": 64,
   "metadata": {},
   "outputs": [],
   "source": [
    "bike_usage.drop('dteday',axis=1,inplace=True)\n",
    "bike_usage.drop('instant',axis=1,inplace=True)"
   ]
  },
  {
   "cell_type": "code",
   "execution_count": 65,
   "metadata": {},
   "outputs": [],
   "source": [
    "# Replacing numerical values in categorical variable columns\n",
    "bike_usage.season = bike_usage.season.map({1:\"spring\", 2:\"summer\", 3:\"fall\", 4:\"winter\"})\n",
    "#bike_usage.yr = bike_usage.yr.map({0: \"2018\", 1:\"2019\"})\n",
    "bike_usage.mnth = bike_usage.mnth.map({1:\"January\",2:\"February\",3:\"March\",4:\"April\",5:\"May\",6:\"June\",\\\n",
    "                       7:\"July\",8:\"August\",9:\"September\",10:\"October\",11:\"November\",12:\"December\"})\n",
    "bike_usage.holiday = bike_usage.holiday.map({1:\"Festival\",0:\"Work\"})\n",
    "bike_usage.weekday = bike_usage.weekday.map({0:\"Monday\",1:\"Tuesday\",2:\"Wednesday\",3:\"Thursday\",4:\"Friday\",5:\"Saturday\",6:\"Sunday\"})\n",
    "bike_usage.workingday = bike_usage.workingday.map({1:\"Break\",0:\"Work\"})\n",
    "bike_usage.weathersit = bike_usage.weathersit.map({1:\"VeryClear\",2:\"MildClear\",3:\"MildRain\",4:\"HeavyRain\"})"
   ]
  },
  {
   "cell_type": "code",
   "execution_count": 66,
   "metadata": {},
   "outputs": [],
   "source": [
    "# Renaming yr column\n",
    "bike_usage.rename(columns = {'yr':'Awareness'},inplace = True)\n",
    "\n",
    "# Creating a derived column for type of users\n",
    "bike_usage['ratio_register'] = round(bike_usage['registered'] / bike_usage['casual'],2)\n",
    "\n",
    "# Dropping the registered & casual columns\n",
    "bike_usage.drop(['registered','casual'],axis=1,inplace=True)"
   ]
  },
  {
   "cell_type": "code",
   "execution_count": 67,
   "metadata": {},
   "outputs": [
    {
     "data": {
      "text/html": [
       "<div>\n",
       "<style scoped>\n",
       "    .dataframe tbody tr th:only-of-type {\n",
       "        vertical-align: middle;\n",
       "    }\n",
       "\n",
       "    .dataframe tbody tr th {\n",
       "        vertical-align: top;\n",
       "    }\n",
       "\n",
       "    .dataframe thead th {\n",
       "        text-align: right;\n",
       "    }\n",
       "</style>\n",
       "<table border=\"1\" class=\"dataframe\">\n",
       "  <thead>\n",
       "    <tr style=\"text-align: right;\">\n",
       "      <th></th>\n",
       "      <th>season</th>\n",
       "      <th>Awareness</th>\n",
       "      <th>mnth</th>\n",
       "      <th>holiday</th>\n",
       "      <th>weekday</th>\n",
       "      <th>workingday</th>\n",
       "      <th>weathersit</th>\n",
       "      <th>temp</th>\n",
       "      <th>atemp</th>\n",
       "      <th>hum</th>\n",
       "      <th>windspeed</th>\n",
       "      <th>cnt</th>\n",
       "      <th>ratio_register</th>\n",
       "    </tr>\n",
       "  </thead>\n",
       "  <tbody>\n",
       "    <tr>\n",
       "      <th>0</th>\n",
       "      <td>spring</td>\n",
       "      <td>0</td>\n",
       "      <td>January</td>\n",
       "      <td>Work</td>\n",
       "      <td>Sunday</td>\n",
       "      <td>Work</td>\n",
       "      <td>MildClear</td>\n",
       "      <td>14.110847</td>\n",
       "      <td>18.18125</td>\n",
       "      <td>80.5833</td>\n",
       "      <td>10.749882</td>\n",
       "      <td>985</td>\n",
       "      <td>1.98</td>\n",
       "    </tr>\n",
       "    <tr>\n",
       "      <th>1</th>\n",
       "      <td>spring</td>\n",
       "      <td>0</td>\n",
       "      <td>January</td>\n",
       "      <td>Work</td>\n",
       "      <td>Monday</td>\n",
       "      <td>Work</td>\n",
       "      <td>MildClear</td>\n",
       "      <td>14.902598</td>\n",
       "      <td>17.68695</td>\n",
       "      <td>69.6087</td>\n",
       "      <td>16.652113</td>\n",
       "      <td>801</td>\n",
       "      <td>5.11</td>\n",
       "    </tr>\n",
       "    <tr>\n",
       "      <th>2</th>\n",
       "      <td>spring</td>\n",
       "      <td>0</td>\n",
       "      <td>January</td>\n",
       "      <td>Work</td>\n",
       "      <td>Tuesday</td>\n",
       "      <td>Break</td>\n",
       "      <td>VeryClear</td>\n",
       "      <td>8.050924</td>\n",
       "      <td>9.47025</td>\n",
       "      <td>43.7273</td>\n",
       "      <td>16.636703</td>\n",
       "      <td>1349</td>\n",
       "      <td>10.24</td>\n",
       "    </tr>\n",
       "    <tr>\n",
       "      <th>3</th>\n",
       "      <td>spring</td>\n",
       "      <td>0</td>\n",
       "      <td>January</td>\n",
       "      <td>Work</td>\n",
       "      <td>Wednesday</td>\n",
       "      <td>Break</td>\n",
       "      <td>VeryClear</td>\n",
       "      <td>8.200000</td>\n",
       "      <td>10.60610</td>\n",
       "      <td>59.0435</td>\n",
       "      <td>10.739832</td>\n",
       "      <td>1562</td>\n",
       "      <td>13.46</td>\n",
       "    </tr>\n",
       "    <tr>\n",
       "      <th>4</th>\n",
       "      <td>spring</td>\n",
       "      <td>0</td>\n",
       "      <td>January</td>\n",
       "      <td>Work</td>\n",
       "      <td>Thursday</td>\n",
       "      <td>Break</td>\n",
       "      <td>VeryClear</td>\n",
       "      <td>9.305237</td>\n",
       "      <td>11.46350</td>\n",
       "      <td>43.6957</td>\n",
       "      <td>12.522300</td>\n",
       "      <td>1600</td>\n",
       "      <td>18.51</td>\n",
       "    </tr>\n",
       "  </tbody>\n",
       "</table>\n",
       "</div>"
      ],
      "text/plain": [
       "   season  Awareness     mnth holiday    weekday workingday weathersit  \\\n",
       "0  spring          0  January    Work     Sunday       Work  MildClear   \n",
       "1  spring          0  January    Work     Monday       Work  MildClear   \n",
       "2  spring          0  January    Work    Tuesday      Break  VeryClear   \n",
       "3  spring          0  January    Work  Wednesday      Break  VeryClear   \n",
       "4  spring          0  January    Work   Thursday      Break  VeryClear   \n",
       "\n",
       "        temp     atemp      hum  windspeed   cnt  ratio_register  \n",
       "0  14.110847  18.18125  80.5833  10.749882   985            1.98  \n",
       "1  14.902598  17.68695  69.6087  16.652113   801            5.11  \n",
       "2   8.050924   9.47025  43.7273  16.636703  1349           10.24  \n",
       "3   8.200000  10.60610  59.0435  10.739832  1562           13.46  \n",
       "4   9.305237  11.46350  43.6957  12.522300  1600           18.51  "
      ]
     },
     "execution_count": 67,
     "metadata": {},
     "output_type": "execute_result"
    }
   ],
   "source": [
    "# Viewing updated data content\n",
    "bike_usage.head()"
   ]
  },
  {
   "cell_type": "code",
   "execution_count": 68,
   "metadata": {},
   "outputs": [
    {
     "data": {
      "text/plain": [
       "<seaborn.axisgrid.PairGrid at 0x1261f867988>"
      ]
     },
     "execution_count": 68,
     "metadata": {},
     "output_type": "execute_result"
    },
    {
     "data": {
      "image/png": "[encoded data removed]",
      "text/plain": [
       "<Figure size 900x180 with 5 Axes>"
      ]
     },
     "metadata": {
      "needs_background": "light"
     },
     "output_type": "display_data"
    }
   ],
   "source": [
    "# Visuavilizing numeric variables against target variable\n",
    "sns.pairplot(bike_usage,y_vars=['cnt'],x_vars=['temp','atemp','hum','windspeed','ratio_register'])"
   ]
  },
  {
   "cell_type": "code",
   "execution_count": 69,
   "metadata": {},
   "outputs": [],
   "source": [
    "# Clearly temperature seems to have a better linear relation with cnt when compared to other parameters."
   ]
  },
  {
   "cell_type": "code",
   "execution_count": 70,
   "metadata": {},
   "outputs": [
    {
     "data": {
      "image/png": "[encoded data removed]",
      "text/plain": [
       "<Figure size 1440x720 with 7 Axes>"
      ]
     },
     "metadata": {
      "needs_background": "light"
     },
     "output_type": "display_data"
    }
   ],
   "source": [
    "# Visuavilizing categorical variables against target variable\n",
    "plt.figure(figsize=(20,10))\n",
    "plt.subplot(4,2,1)\n",
    "sns.boxplot(data=bike_usage,x='season',y='cnt')\n",
    "plt.subplot(4,2,2)\n",
    "sns.boxplot(data=bike_usage,x='Awareness',y='cnt')\n",
    "plt.subplot(4,2,3)\n",
    "plt.xticks(rotation=10)\n",
    "sns.boxplot(data=bike_usage,x='mnth',y='cnt')\n",
    "plt.subplot(4,2,4)\n",
    "sns.boxplot(data=bike_usage,x='holiday',y='cnt')\n",
    "plt.subplot(4,2,5)\n",
    "sns.boxplot(data=bike_usage,x='weekday',y='cnt')\n",
    "plt.subplot(4,2,6)\n",
    "sns.boxplot(data=bike_usage,x='workingday',y='cnt')\n",
    "plt.subplot(4,2,7)\n",
    "sns.boxplot(data=bike_usage,x='weathersit',y='cnt')\n",
    "plt.show()"
   ]
  },
  {
   "cell_type": "markdown",
   "metadata": {},
   "source": [
    "#Understandings from above boxplots:\n",
    "\n",
    "1) As we already know, awareness has caused increase in usage.\n",
    "2) Spring, winter, summer & fall seem to  have an increasing usage in the same sequence.\n",
    "3) May till Oct seem to have higher usage, which is inline with the behavior observed against seasons. So, we already have an intuation that both might be correlated.\n",
    "4) Usage seem to be directly linked to weather clarity.\n",
    "5) All other parameters do not seem to show effect and hence we can follow the same sequence while bulding a model in terms of selecting the probable predictors first"
   ]
  },
  {
   "cell_type": "code",
   "execution_count": 71,
   "metadata": {},
   "outputs": [],
   "source": [
    "# Creating dummy variables as a preparation for Model setup\n",
    "# Though we could live with using only n-1 variations against each feature, we will stick to not dropping the first value in order to analyze the possible dependency\n",
    "bike_dummy = pd.get_dummies(data = bike_usage, columns = ['season','mnth','holiday','weekday','workingday','weathersit'])"
   ]
  },
  {
   "cell_type": "code",
   "execution_count": 72,
   "metadata": {},
   "outputs": [
    {
     "data": {
      "text/plain": [
       "Index(['Awareness', 'temp', 'atemp', 'hum', 'windspeed', 'cnt',\n",
       "       'ratio_register', 'season_fall', 'season_spring', 'season_summer',\n",
       "       'season_winter', 'mnth_April', 'mnth_August', 'mnth_December',\n",
       "       'mnth_February', 'mnth_January', 'mnth_July', 'mnth_June', 'mnth_March',\n",
       "       'mnth_May', 'mnth_November', 'mnth_October', 'mnth_September',\n",
       "       'holiday_Festival', 'holiday_Work', 'weekday_Friday', 'weekday_Monday',\n",
       "       'weekday_Saturday', 'weekday_Sunday', 'weekday_Thursday',\n",
       "       'weekday_Tuesday', 'weekday_Wednesday', 'workingday_Break',\n",
       "       'workingday_Work', 'weathersit_MildClear', 'weathersit_MildRain',\n",
       "       'weathersit_VeryClear'],\n",
       "      dtype='object')"
      ]
     },
     "execution_count": 72,
     "metadata": {},
     "output_type": "execute_result"
    }
   ],
   "source": [
    "# Checking to see the total set of columns after the dummy variable addition\n",
    "bike_dummy.columns"
   ]
  },
  {
   "cell_type": "code",
   "execution_count": 497,
   "metadata": {},
   "outputs": [],
   "source": [
    "# Model 2\n",
    "# Building a model by manually adding variables"
   ]
  },
  {
   "cell_type": "code",
   "execution_count": 91,
   "metadata": {},
   "outputs": [],
   "source": [
    "# Creating a duplicate dataframe not to disturb the original for future use\n",
    "bike_m2 = bike_dummy"
   ]
  },
  {
   "cell_type": "code",
   "execution_count": 92,
   "metadata": {},
   "outputs": [],
   "source": [
    "# Spliting Data again to work on a different combination of data for training & testing\n",
    "np.random.seed(0)\n",
    "m2_train,m2_test = train_test_split(bike_m2,train_size=0.7,test_size=0.3,random_state=100)"
   ]
  },
  {
   "cell_type": "code",
   "execution_count": 93,
   "metadata": {},
   "outputs": [
    {
     "data": {
      "text/html": [
       "<div>\n",
       "<style scoped>\n",
       "    .dataframe tbody tr th:only-of-type {\n",
       "        vertical-align: middle;\n",
       "    }\n",
       "\n",
       "    .dataframe tbody tr th {\n",
       "        vertical-align: top;\n",
       "    }\n",
       "\n",
       "    .dataframe thead th {\n",
       "        text-align: right;\n",
       "    }\n",
       "</style>\n",
       "<table border=\"1\" class=\"dataframe\">\n",
       "  <thead>\n",
       "    <tr style=\"text-align: right;\">\n",
       "      <th></th>\n",
       "      <th>Awareness</th>\n",
       "      <th>temp</th>\n",
       "      <th>atemp</th>\n",
       "      <th>hum</th>\n",
       "      <th>windspeed</th>\n",
       "      <th>cnt</th>\n",
       "      <th>ratio_register</th>\n",
       "      <th>season_fall</th>\n",
       "      <th>season_spring</th>\n",
       "      <th>season_summer</th>\n",
       "      <th>...</th>\n",
       "      <th>weekday_Saturday</th>\n",
       "      <th>weekday_Sunday</th>\n",
       "      <th>weekday_Thursday</th>\n",
       "      <th>weekday_Tuesday</th>\n",
       "      <th>weekday_Wednesday</th>\n",
       "      <th>workingday_Break</th>\n",
       "      <th>workingday_Work</th>\n",
       "      <th>weathersit_MildClear</th>\n",
       "      <th>weathersit_MildRain</th>\n",
       "      <th>weathersit_VeryClear</th>\n",
       "    </tr>\n",
       "  </thead>\n",
       "  <tbody>\n",
       "    <tr>\n",
       "      <th>728</th>\n",
       "      <td>1</td>\n",
       "      <td>-1.287368</td>\n",
       "      <td>-1.467174</td>\n",
       "      <td>-1.075851</td>\n",
       "      <td>2.231625</td>\n",
       "      <td>-1.395736</td>\n",
       "      <td>-0.527267</td>\n",
       "      <td>0</td>\n",
       "      <td>1</td>\n",
       "      <td>0</td>\n",
       "      <td>...</td>\n",
       "      <td>0</td>\n",
       "      <td>0</td>\n",
       "      <td>0</td>\n",
       "      <td>0</td>\n",
       "      <td>0</td>\n",
       "      <td>0</td>\n",
       "      <td>1</td>\n",
       "      <td>0</td>\n",
       "      <td>0</td>\n",
       "      <td>1</td>\n",
       "    </tr>\n",
       "    <tr>\n",
       "      <th>541</th>\n",
       "      <td>1</td>\n",
       "      <td>0.754790</td>\n",
       "      <td>0.759566</td>\n",
       "      <td>-1.869980</td>\n",
       "      <td>2.189288</td>\n",
       "      <td>1.478062</td>\n",
       "      <td>-0.248691</td>\n",
       "      <td>1</td>\n",
       "      <td>0</td>\n",
       "      <td>0</td>\n",
       "      <td>...</td>\n",
       "      <td>0</td>\n",
       "      <td>0</td>\n",
       "      <td>0</td>\n",
       "      <td>0</td>\n",
       "      <td>1</td>\n",
       "      <td>1</td>\n",
       "      <td>0</td>\n",
       "      <td>0</td>\n",
       "      <td>0</td>\n",
       "      <td>1</td>\n",
       "    </tr>\n",
       "    <tr>\n",
       "      <th>116</th>\n",
       "      <td>0</td>\n",
       "      <td>0.695796</td>\n",
       "      <td>0.639568</td>\n",
       "      <td>1.465968</td>\n",
       "      <td>1.707121</td>\n",
       "      <td>-0.339058</td>\n",
       "      <td>-0.224772</td>\n",
       "      <td>0</td>\n",
       "      <td>0</td>\n",
       "      <td>1</td>\n",
       "      <td>...</td>\n",
       "      <td>0</td>\n",
       "      <td>0</td>\n",
       "      <td>1</td>\n",
       "      <td>0</td>\n",
       "      <td>0</td>\n",
       "      <td>1</td>\n",
       "      <td>0</td>\n",
       "      <td>1</td>\n",
       "      <td>0</td>\n",
       "      <td>0</td>\n",
       "    </tr>\n",
       "    <tr>\n",
       "      <th>718</th>\n",
       "      <td>1</td>\n",
       "      <td>-0.883473</td>\n",
       "      <td>-0.832180</td>\n",
       "      <td>0.256726</td>\n",
       "      <td>-0.738090</td>\n",
       "      <td>-0.208755</td>\n",
       "      <td>0.629247</td>\n",
       "      <td>0</td>\n",
       "      <td>0</td>\n",
       "      <td>0</td>\n",
       "      <td>...</td>\n",
       "      <td>0</td>\n",
       "      <td>0</td>\n",
       "      <td>0</td>\n",
       "      <td>0</td>\n",
       "      <td>0</td>\n",
       "      <td>1</td>\n",
       "      <td>0</td>\n",
       "      <td>1</td>\n",
       "      <td>0</td>\n",
       "      <td>0</td>\n",
       "    </tr>\n",
       "    <tr>\n",
       "      <th>496</th>\n",
       "      <td>1</td>\n",
       "      <td>0.391743</td>\n",
       "      <td>0.453549</td>\n",
       "      <td>-1.096903</td>\n",
       "      <td>-0.865019</td>\n",
       "      <td>1.471445</td>\n",
       "      <td>-0.822727</td>\n",
       "      <td>0</td>\n",
       "      <td>0</td>\n",
       "      <td>1</td>\n",
       "      <td>...</td>\n",
       "      <td>0</td>\n",
       "      <td>1</td>\n",
       "      <td>0</td>\n",
       "      <td>0</td>\n",
       "      <td>0</td>\n",
       "      <td>0</td>\n",
       "      <td>1</td>\n",
       "      <td>0</td>\n",
       "      <td>0</td>\n",
       "      <td>1</td>\n",
       "    </tr>\n",
       "  </tbody>\n",
       "</table>\n",
       "<p>5 rows × 37 columns</p>\n",
       "</div>"
      ],
      "text/plain": [
       "     Awareness      temp     atemp       hum  windspeed       cnt  \\\n",
       "728          1 -1.287368 -1.467174 -1.075851   2.231625 -1.395736   \n",
       "541          1  0.754790  0.759566 -1.869980   2.189288  1.478062   \n",
       "116          0  0.695796  0.639568  1.465968   1.707121 -0.339058   \n",
       "718          1 -0.883473 -0.832180  0.256726  -0.738090 -0.208755   \n",
       "496          1  0.391743  0.453549 -1.096903  -0.865019  1.471445   \n",
       "\n",
       "     ratio_register  season_fall  season_spring  season_summer  ...  \\\n",
       "728       -0.527267            0              1              0  ...   \n",
       "541       -0.248691            1              0              0  ...   \n",
       "116       -0.224772            0              0              1  ...   \n",
       "718        0.629247            0              0              0  ...   \n",
       "496       -0.822727            0              0              1  ...   \n",
       "\n",
       "     weekday_Saturday  weekday_Sunday  weekday_Thursday  weekday_Tuesday  \\\n",
       "728                 0               0                 0                0   \n",
       "541                 0               0                 0                0   \n",
       "116                 0               0                 1                0   \n",
       "718                 0               0                 0                0   \n",
       "496                 0               1                 0                0   \n",
       "\n",
       "     weekday_Wednesday  workingday_Break  workingday_Work  \\\n",
       "728                  0                 0                1   \n",
       "541                  1                 1                0   \n",
       "116                  0                 1                0   \n",
       "718                  0                 1                0   \n",
       "496                  0                 0                1   \n",
       "\n",
       "     weathersit_MildClear  weathersit_MildRain  weathersit_VeryClear  \n",
       "728                     0                    0                     1  \n",
       "541                     0                    0                     1  \n",
       "116                     1                    0                     0  \n",
       "718                     1                    0                     0  \n",
       "496                     0                    0                     1  \n",
       "\n",
       "[5 rows x 37 columns]"
      ]
     },
     "execution_count": 93,
     "metadata": {},
     "output_type": "execute_result"
    }
   ],
   "source": [
    "# Setting up a scalar variable for use. We use a different scalar to see if the behavior differs\n",
    "scaler = preprocessing.StandardScaler()\n",
    "# All numerical columns would be scaled to secure best inference capability\n",
    "m2_train[num_cols] = scaler.fit_transform(m2_train[num_cols])\n",
    "m2_train.head()"
   ]
  },
  {
   "cell_type": "code",
   "execution_count": 94,
   "metadata": {},
   "outputs": [],
   "source": [
    "# Creating x & y sets\n",
    "copy_m2_train = m2_train.copy()\n",
    "y_train = copy_m2_train.pop('cnt')\n",
    "x_train = copy_m2_train"
   ]
  },
  {
   "cell_type": "code",
   "execution_count": 95,
   "metadata": {},
   "outputs": [
    {
     "name": "stdout",
     "output_type": "stream",
     "text": [
      "                            OLS Regression Results                            \n",
      "==============================================================================\n",
      "Dep. Variable:                    cnt   R-squared:                       0.432\n",
      "Model:                            OLS   Adj. R-squared:                  0.431\n",
      "Method:                 Least Squares   F-statistic:                     379.9\n",
      "Date:                Sat, 05 Dec 2020   Prob (F-statistic):           2.46e-63\n",
      "Time:                        12:32:07   Log-Likelihood:                -569.08\n",
      "No. Observations:                 501   AIC:                             1142.\n",
      "Df Residuals:                     499   BIC:                             1151.\n",
      "Df Model:                           1                                         \n",
      "Covariance Type:            nonrobust                                         \n",
      "==============================================================================\n",
      "                 coef    std err          t      P>|t|      [0.025      0.975]\n",
      "------------------------------------------------------------------------------\n",
      "const       2.294e-16      0.034    6.8e-15      1.000      -0.066       0.066\n",
      "atemp          0.6575      0.034     19.492      0.000       0.591       0.724\n",
      "==============================================================================\n",
      "Omnibus:                        5.262   Durbin-Watson:                   1.985\n",
      "Prob(Omnibus):                  0.072   Jarque-Bera (JB):                4.048\n",
      "Skew:                           0.103   Prob(JB):                        0.132\n",
      "Kurtosis:                       2.611   Cond. No.                         1.00\n",
      "==============================================================================\n",
      "\n",
      "Warnings:\n",
      "[1] Standard Errors assume that the covariance matrix of the errors is correctly specified.\n"
     ]
    }
   ],
   "source": [
    "# We will start building the model with numerical factors followed by categorical.\n",
    "# Add a constant\n",
    "x_train_manual = sm.add_constant(x_train[['atemp']])\n",
    "\n",
    "# Create a first fitted model\n",
    "lr_mod2 = sm.OLS(y_train, x_train_manual).fit()\n",
    "\n",
    "# Summary\n",
    "print(lr_mod2.summary())"
   ]
  },
  {
   "cell_type": "code",
   "execution_count": 96,
   "metadata": {},
   "outputs": [
    {
     "name": "stdout",
     "output_type": "stream",
     "text": [
      "                            OLS Regression Results                            \n",
      "==============================================================================\n",
      "Dep. Variable:                    cnt   R-squared:                       0.436\n",
      "Model:                            OLS   Adj. R-squared:                  0.434\n",
      "Method:                 Least Squares   F-statistic:                     192.8\n",
      "Date:                Sat, 05 Dec 2020   Prob (F-statistic):           9.87e-63\n",
      "Time:                        12:32:07   Log-Likelihood:                -567.25\n",
      "No. Observations:                 501   AIC:                             1141.\n",
      "Df Residuals:                     498   BIC:                             1153.\n",
      "Df Model:                           2                                         \n",
      "Covariance Type:            nonrobust                                         \n",
      "===============================================================================\n",
      "                  coef    std err          t      P>|t|      [0.025      0.975]\n",
      "-------------------------------------------------------------------------------\n",
      "const           0.0525      0.043      1.207      0.228      -0.033       0.138\n",
      "atemp           0.7148      0.045     15.843      0.000       0.626       0.803\n",
      "season_fall    -0.1934      0.101     -1.906      0.057      -0.393       0.006\n",
      "==============================================================================\n",
      "Omnibus:                        3.546   Durbin-Watson:                   1.982\n",
      "Prob(Omnibus):                  0.170   Jarque-Bera (JB):                3.048\n",
      "Skew:                           0.102   Prob(JB):                        0.218\n",
      "Kurtosis:                       2.677   Cond. No.                         3.55\n",
      "==============================================================================\n",
      "\n",
      "Warnings:\n",
      "[1] Standard Errors assume that the covariance matrix of the errors is correctly specified.\n"
     ]
    }
   ],
   "source": [
    "# Considering we have many other variables. we will try adding other variables and retain them only if they show significant increase in r square value and ofcourse limited impact to adjusted R square value\n",
    "# Add a constant\n",
    "x_train_manual = sm.add_constant(x_train[['atemp','season_fall']])\n",
    "# Create a first fitted model\n",
    "lr_mod2 = sm.OLS(y_train, x_train_manual).fit()\n",
    "# Summary\n",
    "print(lr_mod2.summary())"
   ]
  },
  {
   "cell_type": "code",
   "execution_count": 97,
   "metadata": {},
   "outputs": [
    {
     "name": "stdout",
     "output_type": "stream",
     "text": [
      "                            OLS Regression Results                            \n",
      "==============================================================================\n",
      "Dep. Variable:                    cnt   R-squared:                       0.470\n",
      "Model:                            OLS   Adj. R-squared:                  0.468\n",
      "Method:                 Least Squares   F-statistic:                     221.2\n",
      "Date:                Sat, 05 Dec 2020   Prob (F-statistic):           1.83e-69\n",
      "Time:                        12:32:07   Log-Likelihood:                -551.66\n",
      "No. Observations:                 501   AIC:                             1109.\n",
      "Df Residuals:                     498   BIC:                             1122.\n",
      "Df Model:                           2                                         \n",
      "Covariance Type:            nonrobust                                         \n",
      "=================================================================================\n",
      "                    coef    std err          t      P>|t|      [0.025      0.975]\n",
      "---------------------------------------------------------------------------------\n",
      "const             0.1412      0.040      3.508      0.000       0.062       0.220\n",
      "atemp             0.5011      0.042     11.996      0.000       0.419       0.583\n",
      "season_spring    -0.5844      0.098     -5.988      0.000      -0.776      -0.393\n",
      "==============================================================================\n",
      "Omnibus:                        3.704   Durbin-Watson:                   2.023\n",
      "Prob(Omnibus):                  0.157   Jarque-Bera (JB):                2.816\n",
      "Skew:                           0.020   Prob(JB):                        0.245\n",
      "Kurtosis:                       2.635   Cond. No.                         3.42\n",
      "==============================================================================\n",
      "\n",
      "Warnings:\n",
      "[1] Standard Errors assume that the covariance matrix of the errors is correctly specified.\n"
     ]
    }
   ],
   "source": [
    "# There is no much improvement in R square and the features turn out to be insignificant.\n",
    "# This means they are collinear and hence ignoring and moving with another variable\n",
    "x_train_manual = sm.add_constant(x_train[['atemp','season_spring']])\n",
    "# Create a first fitted model\n",
    "lr_mod2 = sm.OLS(y_train, x_train_manual).fit()\n",
    "# Summary\n",
    "print(lr_mod2.summary())"
   ]
  },
  {
   "cell_type": "code",
   "execution_count": 98,
   "metadata": {},
   "outputs": [
    {
     "name": "stdout",
     "output_type": "stream",
     "text": [
      "                            OLS Regression Results                            \n",
      "==============================================================================\n",
      "Dep. Variable:                    cnt   R-squared:                       0.472\n",
      "Model:                            OLS   Adj. R-squared:                  0.468\n",
      "Method:                 Least Squares   F-statistic:                     147.9\n",
      "Date:                Sat, 05 Dec 2020   Prob (F-statistic):           1.71e-68\n",
      "Time:                        12:32:07   Log-Likelihood:                -551.07\n",
      "No. Observations:                 501   AIC:                             1110.\n",
      "Df Residuals:                     497   BIC:                             1127.\n",
      "Df Model:                           3                                         \n",
      "Covariance Type:            nonrobust                                         \n",
      "=================================================================================\n",
      "                    coef    std err          t      P>|t|      [0.025      0.975]\n",
      "---------------------------------------------------------------------------------\n",
      "const             0.1704      0.048      3.519      0.000       0.075       0.265\n",
      "atemp             0.4973      0.042     11.865      0.000       0.415       0.580\n",
      "season_spring    -0.6179      0.102     -6.038      0.000      -0.819      -0.417\n",
      "season_summer    -0.0875      0.081     -1.085      0.278      -0.246       0.071\n",
      "==============================================================================\n",
      "Omnibus:                        3.345   Durbin-Watson:                   2.026\n",
      "Prob(Omnibus):                  0.188   Jarque-Bera (JB):                2.606\n",
      "Skew:                           0.018   Prob(JB):                        0.272\n",
      "Kurtosis:                       2.649   Cond. No.                         3.85\n",
      "==============================================================================\n",
      "\n",
      "Warnings:\n",
      "[1] Standard Errors assume that the covariance matrix of the errors is correctly specified.\n"
     ]
    }
   ],
   "source": [
    "# atemp seems marginally better and hence will build model on same. The nest series of steps will repeat the same activity of adding/removign variables to find the best combination\n",
    "# Add a constant\n",
    "x_train_manual = sm.add_constant(x_train[['atemp','season_spring','season_summer']])\n",
    "# Create a first fitted model\n",
    "lr_mod2 = sm.OLS(y_train, x_train_manual).fit()\n",
    "# Summary\n",
    "print(lr_mod2.summary())"
   ]
  },
  {
   "cell_type": "code",
   "execution_count": 99,
   "metadata": {},
   "outputs": [
    {
     "name": "stdout",
     "output_type": "stream",
     "text": [
      "                            OLS Regression Results                            \n",
      "==============================================================================\n",
      "Dep. Variable:                    cnt   R-squared:                       0.477\n",
      "Model:                            OLS   Adj. R-squared:                  0.474\n",
      "Method:                 Least Squares   F-statistic:                     151.1\n",
      "Date:                Sat, 05 Dec 2020   Prob (F-statistic):           1.42e-69\n",
      "Time:                        12:32:07   Log-Likelihood:                -548.55\n",
      "No. Observations:                 501   AIC:                             1105.\n",
      "Df Residuals:                     497   BIC:                             1122.\n",
      "Df Model:                           3                                         \n",
      "Covariance Type:            nonrobust                                         \n",
      "=================================================================================\n",
      "                    coef    std err          t      P>|t|      [0.025      0.975]\n",
      "---------------------------------------------------------------------------------\n",
      "const             0.0406      0.057      0.714      0.475      -0.071       0.152\n",
      "atemp             0.5688      0.050     11.456      0.000       0.471       0.666\n",
      "season_spring    -0.4089      0.120     -3.409      0.001      -0.645      -0.173\n",
      "season_winter     0.2369      0.095      2.491      0.013       0.050       0.424\n",
      "==============================================================================\n",
      "Omnibus:                        2.017   Durbin-Watson:                   2.021\n",
      "Prob(Omnibus):                  0.365   Jarque-Bera (JB):                1.765\n",
      "Skew:                           0.005   Prob(JB):                        0.414\n",
      "Kurtosis:                       2.709   Cond. No.                         5.07\n",
      "==============================================================================\n",
      "\n",
      "Warnings:\n",
      "[1] Standard Errors assume that the covariance matrix of the errors is correctly specified.\n"
     ]
    }
   ],
   "source": [
    "# Add a constant\n",
    "x_train_manual = sm.add_constant(x_train[['atemp','season_spring','season_winter']])\n",
    "# Create a first fitted model\n",
    "lr_mod2 = sm.OLS(y_train, x_train_manual).fit()\n",
    "# Summary\n",
    "print(lr_mod2.summary())"
   ]
  },
  {
   "cell_type": "code",
   "execution_count": 100,
   "metadata": {},
   "outputs": [
    {
     "name": "stdout",
     "output_type": "stream",
     "text": [
      "                            OLS Regression Results                            \n",
      "==============================================================================\n",
      "Dep. Variable:                    cnt   R-squared:                       0.510\n",
      "Model:                            OLS   Adj. R-squared:                  0.506\n",
      "Method:                 Least Squares   F-statistic:                     129.2\n",
      "Date:                Sat, 05 Dec 2020   Prob (F-statistic):           1.71e-75\n",
      "Time:                        12:32:07   Log-Likelihood:                -532.10\n",
      "No. Observations:                 501   AIC:                             1074.\n",
      "Df Residuals:                     496   BIC:                             1095.\n",
      "Df Model:                           4                                         \n",
      "Covariance Type:            nonrobust                                         \n",
      "========================================================================================\n",
      "                           coef    std err          t      P>|t|      [0.025      0.975]\n",
      "----------------------------------------------------------------------------------------\n",
      "const                   -0.1880      0.068     -2.777      0.006      -0.321      -0.055\n",
      "atemp                    0.5507      0.048     11.427      0.000       0.456       0.645\n",
      "season_spring           -0.4176      0.116     -3.593      0.000      -0.646      -0.189\n",
      "season_winter            0.2423      0.092      2.630      0.009       0.061       0.423\n",
      "weathersit_VeryClear     0.3756      0.065      5.803      0.000       0.248       0.503\n",
      "==============================================================================\n",
      "Omnibus:                        5.826   Durbin-Watson:                   1.952\n",
      "Prob(Omnibus):                  0.054   Jarque-Bera (JB):                4.140\n",
      "Skew:                           0.073   Prob(JB):                        0.126\n",
      "Kurtosis:                       2.580   Cond. No.                         5.84\n",
      "==============================================================================\n",
      "\n",
      "Warnings:\n",
      "[1] Standard Errors assume that the covariance matrix of the errors is correctly specified.\n"
     ]
    }
   ],
   "source": [
    "# Add a constant\n",
    "x_train_manual = sm.add_constant(x_train[['atemp','season_spring','season_winter','weathersit_VeryClear']])\n",
    "# Create a first fitted model\n",
    "lr_mod2 = sm.OLS(y_train, x_train_manual).fit()\n",
    "# Summary\n",
    "print(lr_mod2.summary())"
   ]
  },
  {
   "cell_type": "code",
   "execution_count": 101,
   "metadata": {},
   "outputs": [
    {
     "name": "stdout",
     "output_type": "stream",
     "text": [
      "                            OLS Regression Results                            \n",
      "==============================================================================\n",
      "Dep. Variable:                    cnt   R-squared:                       0.540\n",
      "Model:                            OLS   Adj. R-squared:                  0.535\n",
      "Method:                 Least Squares   F-statistic:                     116.2\n",
      "Date:                Sat, 05 Dec 2020   Prob (F-statistic):           3.98e-81\n",
      "Time:                        12:32:07   Log-Likelihood:                -516.36\n",
      "No. Observations:                 501   AIC:                             1045.\n",
      "Df Residuals:                     495   BIC:                             1070.\n",
      "Df Model:                           5                                         \n",
      "Covariance Type:            nonrobust                                         \n",
      "========================================================================================\n",
      "                           coef    std err          t      P>|t|      [0.025      0.975]\n",
      "----------------------------------------------------------------------------------------\n",
      "const                   -0.1076      0.067     -1.601      0.110      -0.240       0.024\n",
      "atemp                    0.5314      0.047     11.337      0.000       0.439       0.624\n",
      "season_spring           -0.4697      0.113     -4.153      0.000      -0.692      -0.247\n",
      "season_winter            0.2516      0.089      2.814      0.005       0.076       0.427\n",
      "weathersit_VeryClear     0.3063      0.064      4.788      0.000       0.181       0.432\n",
      "weathersit_MildRain     -1.1603      0.205     -5.666      0.000      -1.563      -0.758\n",
      "==============================================================================\n",
      "Omnibus:                       11.412   Durbin-Watson:                   1.969\n",
      "Prob(Omnibus):                  0.003   Jarque-Bera (JB):                7.191\n",
      "Skew:                           0.133   Prob(JB):                       0.0274\n",
      "Kurtosis:                       2.477   Cond. No.                         8.48\n",
      "==============================================================================\n",
      "\n",
      "Warnings:\n",
      "[1] Standard Errors assume that the covariance matrix of the errors is correctly specified.\n"
     ]
    }
   ],
   "source": [
    "# Add a constant\n",
    "x_train_manual = sm.add_constant(x_train[['atemp','season_spring','season_winter','weathersit_VeryClear','weathersit_MildRain']])\n",
    "# Create a first fitted model\n",
    "lr_mod2 = sm.OLS(y_train, x_train_manual).fit()\n",
    "# Summary\n",
    "print(lr_mod2.summary())"
   ]
  },
  {
   "cell_type": "code",
   "execution_count": 102,
   "metadata": {},
   "outputs": [
    {
     "name": "stdout",
     "output_type": "stream",
     "text": [
      "                            OLS Regression Results                            \n",
      "==============================================================================\n",
      "Dep. Variable:                    cnt   R-squared:                       0.540\n",
      "Model:                            OLS   Adj. R-squared:                  0.535\n",
      "Method:                 Least Squares   F-statistic:                     116.2\n",
      "Date:                Sat, 05 Dec 2020   Prob (F-statistic):           3.98e-81\n",
      "Time:                        12:32:07   Log-Likelihood:                -516.36\n",
      "No. Observations:                 501   AIC:                             1045.\n",
      "Df Residuals:                     495   BIC:                             1070.\n",
      "Df Model:                           5                                         \n",
      "Covariance Type:            nonrobust                                         \n",
      "========================================================================================\n",
      "                           coef    std err          t      P>|t|      [0.025      0.975]\n",
      "----------------------------------------------------------------------------------------\n",
      "const                   -0.2942      0.061     -4.853      0.000      -0.413      -0.175\n",
      "atemp                    0.5314      0.047     11.337      0.000       0.439       0.624\n",
      "season_spring           -0.4697      0.113     -4.153      0.000      -0.692      -0.247\n",
      "season_winter            0.2516      0.089      2.814      0.005       0.076       0.427\n",
      "weathersit_VeryClear     0.4929      0.061      8.142      0.000       0.374       0.612\n",
      "weathersit_MildRain     -0.9737      0.150     -6.502      0.000      -1.268      -0.680\n",
      "weathersit_MildClear     0.1866      0.064      2.894      0.004       0.060       0.313\n",
      "==============================================================================\n",
      "Omnibus:                       11.412   Durbin-Watson:                   1.969\n",
      "Prob(Omnibus):                  0.003   Jarque-Bera (JB):                7.191\n",
      "Skew:                           0.133   Prob(JB):                       0.0274\n",
      "Kurtosis:                       2.477   Cond. No.                     2.29e+16\n",
      "==============================================================================\n",
      "\n",
      "Warnings:\n",
      "[1] Standard Errors assume that the covariance matrix of the errors is correctly specified.\n",
      "[2] The smallest eigenvalue is 1.58e-30. This might indicate that there are\n",
      "strong multicollinearity problems or that the design matrix is singular.\n"
     ]
    }
   ],
   "source": [
    "# Add a constant\n",
    "x_train_manual = sm.add_constant(x_train[['atemp','season_spring','season_winter','weathersit_VeryClear','weathersit_MildRain','weathersit_MildClear']])\n",
    "# Create a first fitted model\n",
    "lr_mod2 = sm.OLS(y_train, x_train_manual).fit()\n",
    "# Summary\n",
    "print(lr_mod2.summary())"
   ]
  },
  {
   "cell_type": "code",
   "execution_count": 103,
   "metadata": {},
   "outputs": [
    {
     "name": "stdout",
     "output_type": "stream",
     "text": [
      "                            OLS Regression Results                            \n",
      "==============================================================================\n",
      "Dep. Variable:                    cnt   R-squared:                       0.540\n",
      "Model:                            OLS   Adj. R-squared:                  0.534\n",
      "Method:                 Least Squares   F-statistic:                     96.66\n",
      "Date:                Sat, 05 Dec 2020   Prob (F-statistic):           4.51e-80\n",
      "Time:                        12:32:07   Log-Likelihood:                -516.36\n",
      "No. Observations:                 501   AIC:                             1047.\n",
      "Df Residuals:                     494   BIC:                             1076.\n",
      "Df Model:                           6                                         \n",
      "Covariance Type:            nonrobust                                         \n",
      "========================================================================================\n",
      "                           coef    std err          t      P>|t|      [0.025      0.975]\n",
      "----------------------------------------------------------------------------------------\n",
      "const                   -0.1103      0.075     -1.468      0.143      -0.258       0.037\n",
      "atemp                    0.5331      0.051     10.429      0.000       0.433       0.633\n",
      "season_spring           -0.4653      0.126     -3.685      0.000      -0.713      -0.217\n",
      "season_winter            0.2549      0.098      2.595      0.010       0.062       0.448\n",
      "weathersit_VeryClear     0.3063      0.064      4.784      0.000       0.181       0.432\n",
      "weathersit_MildRain     -1.1600      0.205     -5.657      0.000      -1.563      -0.757\n",
      "mnth_April               0.0105      0.131      0.080      0.936      -0.246       0.267\n",
      "==============================================================================\n",
      "Omnibus:                       11.347   Durbin-Watson:                   1.969\n",
      "Prob(Omnibus):                  0.003   Jarque-Bera (JB):                7.160\n",
      "Skew:                           0.132   Prob(JB):                       0.0279\n",
      "Kurtosis:                       2.478   Cond. No.                         8.55\n",
      "==============================================================================\n",
      "\n",
      "Warnings:\n",
      "[1] Standard Errors assume that the covariance matrix of the errors is correctly specified.\n"
     ]
    }
   ],
   "source": [
    "# Add a constant\n",
    "x_train_manual = sm.add_constant(x_train[['atemp','season_spring','season_winter','weathersit_VeryClear','weathersit_MildRain','mnth_April']])\n",
    "# Create a first fitted model\n",
    "lr_mod2 = sm.OLS(y_train, x_train_manual).fit()\n",
    "# Summary\n",
    "print(lr_mod2.summary())"
   ]
  },
  {
   "cell_type": "code",
   "execution_count": 104,
   "metadata": {},
   "outputs": [
    {
     "name": "stdout",
     "output_type": "stream",
     "text": [
      "                            OLS Regression Results                            \n",
      "==============================================================================\n",
      "Dep. Variable:                    cnt   R-squared:                       0.540\n",
      "Model:                            OLS   Adj. R-squared:                  0.534\n",
      "Method:                 Least Squares   F-statistic:                     96.66\n",
      "Date:                Sat, 05 Dec 2020   Prob (F-statistic):           4.52e-80\n",
      "Time:                        12:32:07   Log-Likelihood:                -516.36\n",
      "No. Observations:                 501   AIC:                             1047.\n",
      "Df Residuals:                     494   BIC:                             1076.\n",
      "Df Model:                           6                                         \n",
      "Covariance Type:            nonrobust                                         \n",
      "========================================================================================\n",
      "                           coef    std err          t      P>|t|      [0.025      0.975]\n",
      "----------------------------------------------------------------------------------------\n",
      "const                   -0.1070      0.069     -1.557      0.120      -0.242       0.028\n",
      "atemp                    0.5318      0.048     11.141      0.000       0.438       0.626\n",
      "season_spring           -0.4699      0.113     -4.147      0.000      -0.693      -0.247\n",
      "season_winter            0.2511      0.090      2.788      0.006       0.074       0.428\n",
      "weathersit_VeryClear     0.3063      0.064      4.783      0.000       0.180       0.432\n",
      "weathersit_MildRain     -1.1606      0.205     -5.659      0.000      -1.564      -0.758\n",
      "mnth_August             -0.0051      0.115     -0.045      0.964      -0.231       0.221\n",
      "==============================================================================\n",
      "Omnibus:                       11.457   Durbin-Watson:                   1.970\n",
      "Prob(Omnibus):                  0.003   Jarque-Bera (JB):                7.210\n",
      "Skew:                           0.133   Prob(JB):                       0.0272\n",
      "Kurtosis:                       2.476   Cond. No.                         8.50\n",
      "==============================================================================\n",
      "\n",
      "Warnings:\n",
      "[1] Standard Errors assume that the covariance matrix of the errors is correctly specified.\n"
     ]
    }
   ],
   "source": [
    "# Add a constant\n",
    "x_train_manual = sm.add_constant(x_train[['atemp','season_spring','season_winter','weathersit_VeryClear','weathersit_MildRain','mnth_August']])\n",
    "# Create a first fitted model\n",
    "lr_mod2 = sm.OLS(y_train, x_train_manual).fit()\n",
    "# Summary\n",
    "print(lr_mod2.summary())"
   ]
  },
  {
   "cell_type": "code",
   "execution_count": 105,
   "metadata": {},
   "outputs": [
    {
     "name": "stdout",
     "output_type": "stream",
     "text": [
      "                            OLS Regression Results                            \n",
      "==============================================================================\n",
      "Dep. Variable:                    cnt   R-squared:                       0.540\n",
      "Model:                            OLS   Adj. R-squared:                  0.535\n",
      "Method:                 Least Squares   F-statistic:                     96.80\n",
      "Date:                Sat, 05 Dec 2020   Prob (F-statistic):           3.71e-80\n",
      "Time:                        12:32:07   Log-Likelihood:                -516.16\n",
      "No. Observations:                 501   AIC:                             1046.\n",
      "Df Residuals:                     494   BIC:                             1076.\n",
      "Df Model:                           6                                         \n",
      "Covariance Type:            nonrobust                                         \n",
      "========================================================================================\n",
      "                           coef    std err          t      P>|t|      [0.025      0.975]\n",
      "----------------------------------------------------------------------------------------\n",
      "const                   -0.1029      0.068     -1.522      0.129      -0.236       0.030\n",
      "atemp                    0.5272      0.047     11.125      0.000       0.434       0.620\n",
      "season_spring           -0.4680      0.113     -4.134      0.000      -0.690      -0.246\n",
      "season_winter            0.2644      0.092      2.883      0.004       0.084       0.445\n",
      "weathersit_VeryClear     0.3038      0.064      4.738      0.000       0.178       0.430\n",
      "weathersit_MildRain     -1.1669      0.205     -5.687      0.000      -1.570      -0.764\n",
      "mnth_December           -0.0730      0.115     -0.634      0.527      -0.299       0.153\n",
      "==============================================================================\n",
      "Omnibus:                       11.533   Durbin-Watson:                   1.967\n",
      "Prob(Omnibus):                  0.003   Jarque-Bera (JB):                7.132\n",
      "Skew:                           0.125   Prob(JB):                       0.0283\n",
      "Kurtosis:                       2.471   Cond. No.                         8.52\n",
      "==============================================================================\n",
      "\n",
      "Warnings:\n",
      "[1] Standard Errors assume that the covariance matrix of the errors is correctly specified.\n"
     ]
    }
   ],
   "source": [
    "# Add a constant\n",
    "x_train_manual = sm.add_constant(x_train[['atemp','season_spring','season_winter','weathersit_VeryClear','weathersit_MildRain','mnth_December']])\n",
    "# Create a first fitted model\n",
    "lr_mod2 = sm.OLS(y_train, x_train_manual).fit()\n",
    "# Summary\n",
    "print(lr_mod2.summary())"
   ]
  },
  {
   "cell_type": "code",
   "execution_count": 106,
   "metadata": {},
   "outputs": [
    {
     "name": "stdout",
     "output_type": "stream",
     "text": [
      "                            OLS Regression Results                            \n",
      "==============================================================================\n",
      "Dep. Variable:                    cnt   R-squared:                       0.540\n",
      "Model:                            OLS   Adj. R-squared:                  0.534\n",
      "Method:                 Least Squares   F-statistic:                     96.68\n",
      "Date:                Sat, 05 Dec 2020   Prob (F-statistic):           4.38e-80\n",
      "Time:                        12:32:08   Log-Likelihood:                -516.33\n",
      "No. Observations:                 501   AIC:                             1047.\n",
      "Df Residuals:                     494   BIC:                             1076.\n",
      "Df Model:                           6                                         \n",
      "Covariance Type:            nonrobust                                         \n",
      "========================================================================================\n",
      "                           coef    std err          t      P>|t|      [0.025      0.975]\n",
      "----------------------------------------------------------------------------------------\n",
      "const                   -0.1070      0.067     -1.590      0.113      -0.239       0.025\n",
      "atemp                    0.5310      0.047     11.309      0.000       0.439       0.623\n",
      "season_spring           -0.4800      0.121     -3.983      0.000      -0.717      -0.243\n",
      "season_winter            0.2511      0.090      2.806      0.005       0.075       0.427\n",
      "weathersit_VeryClear     0.3058      0.064      4.774      0.000       0.180       0.432\n",
      "weathersit_MildRain     -1.1600      0.205     -5.658      0.000      -1.563      -0.757\n",
      "mnth_February            0.0348      0.140      0.249      0.803      -0.239       0.309\n",
      "==============================================================================\n",
      "Omnibus:                       11.225   Durbin-Watson:                   1.967\n",
      "Prob(Omnibus):                  0.004   Jarque-Bera (JB):                7.135\n",
      "Skew:                           0.134   Prob(JB):                       0.0282\n",
      "Kurtosis:                       2.481   Cond. No.                         8.50\n",
      "==============================================================================\n",
      "\n",
      "Warnings:\n",
      "[1] Standard Errors assume that the covariance matrix of the errors is correctly specified.\n"
     ]
    }
   ],
   "source": [
    "# Add a constant\n",
    "x_train_manual = sm.add_constant(x_train[['atemp','season_spring','season_winter','weathersit_VeryClear','weathersit_MildRain','mnth_February']])\n",
    "# Create a first fitted model\n",
    "lr_mod2 = sm.OLS(y_train, x_train_manual).fit()\n",
    "# Summary\n",
    "print(lr_mod2.summary())"
   ]
  },
  {
   "cell_type": "code",
   "execution_count": 107,
   "metadata": {},
   "outputs": [
    {
     "name": "stdout",
     "output_type": "stream",
     "text": [
      "                            OLS Regression Results                            \n",
      "==============================================================================\n",
      "Dep. Variable:                    cnt   R-squared:                       0.541\n",
      "Model:                            OLS   Adj. R-squared:                  0.535\n",
      "Method:                 Least Squares   F-statistic:                     96.90\n",
      "Date:                Sat, 05 Dec 2020   Prob (F-statistic):           3.24e-80\n",
      "Time:                        12:32:08   Log-Likelihood:                -516.02\n",
      "No. Observations:                 501   AIC:                             1046.\n",
      "Df Residuals:                     494   BIC:                             1076.\n",
      "Df Model:                           6                                         \n",
      "Covariance Type:            nonrobust                                         \n",
      "========================================================================================\n",
      "                           coef    std err          t      P>|t|      [0.025      0.975]\n",
      "----------------------------------------------------------------------------------------\n",
      "const                   -0.1023      0.068     -1.515      0.131      -0.235       0.030\n",
      "atemp                    0.5233      0.048     10.921      0.000       0.429       0.617\n",
      "season_spring           -0.4435      0.118     -3.772      0.000      -0.675      -0.212\n",
      "season_winter            0.2430      0.090      2.700      0.007       0.066       0.420\n",
      "weathersit_VeryClear     0.3066      0.064      4.792      0.000       0.181       0.432\n",
      "weathersit_MildRain     -1.1573      0.205     -5.648      0.000      -1.560      -0.755\n",
      "mnth_January            -0.1072      0.131     -0.820      0.413      -0.364       0.150\n",
      "==============================================================================\n",
      "Omnibus:                       12.398   Durbin-Watson:                   1.964\n",
      "Prob(Omnibus):                  0.002   Jarque-Bera (JB):                7.525\n",
      "Skew:                           0.129   Prob(JB):                       0.0232\n",
      "Kurtosis:                       2.458   Cond. No.                         8.52\n",
      "==============================================================================\n",
      "\n",
      "Warnings:\n",
      "[1] Standard Errors assume that the covariance matrix of the errors is correctly specified.\n"
     ]
    }
   ],
   "source": [
    "# Add a constant\n",
    "x_train_manual = sm.add_constant(x_train[['atemp','season_spring','season_winter','weathersit_VeryClear','weathersit_MildRain','mnth_January']])\n",
    "# Create a first fitted model\n",
    "lr_mod2 = sm.OLS(y_train, x_train_manual).fit()\n",
    "# Summary\n",
    "print(lr_mod2.summary())"
   ]
  },
  {
   "cell_type": "code",
   "execution_count": 108,
   "metadata": {},
   "outputs": [
    {
     "name": "stdout",
     "output_type": "stream",
     "text": [
      "                            OLS Regression Results                            \n",
      "==============================================================================\n",
      "Dep. Variable:                    cnt   R-squared:                       0.545\n",
      "Model:                            OLS   Adj. R-squared:                  0.539\n",
      "Method:                 Least Squares   F-statistic:                     98.61\n",
      "Date:                Sat, 05 Dec 2020   Prob (F-statistic):           3.16e-81\n",
      "Time:                        12:32:08   Log-Likelihood:                -513.64\n",
      "No. Observations:                 501   AIC:                             1041.\n",
      "Df Residuals:                     494   BIC:                             1071.\n",
      "Df Model:                           6                                         \n",
      "Covariance Type:            nonrobust                                         \n",
      "========================================================================================\n",
      "                           coef    std err          t      P>|t|      [0.025      0.975]\n",
      "----------------------------------------------------------------------------------------\n",
      "const                   -0.0930      0.067     -1.384      0.167      -0.225       0.039\n",
      "atemp                    0.5698      0.050     11.508      0.000       0.473       0.667\n",
      "season_spring           -0.4473      0.113     -3.958      0.000      -0.669      -0.225\n",
      "season_winter            0.2442      0.089      2.742      0.006       0.069       0.419\n",
      "weathersit_VeryClear     0.3155      0.064      4.945      0.000       0.190       0.441\n",
      "weathersit_MildRain     -1.1373      0.204     -5.571      0.000      -1.538      -0.736\n",
      "mnth_July               -0.2778      0.120     -2.321      0.021      -0.513      -0.043\n",
      "==============================================================================\n",
      "Omnibus:                       13.760   Durbin-Watson:                   1.953\n",
      "Prob(Omnibus):                  0.001   Jarque-Bera (JB):                8.060\n",
      "Skew:                           0.131   Prob(JB):                       0.0178\n",
      "Kurtosis:                       2.437   Cond. No.                         8.51\n",
      "==============================================================================\n",
      "\n",
      "Warnings:\n",
      "[1] Standard Errors assume that the covariance matrix of the errors is correctly specified.\n"
     ]
    }
   ],
   "source": [
    "# Add a constant\n",
    "x_train_manual = sm.add_constant(x_train[['atemp','season_spring','season_winter','weathersit_VeryClear','weathersit_MildRain','mnth_July']])\n",
    "# Create a first fitted model\n",
    "lr_mod2 = sm.OLS(y_train, x_train_manual).fit()\n",
    "# Summary\n",
    "print(lr_mod2.summary())"
   ]
  },
  {
   "cell_type": "code",
   "execution_count": 109,
   "metadata": {},
   "outputs": [
    {
     "name": "stdout",
     "output_type": "stream",
     "text": [
      "                            OLS Regression Results                            \n",
      "==============================================================================\n",
      "Dep. Variable:                    cnt   R-squared:                       0.546\n",
      "Model:                            OLS   Adj. R-squared:                  0.539\n",
      "Method:                 Least Squares   F-statistic:                     84.54\n",
      "Date:                Sat, 05 Dec 2020   Prob (F-statistic):           2.45e-80\n",
      "Time:                        12:32:08   Log-Likelihood:                -513.34\n",
      "No. Observations:                 501   AIC:                             1043.\n",
      "Df Residuals:                     493   BIC:                             1076.\n",
      "Df Model:                           7                                         \n",
      "Covariance Type:            nonrobust                                         \n",
      "========================================================================================\n",
      "                           coef    std err          t      P>|t|      [0.025      0.975]\n",
      "----------------------------------------------------------------------------------------\n",
      "const                   -0.0823      0.069     -1.198      0.231      -0.217       0.053\n",
      "atemp                    0.5785      0.051     11.390      0.000       0.479       0.678\n",
      "season_spring           -0.4493      0.113     -3.972      0.000      -0.672      -0.227\n",
      "season_winter            0.2359      0.090      2.628      0.009       0.060       0.412\n",
      "weathersit_VeryClear     0.3169      0.064      4.962      0.000       0.191       0.442\n",
      "weathersit_MildRain     -1.1389      0.204     -5.576      0.000      -1.540      -0.738\n",
      "mnth_July               -0.3012      0.124     -2.438      0.015      -0.544      -0.058\n",
      "mnth_June               -0.0993      0.129     -0.770      0.442      -0.353       0.154\n",
      "==============================================================================\n",
      "Omnibus:                       12.794   Durbin-Watson:                   1.952\n",
      "Prob(Omnibus):                  0.002   Jarque-Bera (JB):                7.590\n",
      "Skew:                           0.123   Prob(JB):                       0.0225\n",
      "Kurtosis:                       2.449   Cond. No.                         8.52\n",
      "==============================================================================\n",
      "\n",
      "Warnings:\n",
      "[1] Standard Errors assume that the covariance matrix of the errors is correctly specified.\n"
     ]
    }
   ],
   "source": [
    "# Add a constant\n",
    "x_train_manual = sm.add_constant(x_train[['atemp','season_spring','season_winter','weathersit_VeryClear','weathersit_MildRain','mnth_July','mnth_June']])\n",
    "# Create a first fitted model\n",
    "lr_mod2 = sm.OLS(y_train, x_train_manual).fit()\n",
    "# Summary\n",
    "print(lr_mod2.summary())"
   ]
  },
  {
   "cell_type": "code",
   "execution_count": 110,
   "metadata": {},
   "outputs": [
    {
     "name": "stdout",
     "output_type": "stream",
     "text": [
      "                            OLS Regression Results                            \n",
      "==============================================================================\n",
      "Dep. Variable:                    cnt   R-squared:                       0.547\n",
      "Model:                            OLS   Adj. R-squared:                  0.540\n",
      "Method:                 Least Squares   F-statistic:                     84.94\n",
      "Date:                Sat, 05 Dec 2020   Prob (F-statistic):           1.30e-80\n",
      "Time:                        12:32:08   Log-Likelihood:                -512.70\n",
      "No. Observations:                 501   AIC:                             1041.\n",
      "Df Residuals:                     493   BIC:                             1075.\n",
      "Df Model:                           7                                         \n",
      "Covariance Type:            nonrobust                                         \n",
      "========================================================================================\n",
      "                           coef    std err          t      P>|t|      [0.025      0.975]\n",
      "----------------------------------------------------------------------------------------\n",
      "const                   -0.1109      0.068     -1.621      0.106      -0.245       0.023\n",
      "atemp                    0.5751      0.050     11.589      0.000       0.478       0.673\n",
      "season_spring           -0.4595      0.113     -4.056      0.000      -0.682      -0.237\n",
      "season_winter            0.2616      0.090      2.910      0.004       0.085       0.438\n",
      "weathersit_VeryClear     0.3198      0.064      5.011      0.000       0.194       0.445\n",
      "weathersit_MildRain     -1.1389      0.204     -5.584      0.000      -1.540      -0.738\n",
      "mnth_July               -0.2702      0.120     -2.257      0.024      -0.505      -0.035\n",
      "mnth_March               0.1553      0.114      1.368      0.172      -0.068       0.378\n",
      "==============================================================================\n",
      "Omnibus:                       15.807   Durbin-Watson:                   1.966\n",
      "Prob(Omnibus):                  0.000   Jarque-Bera (JB):                8.430\n",
      "Skew:                           0.105   Prob(JB):                       0.0148\n",
      "Kurtosis:                       2.400   Cond. No.                         8.53\n",
      "==============================================================================\n",
      "\n",
      "Warnings:\n",
      "[1] Standard Errors assume that the covariance matrix of the errors is correctly specified.\n"
     ]
    }
   ],
   "source": [
    "# Add a constant\n",
    "x_train_manual = sm.add_constant(x_train[['atemp','season_spring','season_winter','weathersit_VeryClear','weathersit_MildRain','mnth_July','mnth_March']])\n",
    "# Create a first fitted model\n",
    "lr_mod2 = sm.OLS(y_train, x_train_manual).fit()\n",
    "# Summary\n",
    "print(lr_mod2.summary())"
   ]
  },
  {
   "cell_type": "code",
   "execution_count": 111,
   "metadata": {},
   "outputs": [
    {
     "name": "stdout",
     "output_type": "stream",
     "text": [
      "                            OLS Regression Results                            \n",
      "==============================================================================\n",
      "Dep. Variable:                    cnt   R-squared:                       0.545\n",
      "Model:                            OLS   Adj. R-squared:                  0.539\n",
      "Method:                 Least Squares   F-statistic:                     84.37\n",
      "Date:                Sat, 05 Dec 2020   Prob (F-statistic):           3.18e-80\n",
      "Time:                        12:32:08   Log-Likelihood:                -513.61\n",
      "No. Observations:                 501   AIC:                             1043.\n",
      "Df Residuals:                     493   BIC:                             1077.\n",
      "Df Model:                           7                                         \n",
      "Covariance Type:            nonrobust                                         \n",
      "========================================================================================\n",
      "                           coef    std err          t      P>|t|      [0.025      0.975]\n",
      "----------------------------------------------------------------------------------------\n",
      "const                   -0.0870      0.071     -1.219      0.223      -0.227       0.053\n",
      "atemp                    0.5702      0.050     11.499      0.000       0.473       0.668\n",
      "season_spring           -0.4529      0.115     -3.928      0.000      -0.679      -0.226\n",
      "season_winter            0.2385      0.092      2.593      0.010       0.058       0.419\n",
      "weathersit_VeryClear     0.3154      0.064      4.938      0.000       0.190       0.441\n",
      "weathersit_MildRain     -1.1394      0.204     -5.572      0.000      -1.541      -0.738\n",
      "mnth_July               -0.2840      0.122     -2.320      0.021      -0.525      -0.044\n",
      "mnth_May                -0.0286      0.114     -0.250      0.802      -0.253       0.196\n",
      "==============================================================================\n",
      "Omnibus:                       13.790   Durbin-Watson:                   1.954\n",
      "Prob(Omnibus):                  0.001   Jarque-Bera (JB):                8.024\n",
      "Skew:                           0.128   Prob(JB):                       0.0181\n",
      "Kurtosis:                       2.435   Cond. No.                         8.55\n",
      "==============================================================================\n",
      "\n",
      "Warnings:\n",
      "[1] Standard Errors assume that the covariance matrix of the errors is correctly specified.\n"
     ]
    }
   ],
   "source": [
    "# Add a constant\n",
    "x_train_manual = sm.add_constant(x_train[['atemp','season_spring','season_winter','weathersit_VeryClear','weathersit_MildRain','mnth_July','mnth_May']])\n",
    "# Create a first fitted model\n",
    "lr_mod2 = sm.OLS(y_train, x_train_manual).fit()\n",
    "# Summary\n",
    "print(lr_mod2.summary())"
   ]
  },
  {
   "cell_type": "code",
   "execution_count": 112,
   "metadata": {},
   "outputs": [
    {
     "name": "stdout",
     "output_type": "stream",
     "text": [
      "                            OLS Regression Results                            \n",
      "==============================================================================\n",
      "Dep. Variable:                    cnt   R-squared:                       0.550\n",
      "Model:                            OLS   Adj. R-squared:                  0.543\n",
      "Method:                 Least Squares   F-statistic:                     85.95\n",
      "Date:                Sat, 05 Dec 2020   Prob (F-statistic):           2.66e-81\n",
      "Time:                        12:32:08   Log-Likelihood:                -511.07\n",
      "No. Observations:                 501   AIC:                             1038.\n",
      "Df Residuals:                     493   BIC:                             1072.\n",
      "Df Model:                           7                                         \n",
      "Covariance Type:            nonrobust                                         \n",
      "========================================================================================\n",
      "                           coef    std err          t      P>|t|      [0.025      0.975]\n",
      "----------------------------------------------------------------------------------------\n",
      "const                   -0.0924      0.067     -1.380      0.168      -0.224       0.039\n",
      "atemp                    0.5511      0.050     11.021      0.000       0.453       0.649\n",
      "season_spring           -0.4778      0.113     -4.214      0.000      -0.701      -0.255\n",
      "season_winter            0.3346      0.097      3.438      0.001       0.143       0.526\n",
      "weathersit_VeryClear     0.3313      0.064      5.182      0.000       0.206       0.457\n",
      "weathersit_MildRain     -1.1393      0.203     -5.604      0.000      -1.539      -0.740\n",
      "mnth_July               -0.2646      0.119     -2.217      0.027      -0.499      -0.030\n",
      "mnth_November           -0.2915      0.129     -2.257      0.024      -0.545      -0.038\n",
      "==============================================================================\n",
      "Omnibus:                       17.230   Durbin-Watson:                   1.931\n",
      "Prob(Omnibus):                  0.000   Jarque-Bera (JB):                9.341\n",
      "Skew:                           0.138   Prob(JB):                      0.00937\n",
      "Kurtosis:                       2.391   Cond. No.                         8.54\n",
      "==============================================================================\n",
      "\n",
      "Warnings:\n",
      "[1] Standard Errors assume that the covariance matrix of the errors is correctly specified.\n"
     ]
    }
   ],
   "source": [
    "# Add a constant\n",
    "x_train_manual = sm.add_constant(x_train[['atemp','season_spring','season_winter','weathersit_VeryClear','weathersit_MildRain','mnth_July','mnth_November']])\n",
    "# Create a first fitted model\n",
    "lr_mod2 = sm.OLS(y_train, x_train_manual).fit()\n",
    "# Summary\n",
    "print(lr_mod2.summary())"
   ]
  },
  {
   "cell_type": "code",
   "execution_count": 113,
   "metadata": {},
   "outputs": [
    {
     "name": "stdout",
     "output_type": "stream",
     "text": [
      "                            OLS Regression Results                            \n",
      "==============================================================================\n",
      "Dep. Variable:                    cnt   R-squared:                       0.550\n",
      "Model:                            OLS   Adj. R-squared:                  0.542\n",
      "Method:                 Least Squares   F-statistic:                     75.09\n",
      "Date:                Sat, 05 Dec 2020   Prob (F-statistic):           2.38e-80\n",
      "Time:                        12:32:08   Log-Likelihood:                -510.99\n",
      "No. Observations:                 501   AIC:                             1040.\n",
      "Df Residuals:                     492   BIC:                             1078.\n",
      "Df Model:                           8                                         \n",
      "Covariance Type:            nonrobust                                         \n",
      "========================================================================================\n",
      "                           coef    std err          t      P>|t|      [0.025      0.975]\n",
      "----------------------------------------------------------------------------------------\n",
      "const                   -0.0945      0.067     -1.406      0.160      -0.227       0.038\n",
      "atemp                    0.5542      0.051     10.926      0.000       0.455       0.654\n",
      "season_spring           -0.4725      0.114     -4.133      0.000      -0.697      -0.248\n",
      "season_winter            0.3664      0.128      2.853      0.005       0.114       0.619\n",
      "weathersit_VeryClear     0.3317      0.064      5.183      0.000       0.206       0.457\n",
      "weathersit_MildRain     -1.1327      0.204     -5.547      0.000      -1.534      -0.731\n",
      "mnth_July               -0.2673      0.120     -2.234      0.026      -0.502      -0.032\n",
      "mnth_November           -0.3198      0.149     -2.143      0.033      -0.613      -0.027\n",
      "mnth_October            -0.0591      0.156     -0.380      0.704      -0.365       0.247\n",
      "==============================================================================\n",
      "Omnibus:                       17.083   Durbin-Watson:                   1.934\n",
      "Prob(Omnibus):                  0.000   Jarque-Bera (JB):                9.366\n",
      "Skew:                           0.142   Prob(JB):                      0.00925\n",
      "Kurtosis:                       2.394   Cond. No.                         9.19\n",
      "==============================================================================\n",
      "\n",
      "Warnings:\n",
      "[1] Standard Errors assume that the covariance matrix of the errors is correctly specified.\n"
     ]
    }
   ],
   "source": [
    "# Add a constant\n",
    "x_train_manual = sm.add_constant(x_train[['atemp','season_spring','season_winter','weathersit_VeryClear','weathersit_MildRain','mnth_July','mnth_November','mnth_October']])\n",
    "# Create a first fitted model\n",
    "lr_mod2 = sm.OLS(y_train, x_train_manual).fit()\n",
    "# Summary\n",
    "print(lr_mod2.summary())"
   ]
  },
  {
   "cell_type": "code",
   "execution_count": 114,
   "metadata": {},
   "outputs": [
    {
     "name": "stdout",
     "output_type": "stream",
     "text": [
      "                            OLS Regression Results                            \n",
      "==============================================================================\n",
      "Dep. Variable:                    cnt   R-squared:                       0.555\n",
      "Model:                            OLS   Adj. R-squared:                  0.547\n",
      "Method:                 Least Squares   F-statistic:                     76.58\n",
      "Date:                Sat, 05 Dec 2020   Prob (F-statistic):           1.70e-81\n",
      "Time:                        12:32:08   Log-Likelihood:                -508.28\n",
      "No. Observations:                 501   AIC:                             1035.\n",
      "Df Residuals:                     492   BIC:                             1073.\n",
      "Df Model:                           8                                         \n",
      "Covariance Type:            nonrobust                                         \n",
      "========================================================================================\n",
      "                           coef    std err          t      P>|t|      [0.025      0.975]\n",
      "----------------------------------------------------------------------------------------\n",
      "const                   -0.1228      0.068     -1.809      0.071      -0.256       0.011\n",
      "atemp                    0.5311      0.051     10.515      0.000       0.432       0.630\n",
      "season_spring           -0.4694      0.113     -4.157      0.000      -0.691      -0.248\n",
      "season_winter            0.3285      0.097      3.391      0.001       0.138       0.519\n",
      "weathersit_VeryClear     0.3313      0.064      5.206      0.000       0.206       0.456\n",
      "weathersit_MildRain     -1.1660      0.203     -5.752      0.000      -1.564      -0.768\n",
      "mnth_July               -0.2063      0.121     -1.700      0.090      -0.445       0.032\n",
      "mnth_November           -0.2663      0.129     -2.064      0.040      -0.520      -0.013\n",
      "mnth_September           0.2629      0.112      2.348      0.019       0.043       0.483\n",
      "==============================================================================\n",
      "Omnibus:                       20.834   Durbin-Watson:                   1.946\n",
      "Prob(Omnibus):                  0.000   Jarque-Bera (JB):               10.332\n",
      "Skew:                           0.131   Prob(JB):                      0.00571\n",
      "Kurtosis:                       2.347   Cond. No.                         8.58\n",
      "==============================================================================\n",
      "\n",
      "Warnings:\n",
      "[1] Standard Errors assume that the covariance matrix of the errors is correctly specified.\n"
     ]
    }
   ],
   "source": [
    "# Add a constant\n",
    "x_train_manual = sm.add_constant(x_train[['atemp','season_spring','season_winter','weathersit_VeryClear','weathersit_MildRain','mnth_July','mnth_November','mnth_September']])\n",
    "# Create a first fitted model\n",
    "lr_mod2 = sm.OLS(y_train, x_train_manual).fit()\n",
    "# Summary\n",
    "print(lr_mod2.summary())"
   ]
  },
  {
   "cell_type": "code",
   "execution_count": 115,
   "metadata": {},
   "outputs": [
    {
     "name": "stdout",
     "output_type": "stream",
     "text": [
      "                            OLS Regression Results                            \n",
      "==============================================================================\n",
      "Dep. Variable:                    cnt   R-squared:                       0.554\n",
      "Model:                            OLS   Adj. R-squared:                  0.546\n",
      "Method:                 Least Squares   F-statistic:                     76.27\n",
      "Date:                Sat, 05 Dec 2020   Prob (F-statistic):           2.98e-81\n",
      "Time:                        12:32:08   Log-Likelihood:                -508.86\n",
      "No. Observations:                 501   AIC:                             1036.\n",
      "Df Residuals:                     492   BIC:                             1074.\n",
      "Df Model:                           8                                         \n",
      "Covariance Type:            nonrobust                                         \n",
      "========================================================================================\n",
      "                           coef    std err          t      P>|t|      [0.025      0.975]\n",
      "----------------------------------------------------------------------------------------\n",
      "const                   -0.2000      0.082     -2.432      0.015      -0.362      -0.038\n",
      "atemp                    0.4981      0.047     10.553      0.000       0.405       0.591\n",
      "season_spring           -0.4844      0.113     -4.299      0.000      -0.706      -0.263\n",
      "season_winter            0.3368      0.097      3.476      0.001       0.146       0.527\n",
      "weathersit_VeryClear     0.3297      0.064      5.176      0.000       0.205       0.455\n",
      "weathersit_MildRain     -1.1910      0.203     -5.878      0.000      -1.589      -0.793\n",
      "mnth_November           -0.2709      0.129     -2.099      0.036      -0.525      -0.017\n",
      "mnth_September           0.3084      0.110      2.807      0.005       0.093       0.524\n",
      "workingday_Break         0.0859      0.065      1.322      0.187      -0.042       0.214\n",
      "==============================================================================\n",
      "Omnibus:                       16.506   Durbin-Watson:                   1.950\n",
      "Prob(Omnibus):                  0.000   Jarque-Bera (JB):                9.288\n",
      "Skew:                           0.149   Prob(JB):                      0.00962\n",
      "Kurtosis:                       2.404   Cond. No.                         9.76\n",
      "==============================================================================\n",
      "\n",
      "Warnings:\n",
      "[1] Standard Errors assume that the covariance matrix of the errors is correctly specified.\n"
     ]
    }
   ],
   "source": [
    "# until now, Winter & September do not seem to bring a huge impact, we will drop them later in case of overfitting\n",
    "# Add a constant\n",
    "x_train_manual = sm.add_constant(x_train[['atemp','season_spring','season_winter',\\\n",
    "                                          'weathersit_VeryClear','weathersit_MildRain','mnth_November','mnth_September','workingday_Break']])\n",
    "# Create a first fitted model\n",
    "lr_mod2 = sm.OLS(y_train, x_train_manual).fit()\n",
    "# Summary\n",
    "print(lr_mod2.summary())"
   ]
  },
  {
   "cell_type": "code",
   "execution_count": 116,
   "metadata": {},
   "outputs": [
    {
     "name": "stdout",
     "output_type": "stream",
     "text": [
      "                            OLS Regression Results                            \n",
      "==============================================================================\n",
      "Dep. Variable:                    cnt   R-squared:                       0.554\n",
      "Model:                            OLS   Adj. R-squared:                  0.546\n",
      "Method:                 Least Squares   F-statistic:                     76.27\n",
      "Date:                Sat, 05 Dec 2020   Prob (F-statistic):           2.98e-81\n",
      "Time:                        12:32:08   Log-Likelihood:                -508.86\n",
      "No. Observations:                 501   AIC:                             1036.\n",
      "Df Residuals:                     492   BIC:                             1074.\n",
      "Df Model:                           8                                         \n",
      "Covariance Type:            nonrobust                                         \n",
      "========================================================================================\n",
      "                           coef    std err          t      P>|t|      [0.025      0.975]\n",
      "----------------------------------------------------------------------------------------\n",
      "const                   -0.1141      0.070     -1.636      0.102      -0.251       0.023\n",
      "atemp                    0.4981      0.047     10.553      0.000       0.405       0.591\n",
      "season_spring           -0.4844      0.113     -4.299      0.000      -0.706      -0.263\n",
      "season_winter            0.3368      0.097      3.476      0.001       0.146       0.527\n",
      "weathersit_VeryClear     0.3297      0.064      5.176      0.000       0.205       0.455\n",
      "weathersit_MildRain     -1.1910      0.203     -5.878      0.000      -1.589      -0.793\n",
      "mnth_November           -0.2709      0.129     -2.099      0.036      -0.525      -0.017\n",
      "mnth_September           0.3084      0.110      2.807      0.005       0.093       0.524\n",
      "workingday_Work         -0.0859      0.065     -1.322      0.187      -0.214       0.042\n",
      "==============================================================================\n",
      "Omnibus:                       16.506   Durbin-Watson:                   1.950\n",
      "Prob(Omnibus):                  0.000   Jarque-Bera (JB):                9.288\n",
      "Skew:                           0.149   Prob(JB):                      0.00962\n",
      "Kurtosis:                       2.404   Cond. No.                         8.84\n",
      "==============================================================================\n",
      "\n",
      "Warnings:\n",
      "[1] Standard Errors assume that the covariance matrix of the errors is correctly specified.\n"
     ]
    }
   ],
   "source": [
    "# Add a constant\n",
    "x_train_manual = sm.add_constant(x_train[['atemp','season_spring','season_winter',\\\n",
    "                                          'weathersit_VeryClear','weathersit_MildRain','mnth_November','mnth_September','workingday_Work']])\n",
    "# Create a first fitted model\n",
    "lr_mod2 = sm.OLS(y_train, x_train_manual).fit()\n",
    "# Summary\n",
    "print(lr_mod2.summary())"
   ]
  },
  {
   "cell_type": "code",
   "execution_count": 117,
   "metadata": {},
   "outputs": [
    {
     "name": "stdout",
     "output_type": "stream",
     "text": [
      "                            OLS Regression Results                            \n",
      "==============================================================================\n",
      "Dep. Variable:                    cnt   R-squared:                       0.558\n",
      "Model:                            OLS   Adj. R-squared:                  0.551\n",
      "Method:                 Least Squares   F-statistic:                     77.59\n",
      "Date:                Sat, 05 Dec 2020   Prob (F-statistic):           2.92e-82\n",
      "Time:                        12:32:09   Log-Likelihood:                -506.47\n",
      "No. Observations:                 501   AIC:                             1031.\n",
      "Df Residuals:                     492   BIC:                             1069.\n",
      "Df Model:                           8                                         \n",
      "Covariance Type:            nonrobust                                         \n",
      "========================================================================================\n",
      "                           coef    std err          t      P>|t|      [0.025      0.975]\n",
      "----------------------------------------------------------------------------------------\n",
      "const                   -0.1330      0.067     -1.982      0.048      -0.265      -0.001\n",
      "atemp                    0.4999      0.047     10.647      0.000       0.408       0.592\n",
      "season_spring           -0.4719      0.112     -4.204      0.000      -0.692      -0.251\n",
      "season_winter            0.3269      0.097      3.387      0.001       0.137       0.517\n",
      "weathersit_VeryClear     0.3317      0.063      5.235      0.000       0.207       0.456\n",
      "weathersit_MildRain     -1.1966      0.202     -5.934      0.000      -1.593      -0.800\n",
      "mnth_November           -0.2337      0.129     -1.806      0.072      -0.488       0.021\n",
      "mnth_September           0.3161      0.109      2.891      0.004       0.101       0.531\n",
      "holiday_Festival        -0.4390      0.172     -2.545      0.011      -0.778      -0.100\n",
      "==============================================================================\n",
      "Omnibus:                       21.090   Durbin-Watson:                   1.952\n",
      "Prob(Omnibus):                  0.000   Jarque-Bera (JB):               10.466\n",
      "Skew:                           0.135   Prob(JB):                      0.00534\n",
      "Kurtosis:                       2.345   Cond. No.                         8.54\n",
      "==============================================================================\n",
      "\n",
      "Warnings:\n",
      "[1] Standard Errors assume that the covariance matrix of the errors is correctly specified.\n"
     ]
    }
   ],
   "source": [
    "# Add a constant\n",
    "x_train_manual = sm.add_constant(x_train[['atemp','season_spring','season_winter',\\\n",
    "                                          'weathersit_VeryClear','weathersit_MildRain','mnth_November','mnth_September','holiday_Festival']])\n",
    "# Create a first fitted model\n",
    "lr_mod2 = sm.OLS(y_train, x_train_manual).fit()\n",
    "# Summary\n",
    "print(lr_mod2.summary())"
   ]
  },
  {
   "cell_type": "code",
   "execution_count": 118,
   "metadata": {},
   "outputs": [
    {
     "name": "stdout",
     "output_type": "stream",
     "text": [
      "                            OLS Regression Results                            \n",
      "==============================================================================\n",
      "Dep. Variable:                    cnt   R-squared:                       0.555\n",
      "Model:                            OLS   Adj. R-squared:                  0.549\n",
      "Method:                 Least Squares   F-statistic:                     87.80\n",
      "Date:                Sat, 05 Dec 2020   Prob (F-statistic):           1.50e-82\n",
      "Time:                        12:32:09   Log-Likelihood:                -508.12\n",
      "No. Observations:                 501   AIC:                             1032.\n",
      "Df Residuals:                     493   BIC:                             1066.\n",
      "Df Model:                           7                                         \n",
      "Covariance Type:            nonrobust                                         \n",
      "========================================================================================\n",
      "                           coef    std err          t      P>|t|      [0.025      0.975]\n",
      "----------------------------------------------------------------------------------------\n",
      "const                   -0.2491      0.072     -3.478      0.001      -0.390      -0.108\n",
      "atemp                    0.5123      0.047     11.006      0.000       0.421       0.604\n",
      "season_spring           -0.4469      0.112     -4.003      0.000      -0.666      -0.228\n",
      "season_winter            0.2550      0.088      2.894      0.004       0.082       0.428\n",
      "weathersit_VeryClear     0.3197      0.063      5.062      0.000       0.196       0.444\n",
      "weathersit_MildRain     -1.1983      0.202     -5.929      0.000      -1.595      -0.801\n",
      "mnth_September           0.3352      0.109      3.073      0.002       0.121       0.550\n",
      "holiday_Festival        -0.3626      0.116     -3.128      0.002      -0.590      -0.135\n",
      "holiday_Work             0.1136      0.062      1.830      0.068      -0.008       0.236\n",
      "==============================================================================\n",
      "Omnibus:                       19.104   Durbin-Watson:                   1.971\n",
      "Prob(Omnibus):                  0.000   Jarque-Bera (JB):                9.853\n",
      "Skew:                           0.133   Prob(JB):                      0.00725\n",
      "Kurtosis:                       2.367   Cond. No.                     1.03e+15\n",
      "==============================================================================\n",
      "\n",
      "Warnings:\n",
      "[1] Standard Errors assume that the covariance matrix of the errors is correctly specified.\n",
      "[2] The smallest eigenvalue is 1.18e-27. This might indicate that there are\n",
      "strong multicollinearity problems or that the design matrix is singular.\n"
     ]
    }
   ],
   "source": [
    "# Add a constant\n",
    "x_train_manual = sm.add_constant(x_train[['atemp','season_spring','season_winter',\\\n",
    "                                          'weathersit_VeryClear','weathersit_MildRain','mnth_September','holiday_Festival','holiday_Work']])\n",
    "# Create a first fitted model\n",
    "lr_mod2 = sm.OLS(y_train, x_train_manual).fit()\n",
    "# Summary\n",
    "print(lr_mod2.summary())"
   ]
  },
  {
   "cell_type": "code",
   "execution_count": 119,
   "metadata": {},
   "outputs": [
    {
     "name": "stdout",
     "output_type": "stream",
     "text": [
      "                            OLS Regression Results                            \n",
      "==============================================================================\n",
      "Dep. Variable:                    cnt   R-squared:                       0.577\n",
      "Model:                            OLS   Adj. R-squared:                  0.570\n",
      "Method:                 Least Squares   F-statistic:                     83.79\n",
      "Date:                Sat, 05 Dec 2020   Prob (F-statistic):           6.98e-87\n",
      "Time:                        12:32:09   Log-Likelihood:                -495.53\n",
      "No. Observations:                 501   AIC:                             1009.\n",
      "Df Residuals:                     492   BIC:                             1047.\n",
      "Df Model:                           8                                         \n",
      "Covariance Type:            nonrobust                                         \n",
      "========================================================================================\n",
      "                           coef    std err          t      P>|t|      [0.025      0.975]\n",
      "----------------------------------------------------------------------------------------\n",
      "const                   -0.0424      0.068     -0.621      0.535      -0.176       0.092\n",
      "atemp                    0.5696      0.047     12.160      0.000       0.478       0.662\n",
      "season_spring           -0.4034      0.109     -3.690      0.000      -0.618      -0.189\n",
      "season_winter            0.3411      0.088      3.889      0.000       0.169       0.513\n",
      "weathersit_VeryClear     0.0950      0.076      1.249      0.212      -0.054       0.245\n",
      "weathersit_MildRain     -0.9534      0.203     -4.692      0.000      -1.353      -0.554\n",
      "mnth_September           0.4151      0.108      3.855      0.000       0.204       0.627\n",
      "holiday_Festival        -0.4885      0.168     -2.915      0.004      -0.818      -0.159\n",
      "hum                     -0.1989      0.040     -5.036      0.000      -0.277      -0.121\n",
      "==============================================================================\n",
      "Omnibus:                        7.663   Durbin-Watson:                   1.959\n",
      "Prob(Omnibus):                  0.022   Jarque-Bera (JB):                5.393\n",
      "Skew:                           0.118   Prob(JB):                       0.0674\n",
      "Kurtosis:                       2.550   Cond. No.                         8.89\n",
      "==============================================================================\n",
      "\n",
      "Warnings:\n",
      "[1] Standard Errors assume that the covariance matrix of the errors is correctly specified.\n"
     ]
    }
   ],
   "source": [
    "# Add a constant\n",
    "x_train_manual = sm.add_constant(x_train[['atemp','season_spring','season_winter',\\\n",
    "                                          'weathersit_VeryClear','weathersit_MildRain','mnth_September','holiday_Festival','hum']])\n",
    "# Create a first fitted model\n",
    "lr_mod2 = sm.OLS(y_train, x_train_manual).fit()\n",
    "# Summary\n",
    "print(lr_mod2.summary())"
   ]
  },
  {
   "cell_type": "code",
   "execution_count": 120,
   "metadata": {},
   "outputs": [
    {
     "name": "stdout",
     "output_type": "stream",
     "text": [
      "                            OLS Regression Results                            \n",
      "==============================================================================\n",
      "Dep. Variable:                    cnt   R-squared:                       0.575\n",
      "Model:                            OLS   Adj. R-squared:                  0.569\n",
      "Method:                 Least Squares   F-statistic:                     95.43\n",
      "Date:                Sat, 05 Dec 2020   Prob (F-statistic):           1.49e-87\n",
      "Time:                        12:32:09   Log-Likelihood:                -496.32\n",
      "No. Observations:                 501   AIC:                             1009.\n",
      "Df Residuals:                     493   BIC:                             1042.\n",
      "Df Model:                           7                                         \n",
      "Covariance Type:            nonrobust                                         \n",
      "=======================================================================================\n",
      "                          coef    std err          t      P>|t|      [0.025      0.975]\n",
      "---------------------------------------------------------------------------------------\n",
      "const                   0.0104      0.054      0.194      0.846      -0.095       0.116\n",
      "atemp                   0.5803      0.046     12.597      0.000       0.490       0.671\n",
      "season_spring          -0.3977      0.109     -3.639      0.000      -0.612      -0.183\n",
      "season_winter           0.3530      0.087      4.046      0.000       0.182       0.524\n",
      "weathersit_MildRain    -0.9554      0.203     -4.699      0.000      -1.355      -0.556\n",
      "mnth_September          0.4241      0.107      3.945      0.000       0.213       0.635\n",
      "holiday_Festival       -0.4814      0.168     -2.873      0.004      -0.811      -0.152\n",
      "hum                    -0.2279      0.032     -7.116      0.000      -0.291      -0.165\n",
      "==============================================================================\n",
      "Omnibus:                        6.684   Durbin-Watson:                   1.967\n",
      "Prob(Omnibus):                  0.035   Jarque-Bera (JB):                4.834\n",
      "Skew:                           0.109   Prob(JB):                       0.0892\n",
      "Kurtosis:                       2.571   Cond. No.                         7.80\n",
      "==============================================================================\n",
      "\n",
      "Warnings:\n",
      "[1] Standard Errors assume that the covariance matrix of the errors is correctly specified.\n"
     ]
    }
   ],
   "source": [
    "# Add a constant\n",
    "x_train_manual = sm.add_constant(x_train[['atemp','season_spring','season_winter',\\\n",
    "                                          'weathersit_MildRain','mnth_September','holiday_Festival','hum']])\n",
    "# Create a first fitted model\n",
    "lr_mod2 = sm.OLS(y_train, x_train_manual).fit()\n",
    "# Summary\n",
    "print(lr_mod2.summary())"
   ]
  },
  {
   "cell_type": "code",
   "execution_count": 121,
   "metadata": {},
   "outputs": [
    {
     "name": "stdout",
     "output_type": "stream",
     "text": [
      "                            OLS Regression Results                            \n",
      "==============================================================================\n",
      "Dep. Variable:                    cnt   R-squared:                       0.591\n",
      "Model:                            OLS   Adj. R-squared:                  0.585\n",
      "Method:                 Least Squares   F-statistic:                     89.05\n",
      "Date:                Sat, 05 Dec 2020   Prob (F-statistic):           1.21e-90\n",
      "Time:                        12:32:09   Log-Likelihood:                -486.63\n",
      "No. Observations:                 501   AIC:                             991.3\n",
      "Df Residuals:                     492   BIC:                             1029.\n",
      "Df Model:                           8                                         \n",
      "Covariance Type:            nonrobust                                         \n",
      "=======================================================================================\n",
      "                          coef    std err          t      P>|t|      [0.025      0.975]\n",
      "---------------------------------------------------------------------------------------\n",
      "const                   0.0280      0.053      0.531      0.596      -0.076       0.132\n",
      "atemp                   0.5496      0.046     12.009      0.000       0.460       0.640\n",
      "season_spring          -0.4269      0.108     -3.971      0.000      -0.638      -0.216\n",
      "season_winter           0.2925      0.087      3.372      0.001       0.122       0.463\n",
      "weathersit_MildRain    -0.7636      0.204     -3.737      0.000      -1.165      -0.362\n",
      "mnth_September          0.4159      0.106      3.940      0.000       0.208       0.623\n",
      "holiday_Festival       -0.4671      0.165     -2.838      0.005      -0.790      -0.144\n",
      "hum                    -0.2583      0.032     -8.023      0.000      -0.322      -0.195\n",
      "windspeed              -0.1363      0.031     -4.405      0.000      -0.197      -0.075\n",
      "==============================================================================\n",
      "Omnibus:                        8.627   Durbin-Watson:                   1.936\n",
      "Prob(Omnibus):                  0.013   Jarque-Bera (JB):                5.868\n",
      "Skew:                           0.121   Prob(JB):                       0.0532\n",
      "Kurtosis:                       2.528   Cond. No.                         8.49\n",
      "==============================================================================\n",
      "\n",
      "Warnings:\n",
      "[1] Standard Errors assume that the covariance matrix of the errors is correctly specified.\n"
     ]
    }
   ],
   "source": [
    "# Add a constant\n",
    "x_train_manual = sm.add_constant(x_train[['atemp','season_spring','season_winter',\\\n",
    "                                          'weathersit_MildRain','mnth_September','holiday_Festival','hum','windspeed']])\n",
    "# Create a first fitted model\n",
    "lr_mod2 = sm.OLS(y_train, x_train_manual).fit()\n",
    "# Summary\n",
    "print(lr_mod2.summary())"
   ]
  },
  {
   "cell_type": "code",
   "execution_count": 122,
   "metadata": {},
   "outputs": [
    {
     "name": "stdout",
     "output_type": "stream",
     "text": [
      "                            OLS Regression Results                            \n",
      "==============================================================================\n",
      "Dep. Variable:                    cnt   R-squared:                       0.592\n",
      "Model:                            OLS   Adj. R-squared:                  0.584\n",
      "Method:                 Least Squares   F-statistic:                     79.01\n",
      "Date:                Sat, 05 Dec 2020   Prob (F-statistic):           1.13e-89\n",
      "Time:                        12:32:09   Log-Likelihood:                -486.59\n",
      "No. Observations:                 501   AIC:                             993.2\n",
      "Df Residuals:                     491   BIC:                             1035.\n",
      "Df Model:                           9                                         \n",
      "Covariance Type:            nonrobust                                         \n",
      "=======================================================================================\n",
      "                          coef    std err          t      P>|t|      [0.025      0.975]\n",
      "---------------------------------------------------------------------------------------\n",
      "const                   0.0264      0.053      0.497      0.619      -0.078       0.131\n",
      "atemp                   0.5462      0.047     11.526      0.000       0.453       0.639\n",
      "season_spring          -0.4216      0.109     -3.858      0.000      -0.636      -0.207\n",
      "season_winter           0.2946      0.087      3.380      0.001       0.123       0.466\n",
      "weathersit_MildRain    -0.7628      0.205     -3.729      0.000      -1.165      -0.361\n",
      "mnth_September          0.4158      0.106      3.935      0.000       0.208       0.623\n",
      "holiday_Festival       -0.4738      0.166     -2.847      0.005      -0.801      -0.147\n",
      "hum                    -0.2572      0.032     -7.929      0.000      -0.321      -0.193\n",
      "windspeed              -0.1361      0.031     -4.396      0.000      -0.197      -0.075\n",
      "ratio_register         -0.0097      0.034     -0.281      0.779      -0.077       0.058\n",
      "==============================================================================\n",
      "Omnibus:                        9.346   Durbin-Watson:                   1.936\n",
      "Prob(Omnibus):                  0.009   Jarque-Bera (JB):                6.122\n",
      "Skew:                           0.115   Prob(JB):                       0.0468\n",
      "Kurtosis:                       2.510   Cond. No.                         9.24\n",
      "==============================================================================\n",
      "\n",
      "Warnings:\n",
      "[1] Standard Errors assume that the covariance matrix of the errors is correctly specified.\n"
     ]
    }
   ],
   "source": [
    "# Add a constant\n",
    "x_train_manual = sm.add_constant(x_train[['atemp','season_spring','season_winter',\\\n",
    "                                          'weathersit_MildRain','mnth_September','holiday_Festival','hum','windspeed','ratio_register']])\n",
    "# Create a first fitted model\n",
    "lr_mod2 = sm.OLS(y_train, x_train_manual).fit()\n",
    "# Summary\n",
    "print(lr_mod2.summary())"
   ]
  },
  {
   "cell_type": "code",
   "execution_count": 123,
   "metadata": {},
   "outputs": [
    {
     "name": "stdout",
     "output_type": "stream",
     "text": [
      "                            OLS Regression Results                            \n",
      "==============================================================================\n",
      "Dep. Variable:                    cnt   R-squared:                       0.834\n",
      "Model:                            OLS   Adj. R-squared:                  0.831\n",
      "Method:                 Least Squares   F-statistic:                     274.8\n",
      "Date:                Sat, 05 Dec 2020   Prob (F-statistic):          2.30e-185\n",
      "Time:                        12:32:09   Log-Likelihood:                -260.55\n",
      "No. Observations:                 501   AIC:                             541.1\n",
      "Df Residuals:                     491   BIC:                             583.3\n",
      "Df Model:                           9                                         \n",
      "Covariance Type:            nonrobust                                         \n",
      "=======================================================================================\n",
      "                          coef    std err          t      P>|t|      [0.025      0.975]\n",
      "---------------------------------------------------------------------------------------\n",
      "const                  -0.4488      0.038    -11.806      0.000      -0.523      -0.374\n",
      "atemp                   0.4736      0.029     16.157      0.000       0.416       0.531\n",
      "season_spring          -0.5055      0.069     -7.370      0.000      -0.640      -0.371\n",
      "season_winter           0.2462      0.055      4.450      0.000       0.138       0.355\n",
      "weathersit_MildRain    -0.7183      0.130     -5.514      0.000      -0.974      -0.462\n",
      "mnth_September          0.3622      0.067      5.380      0.000       0.230       0.494\n",
      "holiday_Festival       -0.3857      0.105     -3.676      0.000      -0.592      -0.180\n",
      "hum                    -0.1732      0.021     -8.341      0.000      -0.214      -0.132\n",
      "windspeed              -0.1028      0.020     -5.201      0.000      -0.142      -0.064\n",
      "Awareness               1.0062      0.038     26.828      0.000       0.933       1.080\n",
      "==============================================================================\n",
      "Omnibus:                       44.944   Durbin-Watson:                   2.132\n",
      "Prob(Omnibus):                  0.000   Jarque-Bera (JB):               93.587\n",
      "Skew:                          -0.517   Prob(JB):                     4.76e-21\n",
      "Kurtosis:                       4.847   Cond. No.                         8.64\n",
      "==============================================================================\n",
      "\n",
      "Warnings:\n",
      "[1] Standard Errors assume that the covariance matrix of the errors is correctly specified.\n"
     ]
    }
   ],
   "source": [
    "# Add a constant\n",
    "x_train_manual = sm.add_constant(x_train[['atemp','season_spring','season_winter',\\\n",
    "                                          'weathersit_MildRain','mnth_September','holiday_Festival','hum','windspeed','Awareness']])\n",
    "# Create a first fitted model\n",
    "lr_mod2 = sm.OLS(y_train, x_train_manual).fit()\n",
    "# Summary\n",
    "print(lr_mod2.summary())"
   ]
  },
  {
   "cell_type": "code",
   "execution_count": 124,
   "metadata": {},
   "outputs": [
    {
     "name": "stdout",
     "output_type": "stream",
     "text": [
      "                            OLS Regression Results                            \n",
      "==============================================================================\n",
      "Dep. Variable:                    cnt   R-squared:                       0.835\n",
      "Model:                            OLS   Adj. R-squared:                  0.831\n",
      "Method:                 Least Squares   F-statistic:                     247.1\n",
      "Date:                Sat, 05 Dec 2020   Prob (F-statistic):          2.95e-184\n",
      "Time:                        12:32:09   Log-Likelihood:                -260.25\n",
      "No. Observations:                 501   AIC:                             542.5\n",
      "Df Residuals:                     490   BIC:                             588.9\n",
      "Df Model:                          10                                         \n",
      "Covariance Type:            nonrobust                                         \n",
      "=======================================================================================\n",
      "                          coef    std err          t      P>|t|      [0.025      0.975]\n",
      "---------------------------------------------------------------------------------------\n",
      "const                  -0.4437      0.039    -11.493      0.000      -0.520      -0.368\n",
      "atemp                   0.4745      0.029     16.167      0.000       0.417       0.532\n",
      "season_spring          -0.5048      0.069     -7.356      0.000      -0.640      -0.370\n",
      "season_winter           0.2473      0.055      4.467      0.000       0.139       0.356\n",
      "weathersit_MildRain    -0.7149      0.130     -5.482      0.000      -0.971      -0.459\n",
      "mnth_September          0.3620      0.067      5.374      0.000       0.230       0.494\n",
      "holiday_Festival       -0.3863      0.105     -3.679      0.000      -0.593      -0.180\n",
      "hum                    -0.1741      0.021     -8.368      0.000      -0.215      -0.133\n",
      "windspeed              -0.1031      0.020     -5.214      0.000      -0.142      -0.064\n",
      "Awareness               1.0064      0.038     26.821      0.000       0.933       1.080\n",
      "weekday_Friday         -0.0402      0.053     -0.756      0.450      -0.145       0.064\n",
      "==============================================================================\n",
      "Omnibus:                       45.045   Durbin-Watson:                   2.137\n",
      "Prob(Omnibus):                  0.000   Jarque-Bera (JB):               93.456\n",
      "Skew:                          -0.520   Prob(JB):                     5.08e-21\n",
      "Kurtosis:                       4.843   Cond. No.                         8.69\n",
      "==============================================================================\n",
      "\n",
      "Warnings:\n",
      "[1] Standard Errors assume that the covariance matrix of the errors is correctly specified.\n"
     ]
    }
   ],
   "source": [
    "# Add a constant\n",
    "x_train_manual = sm.add_constant(x_train[['atemp','season_spring','season_winter',\\\n",
    "                                          'weathersit_MildRain','mnth_September','holiday_Festival','hum','windspeed','Awareness','weekday_Friday']])\n",
    "# Create a first fitted model\n",
    "lr_mod2 = sm.OLS(y_train, x_train_manual).fit()\n",
    "# Summary\n",
    "print(lr_mod2.summary())"
   ]
  },
  {
   "cell_type": "code",
   "execution_count": 125,
   "metadata": {},
   "outputs": [
    {
     "name": "stdout",
     "output_type": "stream",
     "text": [
      "                            OLS Regression Results                            \n",
      "==============================================================================\n",
      "Dep. Variable:                    cnt   R-squared:                       0.837\n",
      "Model:                            OLS   Adj. R-squared:                  0.834\n",
      "Method:                 Least Squares   F-statistic:                     252.3\n",
      "Date:                Sat, 05 Dec 2020   Prob (F-statistic):          4.32e-186\n",
      "Time:                        12:32:09   Log-Likelihood:                -255.92\n",
      "No. Observations:                 501   AIC:                             533.8\n",
      "Df Residuals:                     490   BIC:                             580.2\n",
      "Df Model:                          10                                         \n",
      "Covariance Type:            nonrobust                                         \n",
      "=======================================================================================\n",
      "                          coef    std err          t      P>|t|      [0.025      0.975]\n",
      "---------------------------------------------------------------------------------------\n",
      "const                  -0.4238      0.039    -10.982      0.000      -0.500      -0.348\n",
      "atemp                   0.4743      0.029     16.313      0.000       0.417       0.531\n",
      "season_spring          -0.5036      0.068     -7.402      0.000      -0.637      -0.370\n",
      "season_winter           0.2450      0.055      4.464      0.000       0.137       0.353\n",
      "weathersit_MildRain    -0.7324      0.129     -5.666      0.000      -0.986      -0.478\n",
      "mnth_September          0.3656      0.067      5.475      0.000       0.234       0.497\n",
      "holiday_Festival       -0.4099      0.104     -3.927      0.000      -0.615      -0.205\n",
      "hum                    -0.1723      0.021     -8.367      0.000      -0.213      -0.132\n",
      "windspeed              -0.1010      0.020     -5.154      0.000      -0.140      -0.063\n",
      "Awareness               1.0030      0.037     26.951      0.000       0.930       1.076\n",
      "weekday_Monday         -0.1577      0.052     -3.022      0.003      -0.260      -0.055\n",
      "==============================================================================\n",
      "Omnibus:                       43.591   Durbin-Watson:                   2.106\n",
      "Prob(Omnibus):                  0.000   Jarque-Bera (JB):               93.048\n",
      "Skew:                          -0.494   Prob(JB):                     6.24e-21\n",
      "Kurtosis:                       4.865   Cond. No.                         8.70\n",
      "==============================================================================\n",
      "\n",
      "Warnings:\n",
      "[1] Standard Errors assume that the covariance matrix of the errors is correctly specified.\n"
     ]
    }
   ],
   "source": [
    "# Add a constant\n",
    "x_train_manual = sm.add_constant(x_train[['atemp','season_spring','season_winter',\\\n",
    "                                          'weathersit_MildRain','mnth_September','holiday_Festival','hum','windspeed','Awareness','weekday_Monday']])\n",
    "# Create a first fitted model\n",
    "lr_mod2 = sm.OLS(y_train, x_train_manual).fit()\n",
    "# Summary\n",
    "print(lr_mod2.summary())"
   ]
  },
  {
   "cell_type": "code",
   "execution_count": 126,
   "metadata": {},
   "outputs": [
    {
     "name": "stdout",
     "output_type": "stream",
     "text": [
      "                            OLS Regression Results                            \n",
      "==============================================================================\n",
      "Dep. Variable:                    cnt   R-squared:                       0.838\n",
      "Model:                            OLS   Adj. R-squared:                  0.834\n",
      "Method:                 Least Squares   F-statistic:                     229.6\n",
      "Date:                Sat, 05 Dec 2020   Prob (F-statistic):          3.74e-185\n",
      "Time:                        12:32:09   Log-Likelihood:                -255.27\n",
      "No. Observations:                 501   AIC:                             534.5\n",
      "Df Residuals:                     489   BIC:                             585.1\n",
      "Df Model:                          11                                         \n",
      "Covariance Type:            nonrobust                                         \n",
      "=======================================================================================\n",
      "                          coef    std err          t      P>|t|      [0.025      0.975]\n",
      "---------------------------------------------------------------------------------------\n",
      "const                  -0.4361      0.040    -10.878      0.000      -0.515      -0.357\n",
      "atemp                   0.4761      0.029     16.355      0.000       0.419       0.533\n",
      "season_spring          -0.5009      0.068     -7.360      0.000      -0.635      -0.367\n",
      "season_winter           0.2477      0.055      4.511      0.000       0.140       0.356\n",
      "weathersit_MildRain    -0.7244      0.129     -5.596      0.000      -0.979      -0.470\n",
      "mnth_September          0.3663      0.067      5.486      0.000       0.235       0.497\n",
      "holiday_Festival       -0.4068      0.104     -3.896      0.000      -0.612      -0.202\n",
      "hum                    -0.1716      0.021     -8.332      0.000      -0.212      -0.131\n",
      "windspeed              -0.1003      0.020     -5.117      0.000      -0.139      -0.062\n",
      "Awareness               1.0041      0.037     26.978      0.000       0.931       1.077\n",
      "weekday_Monday         -0.1475      0.053     -2.785      0.006      -0.251      -0.043\n",
      "weekday_Saturday        0.0597      0.053      1.127      0.260      -0.044       0.164\n",
      "==============================================================================\n",
      "Omnibus:                       44.444   Durbin-Watson:                   2.105\n",
      "Prob(Omnibus):                  0.000   Jarque-Bera (JB):               94.104\n",
      "Skew:                          -0.506   Prob(JB):                     3.68e-21\n",
      "Kurtosis:                       4.866   Cond. No.                         8.77\n",
      "==============================================================================\n",
      "\n",
      "Warnings:\n",
      "[1] Standard Errors assume that the covariance matrix of the errors is correctly specified.\n"
     ]
    }
   ],
   "source": [
    "# Add a constant\n",
    "x_train_manual = sm.add_constant(x_train[['atemp','season_spring','season_winter',\\\n",
    "                                          'weathersit_MildRain','mnth_September','holiday_Festival','hum','windspeed','Awareness','weekday_Monday','weekday_Saturday']])\n",
    "# Create a first fitted model\n",
    "lr_mod2 = sm.OLS(y_train, x_train_manual).fit()\n",
    "# Summary\n",
    "print(lr_mod2.summary())"
   ]
  },
  {
   "cell_type": "code",
   "execution_count": 127,
   "metadata": {},
   "outputs": [
    {
     "name": "stdout",
     "output_type": "stream",
     "text": [
      "                            OLS Regression Results                            \n",
      "==============================================================================\n",
      "Dep. Variable:                    cnt   R-squared:                       0.839\n",
      "Model:                            OLS   Adj. R-squared:                  0.836\n",
      "Method:                 Least Squares   F-statistic:                     231.9\n",
      "Date:                Sat, 05 Dec 2020   Prob (F-statistic):          4.93e-186\n",
      "Time:                        12:32:09   Log-Likelihood:                -253.19\n",
      "No. Observations:                 501   AIC:                             530.4\n",
      "Df Residuals:                     489   BIC:                             581.0\n",
      "Df Model:                          11                                         \n",
      "Covariance Type:            nonrobust                                         \n",
      "=======================================================================================\n",
      "                          coef    std err          t      P>|t|      [0.025      0.975]\n",
      "---------------------------------------------------------------------------------------\n",
      "const                  -0.4433      0.039    -11.271      0.000      -0.521      -0.366\n",
      "atemp                   0.4769      0.029     16.464      0.000       0.420       0.534\n",
      "season_spring          -0.5015      0.068     -7.403      0.000      -0.635      -0.368\n",
      "season_winter           0.2422      0.055      4.432      0.000       0.135       0.350\n",
      "weathersit_MildRain    -0.7270      0.129     -5.647      0.000      -0.980      -0.474\n",
      "mnth_September          0.3615      0.067      5.436      0.000       0.231       0.492\n",
      "holiday_Festival       -0.3883      0.104     -3.721      0.000      -0.593      -0.183\n",
      "hum                    -0.1739      0.021     -8.479      0.000      -0.214      -0.134\n",
      "windspeed              -0.1029      0.020     -5.268      0.000      -0.141      -0.065\n",
      "Awareness               1.0004      0.037     26.991      0.000       0.928       1.073\n",
      "weekday_Monday         -0.1365      0.053     -2.588      0.010      -0.240      -0.033\n",
      "weekday_Sunday          0.1231      0.053      2.317      0.021       0.019       0.228\n",
      "==============================================================================\n",
      "Omnibus:                       48.584   Durbin-Watson:                   2.107\n",
      "Prob(Omnibus):                  0.000   Jarque-Bera (JB):               98.617\n",
      "Skew:                          -0.565   Prob(JB):                     3.85e-22\n",
      "Kurtosis:                       4.857   Cond. No.                         8.75\n",
      "==============================================================================\n",
      "\n",
      "Warnings:\n",
      "[1] Standard Errors assume that the covariance matrix of the errors is correctly specified.\n"
     ]
    }
   ],
   "source": [
    "# Add a constant\n",
    "x_train_manual = sm.add_constant(x_train[['atemp','season_spring','season_winter',\\\n",
    "                                          'weathersit_MildRain','mnth_September','holiday_Festival','hum','windspeed','Awareness','weekday_Monday','weekday_Sunday']])\n",
    "# Create a first fitted model\n",
    "lr_mod2 = sm.OLS(y_train, x_train_manual).fit()\n",
    "# Summary\n",
    "print(lr_mod2.summary())"
   ]
  },
  {
   "cell_type": "code",
   "execution_count": 128,
   "metadata": {},
   "outputs": [
    {
     "name": "stdout",
     "output_type": "stream",
     "text": [
      "                            OLS Regression Results                            \n",
      "==============================================================================\n",
      "Dep. Variable:                    cnt   R-squared:                       0.840\n",
      "Model:                            OLS   Adj. R-squared:                  0.836\n",
      "Method:                 Least Squares   F-statistic:                     212.7\n",
      "Date:                Sat, 05 Dec 2020   Prob (F-statistic):          4.37e-185\n",
      "Time:                        12:32:09   Log-Likelihood:                -252.60\n",
      "No. Observations:                 501   AIC:                             531.2\n",
      "Df Residuals:                     488   BIC:                             586.0\n",
      "Df Model:                          12                                         \n",
      "Covariance Type:            nonrobust                                         \n",
      "=======================================================================================\n",
      "                          coef    std err          t      P>|t|      [0.025      0.975]\n",
      "---------------------------------------------------------------------------------------\n",
      "const                  -0.4546      0.041    -11.160      0.000      -0.535      -0.375\n",
      "atemp                   0.4758      0.029     16.414      0.000       0.419       0.533\n",
      "season_spring          -0.5034      0.068     -7.430      0.000      -0.637      -0.370\n",
      "season_winter           0.2426      0.055      4.440      0.000       0.135       0.350\n",
      "weathersit_MildRain    -0.7348      0.129     -5.700      0.000      -0.988      -0.481\n",
      "mnth_September          0.3619      0.066      5.442      0.000       0.231       0.493\n",
      "holiday_Festival       -0.3805      0.105     -3.637      0.000      -0.586      -0.175\n",
      "hum                    -0.1736      0.021     -8.461      0.000      -0.214      -0.133\n",
      "windspeed              -0.1023      0.020     -5.234      0.000      -0.141      -0.064\n",
      "Awareness               1.0006      0.037     27.000      0.000       0.928       1.073\n",
      "weekday_Monday         -0.1248      0.054     -2.318      0.021      -0.231      -0.019\n",
      "weekday_Sunday          0.1347      0.054      2.483      0.013       0.028       0.241\n",
      "weekday_Thursday        0.0576      0.054      1.065      0.287      -0.049       0.164\n",
      "==============================================================================\n",
      "Omnibus:                       47.959   Durbin-Watson:                   2.108\n",
      "Prob(Omnibus):                  0.000   Jarque-Bera (JB):               97.379\n",
      "Skew:                          -0.558   Prob(JB):                     7.15e-22\n",
      "Kurtosis:                       4.849   Cond. No.                         8.81\n",
      "==============================================================================\n",
      "\n",
      "Warnings:\n",
      "[1] Standard Errors assume that the covariance matrix of the errors is correctly specified.\n"
     ]
    }
   ],
   "source": [
    "# Add a constant\n",
    "x_train_manual = sm.add_constant(x_train[['atemp','season_spring','season_winter',\\\n",
    "                                          'weathersit_MildRain','mnth_September','holiday_Festival','hum','windspeed','Awareness','weekday_Monday','weekday_Sunday','weekday_Thursday']])\n",
    "# Create a first fitted model\n",
    "lr_mod2 = sm.OLS(y_train, x_train_manual).fit()\n",
    "# Summary\n",
    "print(lr_mod2.summary())"
   ]
  },
  {
   "cell_type": "code",
   "execution_count": 129,
   "metadata": {},
   "outputs": [
    {
     "name": "stdout",
     "output_type": "stream",
     "text": [
      "                            OLS Regression Results                            \n",
      "==============================================================================\n",
      "Dep. Variable:                    cnt   R-squared:                       0.840\n",
      "Model:                            OLS   Adj. R-squared:                  0.836\n",
      "Method:                 Least Squares   F-statistic:                     213.5\n",
      "Date:                Sat, 05 Dec 2020   Prob (F-statistic):          2.10e-185\n",
      "Time:                        12:32:09   Log-Likelihood:                -251.85\n",
      "No. Observations:                 501   AIC:                             529.7\n",
      "Df Residuals:                     488   BIC:                             584.5\n",
      "Df Model:                          12                                         \n",
      "Covariance Type:            nonrobust                                         \n",
      "=======================================================================================\n",
      "                          coef    std err          t      P>|t|      [0.025      0.975]\n",
      "---------------------------------------------------------------------------------------\n",
      "const                  -0.4274      0.040    -10.557      0.000      -0.507      -0.348\n",
      "atemp                   0.4764      0.029     16.470      0.000       0.420       0.533\n",
      "season_spring          -0.5005      0.068     -7.400      0.000      -0.633      -0.368\n",
      "season_winter           0.2432      0.055      4.457      0.000       0.136       0.350\n",
      "weathersit_MildRain    -0.7307      0.129     -5.685      0.000      -0.983      -0.478\n",
      "mnth_September          0.3606      0.066      5.430      0.000       0.230       0.491\n",
      "holiday_Festival       -0.3461      0.107     -3.222      0.001      -0.557      -0.135\n",
      "hum                    -0.1712      0.021     -8.329      0.000      -0.212      -0.131\n",
      "windspeed              -0.1027      0.020     -5.268      0.000      -0.141      -0.064\n",
      "Awareness               1.0027      0.037     27.077      0.000       0.930       1.075\n",
      "weekday_Monday         -0.1538      0.054     -2.863      0.004      -0.259      -0.048\n",
      "weekday_Sunday          0.1054      0.054      1.946      0.052      -0.001       0.212\n",
      "weekday_Tuesday        -0.0859      0.053     -1.614      0.107      -0.190       0.019\n",
      "==============================================================================\n",
      "Omnibus:                       48.560   Durbin-Watson:                   2.089\n",
      "Prob(Omnibus):                  0.000   Jarque-Bera (JB):               94.904\n",
      "Skew:                          -0.578   Prob(JB):                     2.46e-21\n",
      "Kurtosis:                       4.792   Cond. No.                         8.82\n",
      "==============================================================================\n",
      "\n",
      "Warnings:\n",
      "[1] Standard Errors assume that the covariance matrix of the errors is correctly specified.\n"
     ]
    }
   ],
   "source": [
    "# Add a constant\n",
    "x_train_manual = sm.add_constant(x_train[['atemp','season_spring','season_winter',\\\n",
    "                                          'weathersit_MildRain','mnth_September','holiday_Festival','hum','windspeed','Awareness','weekday_Monday','weekday_Sunday','weekday_Tuesday']])\n",
    "# Create a first fitted model\n",
    "lr_mod2 = sm.OLS(y_train, x_train_manual).fit()\n",
    "# Summary\n",
    "print(lr_mod2.summary())"
   ]
  },
  {
   "cell_type": "code",
   "execution_count": 130,
   "metadata": {},
   "outputs": [
    {
     "name": "stdout",
     "output_type": "stream",
     "text": [
      "                            OLS Regression Results                            \n",
      "==============================================================================\n",
      "Dep. Variable:                    cnt   R-squared:                       0.839\n",
      "Model:                            OLS   Adj. R-squared:                  0.835\n",
      "Method:                 Least Squares   F-statistic:                     212.2\n",
      "Date:                Sat, 05 Dec 2020   Prob (F-statistic):          7.46e-185\n",
      "Time:                        12:32:09   Log-Likelihood:                -253.16\n",
      "No. Observations:                 501   AIC:                             532.3\n",
      "Df Residuals:                     488   BIC:                             587.1\n",
      "Df Model:                          12                                         \n",
      "Covariance Type:            nonrobust                                         \n",
      "=======================================================================================\n",
      "                          coef    std err          t      P>|t|      [0.025      0.975]\n",
      "---------------------------------------------------------------------------------------\n",
      "const                  -0.4407      0.041    -10.771      0.000      -0.521      -0.360\n",
      "atemp                   0.4770      0.029     16.449      0.000       0.420       0.534\n",
      "season_spring          -0.5017      0.068     -7.398      0.000      -0.635      -0.368\n",
      "season_winter           0.2422      0.055      4.429      0.000       0.135       0.350\n",
      "weathersit_MildRain    -0.7271      0.129     -5.643      0.000      -0.980      -0.474\n",
      "mnth_September          0.3618      0.067      5.434      0.000       0.231       0.493\n",
      "holiday_Festival       -0.3909      0.105     -3.723      0.000      -0.597      -0.185\n",
      "hum                    -0.1739      0.021     -8.468      0.000      -0.214      -0.134\n",
      "windspeed              -0.1026      0.020     -5.240      0.000      -0.141      -0.064\n",
      "Awareness               1.0002      0.037     26.954      0.000       0.927       1.073\n",
      "weekday_Monday         -0.1391      0.054     -2.581      0.010      -0.245      -0.033\n",
      "weekday_Sunday          0.1205      0.054      2.221      0.027       0.014       0.227\n",
      "weekday_Wednesday      -0.0134      0.056     -0.239      0.811      -0.124       0.097\n",
      "==============================================================================\n",
      "Omnibus:                       48.946   Durbin-Watson:                   2.109\n",
      "Prob(Omnibus):                  0.000   Jarque-Bera (JB):               99.552\n",
      "Skew:                          -0.568   Prob(JB):                     2.41e-22\n",
      "Kurtosis:                       4.865   Cond. No.                         8.79\n",
      "==============================================================================\n",
      "\n",
      "Warnings:\n",
      "[1] Standard Errors assume that the covariance matrix of the errors is correctly specified.\n"
     ]
    }
   ],
   "source": [
    "# Add a constant\n",
    "x_train_manual = sm.add_constant(x_train[['atemp','season_spring','season_winter',\\\n",
    "                                          'weathersit_MildRain','mnth_September','holiday_Festival','hum','windspeed','Awareness','weekday_Monday','weekday_Sunday','weekday_Wednesday']])\n",
    "# Create a first fitted model\n",
    "lr_mod2 = sm.OLS(y_train, x_train_manual).fit()\n",
    "# Summary\n",
    "print(lr_mod2.summary())"
   ]
  },
  {
   "cell_type": "code",
   "execution_count": 131,
   "metadata": {},
   "outputs": [
    {
     "name": "stdout",
     "output_type": "stream",
     "text": [
      "                            OLS Regression Results                            \n",
      "==============================================================================\n",
      "Dep. Variable:                    cnt   R-squared:                       0.839\n",
      "Model:                            OLS   Adj. R-squared:                  0.836\n",
      "Method:                 Least Squares   F-statistic:                     231.9\n",
      "Date:                Sat, 05 Dec 2020   Prob (F-statistic):          4.93e-186\n",
      "Time:                        12:32:09   Log-Likelihood:                -253.19\n",
      "No. Observations:                 501   AIC:                             530.4\n",
      "Df Residuals:                     489   BIC:                             581.0\n",
      "Df Model:                          11                                         \n",
      "Covariance Type:            nonrobust                                         \n",
      "=======================================================================================\n",
      "                          coef    std err          t      P>|t|      [0.025      0.975]\n",
      "---------------------------------------------------------------------------------------\n",
      "const                  -0.4433      0.039    -11.271      0.000      -0.521      -0.366\n",
      "atemp                   0.4769      0.029     16.464      0.000       0.420       0.534\n",
      "season_spring          -0.5015      0.068     -7.403      0.000      -0.635      -0.368\n",
      "season_winter           0.2422      0.055      4.432      0.000       0.135       0.350\n",
      "weathersit_MildRain    -0.7270      0.129     -5.647      0.000      -0.980      -0.474\n",
      "mnth_September          0.3615      0.067      5.436      0.000       0.231       0.492\n",
      "holiday_Festival       -0.3883      0.104     -3.721      0.000      -0.593      -0.183\n",
      "hum                    -0.1739      0.021     -8.479      0.000      -0.214      -0.134\n",
      "windspeed              -0.1029      0.020     -5.268      0.000      -0.141      -0.065\n",
      "Awareness               1.0004      0.037     26.991      0.000       0.928       1.073\n",
      "weekday_Monday         -0.1365      0.053     -2.588      0.010      -0.240      -0.033\n",
      "weekday_Sunday          0.1231      0.053      2.317      0.021       0.019       0.228\n",
      "==============================================================================\n",
      "Omnibus:                       48.584   Durbin-Watson:                   2.107\n",
      "Prob(Omnibus):                  0.000   Jarque-Bera (JB):               98.617\n",
      "Skew:                          -0.565   Prob(JB):                     3.85e-22\n",
      "Kurtosis:                       4.857   Cond. No.                         8.75\n",
      "==============================================================================\n",
      "\n",
      "Warnings:\n",
      "[1] Standard Errors assume that the covariance matrix of the errors is correctly specified.\n"
     ]
    }
   ],
   "source": [
    "# Final Model based on feature selction would be the below\n",
    "# Add a constant\n",
    "x_train_manual = sm.add_constant(x_train[['atemp','season_spring','season_winter',\\\n",
    "                                          'weathersit_MildRain','mnth_September','holiday_Festival','hum','windspeed','Awareness','weekday_Monday','weekday_Sunday']])\n",
    "# Create a first fitted model\n",
    "lr_mod2 = sm.OLS(y_train, x_train_manual).fit()\n",
    "# Summary\n",
    "print(lr_mod2.summary())"
   ]
  },
  {
   "cell_type": "code",
   "execution_count": 132,
   "metadata": {},
   "outputs": [
    {
     "data": {
      "text/html": [
       "<div>\n",
       "<style scoped>\n",
       "    .dataframe tbody tr th:only-of-type {\n",
       "        vertical-align: middle;\n",
       "    }\n",
       "\n",
       "    .dataframe tbody tr th {\n",
       "        vertical-align: top;\n",
       "    }\n",
       "\n",
       "    .dataframe thead th {\n",
       "        text-align: right;\n",
       "    }\n",
       "</style>\n",
       "<table border=\"1\" class=\"dataframe\">\n",
       "  <thead>\n",
       "    <tr style=\"text-align: right;\">\n",
       "      <th></th>\n",
       "      <th>Features</th>\n",
       "      <th>VIF</th>\n",
       "    </tr>\n",
       "  </thead>\n",
       "  <tbody>\n",
       "    <tr>\n",
       "      <th>1</th>\n",
       "      <td>season_spring</td>\n",
       "      <td>2.13</td>\n",
       "    </tr>\n",
       "    <tr>\n",
       "      <th>0</th>\n",
       "      <td>atemp</td>\n",
       "      <td>2.03</td>\n",
       "    </tr>\n",
       "    <tr>\n",
       "      <th>8</th>\n",
       "      <td>Awareness</td>\n",
       "      <td>1.69</td>\n",
       "    </tr>\n",
       "    <tr>\n",
       "      <th>2</th>\n",
       "      <td>season_winter</td>\n",
       "      <td>1.51</td>\n",
       "    </tr>\n",
       "    <tr>\n",
       "      <th>6</th>\n",
       "      <td>hum</td>\n",
       "      <td>1.28</td>\n",
       "    </tr>\n",
       "    <tr>\n",
       "      <th>3</th>\n",
       "      <td>weathersit_MildRain</td>\n",
       "      <td>1.19</td>\n",
       "    </tr>\n",
       "    <tr>\n",
       "      <th>10</th>\n",
       "      <td>weekday_Sunday</td>\n",
       "      <td>1.16</td>\n",
       "    </tr>\n",
       "    <tr>\n",
       "      <th>4</th>\n",
       "      <td>mnth_September</td>\n",
       "      <td>1.15</td>\n",
       "    </tr>\n",
       "    <tr>\n",
       "      <th>7</th>\n",
       "      <td>windspeed</td>\n",
       "      <td>1.15</td>\n",
       "    </tr>\n",
       "    <tr>\n",
       "      <th>9</th>\n",
       "      <td>weekday_Monday</td>\n",
       "      <td>1.14</td>\n",
       "    </tr>\n",
       "    <tr>\n",
       "      <th>5</th>\n",
       "      <td>holiday_Festival</td>\n",
       "      <td>1.05</td>\n",
       "    </tr>\n",
       "  </tbody>\n",
       "</table>\n",
       "</div>"
      ],
      "text/plain": [
       "               Features   VIF\n",
       "1         season_spring  2.13\n",
       "0                 atemp  2.03\n",
       "8             Awareness  1.69\n",
       "2         season_winter  1.51\n",
       "6                   hum  1.28\n",
       "3   weathersit_MildRain  1.19\n",
       "10       weekday_Sunday  1.16\n",
       "4        mnth_September  1.15\n",
       "7             windspeed  1.15\n",
       "9        weekday_Monday  1.14\n",
       "5      holiday_Festival  1.05"
      ]
     },
     "execution_count": 132,
     "metadata": {},
     "output_type": "execute_result"
    }
   ],
   "source": [
    "# Now since all columns seem to be significant, we will cross check with VIF\n",
    "x_train_vif = x_train_manual.drop('const',axis=1)\n",
    "\n",
    "vif = pd.DataFrame()\n",
    "vif['Features'] = x_train_vif.columns\n",
    "vif['VIF'] = [variance_inflation_factor(x_train_vif.values,i) for i in range(x_train_vif.shape[1])]\n",
    "vif['VIF'] = round(vif['VIF'],2)\n",
    "vif = vif.sort_values(by='VIF',ascending=False)\n",
    "vif"
   ]
  },
  {
   "cell_type": "code",
   "execution_count": 133,
   "metadata": {},
   "outputs": [],
   "source": [
    "# Trying to remove variables with VIF greater than 2.5"
   ]
  },
  {
   "cell_type": "code",
   "execution_count": 134,
   "metadata": {},
   "outputs": [],
   "source": [
    "# Residual analysis\n",
    "y_train_pred = lr_mod2.predict(x_train_manual)"
   ]
  },
  {
   "cell_type": "code",
   "execution_count": 135,
   "metadata": {},
   "outputs": [
    {
     "data": {
      "text/plain": [
       "Text(0.5, 0, 'Errors')"
      ]
     },
     "execution_count": 135,
     "metadata": {},
     "output_type": "execute_result"
    },
    {
     "data": {
      "image/png": "[encoded data removed]",
      "text/plain": [
       "<Figure size 432x288 with 1 Axes>"
      ]
     },
     "metadata": {
      "needs_background": "light"
     },
     "output_type": "display_data"
    }
   ],
   "source": [
    "# Plot the histogram of the error terms\n",
    "fig = plt.figure()\n",
    "sns.distplot((y_train - y_train_pred), bins = 20)\n",
    "fig.suptitle('Error Terms', fontsize = 20)                  # Plot heading \n",
    "plt.xlabel('Errors', fontsize = 18)                         # X-label"
   ]
  },
  {
   "cell_type": "code",
   "execution_count": 136,
   "metadata": {},
   "outputs": [
    {
     "data": {
      "text/html": [
       "<div>\n",
       "<style scoped>\n",
       "    .dataframe tbody tr th:only-of-type {\n",
       "        vertical-align: middle;\n",
       "    }\n",
       "\n",
       "    .dataframe tbody tr th {\n",
       "        vertical-align: top;\n",
       "    }\n",
       "\n",
       "    .dataframe thead th {\n",
       "        text-align: right;\n",
       "    }\n",
       "</style>\n",
       "<table border=\"1\" class=\"dataframe\">\n",
       "  <thead>\n",
       "    <tr style=\"text-align: right;\">\n",
       "      <th></th>\n",
       "      <th>Awareness</th>\n",
       "      <th>temp</th>\n",
       "      <th>atemp</th>\n",
       "      <th>hum</th>\n",
       "      <th>windspeed</th>\n",
       "      <th>cnt</th>\n",
       "      <th>ratio_register</th>\n",
       "      <th>season_fall</th>\n",
       "      <th>season_spring</th>\n",
       "      <th>season_summer</th>\n",
       "      <th>...</th>\n",
       "      <th>weekday_Saturday</th>\n",
       "      <th>weekday_Sunday</th>\n",
       "      <th>weekday_Thursday</th>\n",
       "      <th>weekday_Tuesday</th>\n",
       "      <th>weekday_Wednesday</th>\n",
       "      <th>workingday_Break</th>\n",
       "      <th>workingday_Work</th>\n",
       "      <th>weathersit_MildClear</th>\n",
       "      <th>weathersit_MildRain</th>\n",
       "      <th>weathersit_VeryClear</th>\n",
       "    </tr>\n",
       "  </thead>\n",
       "  <tbody>\n",
       "    <tr>\n",
       "      <th>583</th>\n",
       "      <td>1</td>\n",
       "      <td>1.326594</td>\n",
       "      <td>1.390879</td>\n",
       "      <td>0.515417</td>\n",
       "      <td>-0.949706</td>\n",
       "      <td>1.392041</td>\n",
       "      <td>-0.420339</td>\n",
       "      <td>1</td>\n",
       "      <td>0</td>\n",
       "      <td>0</td>\n",
       "      <td>...</td>\n",
       "      <td>0</td>\n",
       "      <td>0</td>\n",
       "      <td>0</td>\n",
       "      <td>0</td>\n",
       "      <td>1</td>\n",
       "      <td>1</td>\n",
       "      <td>0</td>\n",
       "      <td>1</td>\n",
       "      <td>0</td>\n",
       "      <td>0</td>\n",
       "    </tr>\n",
       "    <tr>\n",
       "      <th>493</th>\n",
       "      <td>1</td>\n",
       "      <td>0.450737</td>\n",
       "      <td>0.503898</td>\n",
       "      <td>0.807202</td>\n",
       "      <td>0.403985</td>\n",
       "      <td>0.091044</td>\n",
       "      <td>-0.150204</td>\n",
       "      <td>0</td>\n",
       "      <td>0</td>\n",
       "      <td>1</td>\n",
       "      <td>...</td>\n",
       "      <td>0</td>\n",
       "      <td>0</td>\n",
       "      <td>1</td>\n",
       "      <td>0</td>\n",
       "      <td>0</td>\n",
       "      <td>1</td>\n",
       "      <td>0</td>\n",
       "      <td>1</td>\n",
       "      <td>0</td>\n",
       "      <td>0</td>\n",
       "    </tr>\n",
       "    <tr>\n",
       "      <th>294</th>\n",
       "      <td>0</td>\n",
       "      <td>-0.379740</td>\n",
       "      <td>-0.278415</td>\n",
       "      <td>-0.023024</td>\n",
       "      <td>-1.279494</td>\n",
       "      <td>-0.117135</td>\n",
       "      <td>-0.817099</td>\n",
       "      <td>0</td>\n",
       "      <td>0</td>\n",
       "      <td>0</td>\n",
       "      <td>...</td>\n",
       "      <td>0</td>\n",
       "      <td>1</td>\n",
       "      <td>0</td>\n",
       "      <td>0</td>\n",
       "      <td>0</td>\n",
       "      <td>0</td>\n",
       "      <td>1</td>\n",
       "      <td>0</td>\n",
       "      <td>0</td>\n",
       "      <td>1</td>\n",
       "    </tr>\n",
       "    <tr>\n",
       "      <th>157</th>\n",
       "      <td>0</td>\n",
       "      <td>1.172299</td>\n",
       "      <td>1.135261</td>\n",
       "      <td>-0.248629</td>\n",
       "      <td>0.014845</td>\n",
       "      <td>0.150088</td>\n",
       "      <td>-0.330294</td>\n",
       "      <td>0</td>\n",
       "      <td>0</td>\n",
       "      <td>1</td>\n",
       "      <td>...</td>\n",
       "      <td>0</td>\n",
       "      <td>0</td>\n",
       "      <td>0</td>\n",
       "      <td>0</td>\n",
       "      <td>1</td>\n",
       "      <td>1</td>\n",
       "      <td>0</td>\n",
       "      <td>0</td>\n",
       "      <td>0</td>\n",
       "      <td>1</td>\n",
       "    </tr>\n",
       "    <tr>\n",
       "      <th>670</th>\n",
       "      <td>1</td>\n",
       "      <td>-0.747329</td>\n",
       "      <td>-0.704435</td>\n",
       "      <td>-0.796101</td>\n",
       "      <td>1.080980</td>\n",
       "      <td>0.666211</td>\n",
       "      <td>0.110082</td>\n",
       "      <td>0</td>\n",
       "      <td>0</td>\n",
       "      <td>0</td>\n",
       "      <td>...</td>\n",
       "      <td>1</td>\n",
       "      <td>0</td>\n",
       "      <td>0</td>\n",
       "      <td>0</td>\n",
       "      <td>0</td>\n",
       "      <td>1</td>\n",
       "      <td>0</td>\n",
       "      <td>0</td>\n",
       "      <td>0</td>\n",
       "      <td>1</td>\n",
       "    </tr>\n",
       "  </tbody>\n",
       "</table>\n",
       "<p>5 rows × 37 columns</p>\n",
       "</div>"
      ],
      "text/plain": [
       "     Awareness      temp     atemp       hum  windspeed       cnt  \\\n",
       "583          1  1.326594  1.390879  0.515417  -0.949706  1.392041   \n",
       "493          1  0.450737  0.503898  0.807202   0.403985  0.091044   \n",
       "294          0 -0.379740 -0.278415 -0.023024  -1.279494 -0.117135   \n",
       "157          0  1.172299  1.135261 -0.248629   0.014845  0.150088   \n",
       "670          1 -0.747329 -0.704435 -0.796101   1.080980  0.666211   \n",
       "\n",
       "     ratio_register  season_fall  season_spring  season_summer  ...  \\\n",
       "583       -0.420339            1              0              0  ...   \n",
       "493       -0.150204            0              0              1  ...   \n",
       "294       -0.817099            0              0              0  ...   \n",
       "157       -0.330294            0              0              1  ...   \n",
       "670        0.110082            0              0              0  ...   \n",
       "\n",
       "     weekday_Saturday  weekday_Sunday  weekday_Thursday  weekday_Tuesday  \\\n",
       "583                 0               0                 0                0   \n",
       "493                 0               0                 1                0   \n",
       "294                 0               1                 0                0   \n",
       "157                 0               0                 0                0   \n",
       "670                 1               0                 0                0   \n",
       "\n",
       "     weekday_Wednesday  workingday_Break  workingday_Work  \\\n",
       "583                  1                 1                0   \n",
       "493                  0                 1                0   \n",
       "294                  0                 0                1   \n",
       "157                  1                 1                0   \n",
       "670                  0                 1                0   \n",
       "\n",
       "     weathersit_MildClear  weathersit_MildRain  weathersit_VeryClear  \n",
       "583                     1                    0                     0  \n",
       "493                     1                    0                     0  \n",
       "294                     0                    0                     1  \n",
       "157                     0                    0                     1  \n",
       "670                     0                    0                     1  \n",
       "\n",
       "[5 rows x 37 columns]"
      ]
     },
     "execution_count": 136,
     "metadata": {},
     "output_type": "execute_result"
    }
   ],
   "source": [
    "#Making Predictions on Final Model\n",
    "# All numerical columns would be scaled to secure best inference capability in the test set\n",
    "\n",
    "m2_test[num_cols] = scaler.transform(m2_test[num_cols])\n",
    "m2_test.head()"
   ]
  },
  {
   "cell_type": "code",
   "execution_count": 137,
   "metadata": {},
   "outputs": [
    {
     "data": {
      "text/plain": [
       "Index(['Awareness', 'temp', 'atemp', 'hum', 'windspeed', 'cnt',\n",
       "       'ratio_register', 'season_fall', 'season_spring', 'season_summer',\n",
       "       'season_winter', 'mnth_April', 'mnth_August', 'mnth_December',\n",
       "       'mnth_February', 'mnth_January', 'mnth_July', 'mnth_June', 'mnth_March',\n",
       "       'mnth_May', 'mnth_November', 'mnth_October', 'mnth_September',\n",
       "       'holiday_Festival', 'holiday_Work', 'weekday_Friday', 'weekday_Monday',\n",
       "       'weekday_Saturday', 'weekday_Sunday', 'weekday_Thursday',\n",
       "       'weekday_Tuesday', 'weekday_Wednesday', 'workingday_Break',\n",
       "       'workingday_Work', 'weathersit_MildClear', 'weathersit_MildRain',\n",
       "       'weathersit_VeryClear'],\n",
       "      dtype='object')"
      ]
     },
     "execution_count": 137,
     "metadata": {},
     "output_type": "execute_result"
    }
   ],
   "source": [
    "m2_test.columns"
   ]
  },
  {
   "cell_type": "code",
   "execution_count": 138,
   "metadata": {},
   "outputs": [
    {
     "data": {
      "text/plain": [
       "-1.6634145560391098"
      ]
     },
     "execution_count": 138,
     "metadata": {},
     "output_type": "execute_result"
    }
   ],
   "source": [
    "# Creating a copy of test set data\n",
    "copy_m2_test = m2_test.copy()\n",
    "# Validating the result from the Model2\n",
    "y_test = copy_m2_test.pop('cnt')\n",
    "x_test = copy_m2_test\n",
    "\n",
    "# Adding constant variable to test dataframe\n",
    "x_test_m2 = sm.add_constant(x_test)\n",
    "\n",
    "# Creating x_test_m2 dataframe by dropping variables not in model 2\n",
    "x_test_m2.drop(['temp', 'ratio_register', 'season_fall', 'season_summer','mnth_April', 'mnth_August', 'mnth_December','mnth_February', 'mnth_January', 'mnth_July', 'mnth_June', 'mnth_March','mnth_May', 'mnth_November', 'mnth_October','holiday_Work', 'weekday_Friday','weekday_Saturday', 'weekday_Thursday', 'weekday_Tuesday', 'weekday_Wednesday', 'workingday_Break','workingday_Work', 'weathersit_MildClear','weathersit_VeryClear'], axis = 1,inplace=True)\n",
    "\n",
    "# Making predictions using the 2nd model\n",
    "y_pred_m2 = lr_mod2.predict(x_test_m2)\n",
    "\n",
    "#Finding the R square for test set:\n",
    "r2_score(y_true=y_test,y_pred=y_pred_m2)"
   ]
  },
  {
   "cell_type": "code",
   "execution_count": 132,
   "metadata": {},
   "outputs": [],
   "source": [
    "# The R2 square value is negative meaning the the model is incorrect. But since the Rsquare of model is good enough, we now check for overfitting\n",
    "# We will remove features with higher p value as VIF is less than 5 for now"
   ]
  },
  {
   "cell_type": "code",
   "execution_count": 133,
   "metadata": {},
   "outputs": [
    {
     "name": "stdout",
     "output_type": "stream",
     "text": [
      "                            OLS Regression Results                            \n",
      "==============================================================================\n",
      "Dep. Variable:                    cnt   R-squared:                       0.837\n",
      "Model:                            OLS   Adj. R-squared:                  0.834\n",
      "Method:                 Least Squares   F-statistic:                     252.3\n",
      "Date:                Sun, 29 Nov 2020   Prob (F-statistic):          4.32e-186\n",
      "Time:                        11:12:55   Log-Likelihood:                -255.92\n",
      "No. Observations:                 501   AIC:                             533.8\n",
      "Df Residuals:                     490   BIC:                             580.2\n",
      "Df Model:                          10                                         \n",
      "Covariance Type:            nonrobust                                         \n",
      "=======================================================================================\n",
      "                          coef    std err          t      P>|t|      [0.025      0.975]\n",
      "---------------------------------------------------------------------------------------\n",
      "const                  -0.8338      0.108     -7.713      0.000      -1.046      -0.621\n",
      "atemp                   0.4743      0.029     16.313      0.000       0.417       0.531\n",
      "season_spring          -0.5036      0.068     -7.402      0.000      -0.637      -0.370\n",
      "season_winter           0.2450      0.055      4.464      0.000       0.137       0.353\n",
      "weathersit_MildRain    -0.7324      0.129     -5.666      0.000      -0.986      -0.478\n",
      "mnth_September          0.3656      0.067      5.475      0.000       0.234       0.497\n",
      "holiday_Work            0.4099      0.104      3.927      0.000       0.205       0.615\n",
      "hum                    -0.1723      0.021     -8.367      0.000      -0.213      -0.132\n",
      "windspeed              -0.1010      0.020     -5.154      0.000      -0.140      -0.063\n",
      "Awareness               1.0030      0.037     26.951      0.000       0.930       1.076\n",
      "weekday_Monday         -0.1577      0.052     -3.022      0.003      -0.260      -0.055\n",
      "==============================================================================\n",
      "Omnibus:                       43.591   Durbin-Watson:                   2.106\n",
      "Prob(Omnibus):                  0.000   Jarque-Bera (JB):               93.048\n",
      "Skew:                          -0.494   Prob(JB):                     6.24e-21\n",
      "Kurtosis:                       4.865   Cond. No.                         12.6\n",
      "==============================================================================\n",
      "\n",
      "Warnings:\n",
      "[1] Standard Errors assume that the covariance matrix of the errors is correctly specified.\n"
     ]
    }
   ],
   "source": [
    "# Add a constant\n",
    "x_train_manual = sm.add_constant(x_train[['atemp','season_spring','season_winter',\\\n",
    "                                          'weathersit_MildRain','mnth_September','holiday_Work','hum','windspeed','Awareness','weekday_Monday']])\n",
    "# Create a first fitted model\n",
    "lr_mod2 = sm.OLS(y_train, x_train_manual).fit()\n",
    "# Summary\n",
    "print(lr_mod2.summary())"
   ]
  },
  {
   "cell_type": "code",
   "execution_count": 134,
   "metadata": {},
   "outputs": [
    {
     "data": {
      "text/html": [
       "<div>\n",
       "<style scoped>\n",
       "    .dataframe tbody tr th:only-of-type {\n",
       "        vertical-align: middle;\n",
       "    }\n",
       "\n",
       "    .dataframe tbody tr th {\n",
       "        vertical-align: top;\n",
       "    }\n",
       "\n",
       "    .dataframe thead th {\n",
       "        text-align: right;\n",
       "    }\n",
       "</style>\n",
       "<table border=\"1\" class=\"dataframe\">\n",
       "  <thead>\n",
       "    <tr style=\"text-align: right;\">\n",
       "      <th></th>\n",
       "      <th>Features</th>\n",
       "      <th>VIF</th>\n",
       "    </tr>\n",
       "  </thead>\n",
       "  <tbody>\n",
       "    <tr>\n",
       "      <th>5</th>\n",
       "      <td>holiday_Work</td>\n",
       "      <td>4.02</td>\n",
       "    </tr>\n",
       "    <tr>\n",
       "      <th>1</th>\n",
       "      <td>season_spring</td>\n",
       "      <td>3.15</td>\n",
       "    </tr>\n",
       "    <tr>\n",
       "      <th>0</th>\n",
       "      <td>atemp</td>\n",
       "      <td>2.48</td>\n",
       "    </tr>\n",
       "    <tr>\n",
       "      <th>2</th>\n",
       "      <td>season_winter</td>\n",
       "      <td>2.11</td>\n",
       "    </tr>\n",
       "    <tr>\n",
       "      <th>8</th>\n",
       "      <td>Awareness</td>\n",
       "      <td>2.07</td>\n",
       "    </tr>\n",
       "    <tr>\n",
       "      <th>6</th>\n",
       "      <td>hum</td>\n",
       "      <td>1.27</td>\n",
       "    </tr>\n",
       "    <tr>\n",
       "      <th>3</th>\n",
       "      <td>weathersit_MildRain</td>\n",
       "      <td>1.21</td>\n",
       "    </tr>\n",
       "    <tr>\n",
       "      <th>9</th>\n",
       "      <td>weekday_Monday</td>\n",
       "      <td>1.18</td>\n",
       "    </tr>\n",
       "    <tr>\n",
       "      <th>4</th>\n",
       "      <td>mnth_September</td>\n",
       "      <td>1.17</td>\n",
       "    </tr>\n",
       "    <tr>\n",
       "      <th>7</th>\n",
       "      <td>windspeed</td>\n",
       "      <td>1.16</td>\n",
       "    </tr>\n",
       "  </tbody>\n",
       "</table>\n",
       "</div>"
      ],
      "text/plain": [
       "              Features   VIF\n",
       "5         holiday_Work  4.02\n",
       "1        season_spring  3.15\n",
       "0                atemp  2.48\n",
       "2        season_winter  2.11\n",
       "8            Awareness  2.07\n",
       "6                  hum  1.27\n",
       "3  weathersit_MildRain  1.21\n",
       "9       weekday_Monday  1.18\n",
       "4       mnth_September  1.17\n",
       "7            windspeed  1.16"
      ]
     },
     "execution_count": 134,
     "metadata": {},
     "output_type": "execute_result"
    }
   ],
   "source": [
    "# Now since all columns seem to be significant, we will cross check with VIF\n",
    "x_train_vif = x_train_manual.drop('const',axis=1)\n",
    "\n",
    "vif = pd.DataFrame()\n",
    "vif['Features'] = x_train_vif.columns\n",
    "vif['VIF'] = [variance_inflation_factor(x_train_vif.values,i) for i in range(x_train_vif.shape[1])]\n",
    "vif['VIF'] = round(vif['VIF'],2)\n",
    "vif = vif.sort_values(by='VIF',ascending=False)\n",
    "vif"
   ]
  },
  {
   "cell_type": "code",
   "execution_count": 135,
   "metadata": {},
   "outputs": [
    {
     "data": {
      "text/plain": [
       "Text(0.5, 0, 'Errors')"
      ]
     },
     "execution_count": 135,
     "metadata": {},
     "output_type": "execute_result"
    },
    {
     "data": {
      "image/png": "[encoded data removed]",
      "text/plain": [
       "<Figure size 432x288 with 1 Axes>"
      ]
     },
     "metadata": {
      "needs_background": "light"
     },
     "output_type": "display_data"
    }
   ],
   "source": [
    "# Residual analysis\n",
    "y_train_pred = lr_mod2.predict(x_train_manual)\n",
    "# Plot the histogram of the error terms\n",
    "fig = plt.figure()\n",
    "sns.distplot((y_train - y_train_pred), bins = 20)\n",
    "fig.suptitle('Error Terms', fontsize = 20)                  # Plot heading \n",
    "plt.xlabel('Errors', fontsize = 18)                         # X-label"
   ]
  },
  {
   "cell_type": "code",
   "execution_count": 136,
   "metadata": {},
   "outputs": [
    {
     "data": {
      "text/plain": [
       "-1.9628012149301877"
      ]
     },
     "execution_count": 136,
     "metadata": {},
     "output_type": "execute_result"
    }
   ],
   "source": [
    "# Creating a copy of test set data\n",
    "copy_m2_test = m2_test.copy()\n",
    "# Validating the result from the Model2\n",
    "y_test = copy_m2_test.pop('cnt')\n",
    "x_test = copy_m2_test\n",
    "\n",
    "# Adding constant variable to test dataframe\n",
    "x_test_m2 = sm.add_constant(x_test)\n",
    "\n",
    "# Creating x_test_m2 dataframe by dropping variables not in model 2\n",
    "x_test_m2 = x_test_m2.drop(['weekday_Sunday','temp', 'ratio_register', 'season_fall', 'season_summer', 'mnth_April', 'mnth_August', 'mnth_December','mnth_February', 'mnth_January', 'mnth_July', 'mnth_June', 'mnth_March', 'mnth_May', 'mnth_November', 'mnth_October', 'holiday_Festival', 'weekday_Friday','weekday_Saturday', 'weekday_Thursday', 'weekday_Tuesday', 'weekday_Wednesday', 'workingday_Break','workingday_Work', 'weathersit_MildClear', 'weathersit_VeryClear'], axis = 1)\n",
    "\n",
    "# Making predictions using the 2nd model\n",
    "y_pred_m2 = lr_mod2.predict(x_test_m2)\n",
    "\n",
    "#Finding the R square for test set:\n",
    "r2_score(y_true=y_test,y_pred=y_pred_m2)"
   ]
  },
  {
   "cell_type": "code",
   "execution_count": 2072,
   "metadata": {},
   "outputs": [
    {
     "name": "stdout",
     "output_type": "stream",
     "text": [
      "                            OLS Regression Results                            \n",
      "==============================================================================\n",
      "Dep. Variable:                    cnt   R-squared:                       0.832\n",
      "Model:                            OLS   Adj. R-squared:                  0.829\n",
      "Method:                 Least Squares   F-statistic:                     270.7\n",
      "Date:                Fri, 27 Nov 2020   Prob (F-statistic):          4.93e-184\n",
      "Time:                        09:37:10   Log-Likelihood:                -263.68\n",
      "No. Observations:                 501   AIC:                             547.4\n",
      "Df Residuals:                     491   BIC:                             589.5\n",
      "Df Model:                           9                                         \n",
      "Covariance Type:            nonrobust                                         \n",
      "=======================================================================================\n",
      "                          coef    std err          t      P>|t|      [0.025      0.975]\n",
      "---------------------------------------------------------------------------------------\n",
      "const                  -0.4371      0.039    -11.205      0.000      -0.514      -0.360\n",
      "atemp                   0.4747      0.029     16.092      0.000       0.417       0.533\n",
      "season_spring          -0.5135      0.069     -7.445      0.000      -0.649      -0.378\n",
      "season_winter           0.2401      0.056      4.314      0.000       0.131       0.349\n",
      "weathersit_MildRain    -0.7210      0.131     -5.498      0.000      -0.979      -0.463\n",
      "mnth_September          0.3534      0.068      5.221      0.000       0.220       0.486\n",
      "hum                    -0.1691      0.021     -8.098      0.000      -0.210      -0.128\n",
      "windspeed              -0.1026      0.020     -5.159      0.000      -0.142      -0.064\n",
      "Awareness               1.0075      0.038     26.696      0.000       0.933       1.082\n",
      "weekday_Monday         -0.1419      0.053     -2.690      0.007      -0.246      -0.038\n",
      "==============================================================================\n",
      "Omnibus:                       54.840   Durbin-Watson:                   2.104\n",
      "Prob(Omnibus):                  0.000   Jarque-Bera (JB):              125.294\n",
      "Skew:                          -0.591   Prob(JB):                     6.20e-28\n",
      "Kurtosis:                       5.145   Cond. No.                         8.69\n",
      "==============================================================================\n",
      "\n",
      "Warnings:\n",
      "[1] Standard Errors assume that the covariance matrix of the errors is correctly specified.\n"
     ]
    }
   ],
   "source": [
    "# Dropping holiday_Work which has highest VIF\n",
    "# Add a constant\n",
    "x_train_manual = sm.add_constant(x_train[['atemp','season_spring','season_winter',\\\n",
    "                                          'weathersit_MildRain','mnth_September','hum','windspeed','Awareness','weekday_Monday']])\n",
    "# Create a first fitted model\n",
    "lr_mod2 = sm.OLS(y_train, x_train_manual).fit()\n",
    "# Summary\n",
    "print(lr_mod2.summary())"
   ]
  },
  {
   "cell_type": "code",
   "execution_count": 2073,
   "metadata": {},
   "outputs": [
    {
     "data": {
      "text/html": [
       "<div>\n",
       "<style scoped>\n",
       "    .dataframe tbody tr th:only-of-type {\n",
       "        vertical-align: middle;\n",
       "    }\n",
       "\n",
       "    .dataframe tbody tr th {\n",
       "        vertical-align: top;\n",
       "    }\n",
       "\n",
       "    .dataframe thead th {\n",
       "        text-align: right;\n",
       "    }\n",
       "</style>\n",
       "<table border=\"1\" class=\"dataframe\">\n",
       "  <thead>\n",
       "    <tr style=\"text-align: right;\">\n",
       "      <th></th>\n",
       "      <th>Features</th>\n",
       "      <th>VIF</th>\n",
       "    </tr>\n",
       "  </thead>\n",
       "  <tbody>\n",
       "    <tr>\n",
       "      <th>1</th>\n",
       "      <td>season_spring</td>\n",
       "      <td>2.05</td>\n",
       "    </tr>\n",
       "    <tr>\n",
       "      <th>0</th>\n",
       "      <td>atemp</td>\n",
       "      <td>2.02</td>\n",
       "    </tr>\n",
       "    <tr>\n",
       "      <th>7</th>\n",
       "      <td>Awareness</td>\n",
       "      <td>1.66</td>\n",
       "    </tr>\n",
       "    <tr>\n",
       "      <th>2</th>\n",
       "      <td>season_winter</td>\n",
       "      <td>1.45</td>\n",
       "    </tr>\n",
       "    <tr>\n",
       "      <th>5</th>\n",
       "      <td>hum</td>\n",
       "      <td>1.27</td>\n",
       "    </tr>\n",
       "    <tr>\n",
       "      <th>3</th>\n",
       "      <td>weathersit_MildRain</td>\n",
       "      <td>1.19</td>\n",
       "    </tr>\n",
       "    <tr>\n",
       "      <th>4</th>\n",
       "      <td>mnth_September</td>\n",
       "      <td>1.15</td>\n",
       "    </tr>\n",
       "    <tr>\n",
       "      <th>6</th>\n",
       "      <td>windspeed</td>\n",
       "      <td>1.15</td>\n",
       "    </tr>\n",
       "    <tr>\n",
       "      <th>8</th>\n",
       "      <td>weekday_Monday</td>\n",
       "      <td>1.12</td>\n",
       "    </tr>\n",
       "  </tbody>\n",
       "</table>\n",
       "</div>"
      ],
      "text/plain": [
       "              Features   VIF\n",
       "1        season_spring  2.05\n",
       "0                atemp  2.02\n",
       "7            Awareness  1.66\n",
       "2        season_winter  1.45\n",
       "5                  hum  1.27\n",
       "3  weathersit_MildRain  1.19\n",
       "4       mnth_September  1.15\n",
       "6            windspeed  1.15\n",
       "8       weekday_Monday  1.12"
      ]
     },
     "execution_count": 2073,
     "metadata": {},
     "output_type": "execute_result"
    }
   ],
   "source": [
    "# Now since all columns seem to be significant, we will cross check with VIF\n",
    "x_train_vif = x_train_manual.drop('const',axis=1)\n",
    "\n",
    "vif = pd.DataFrame()\n",
    "vif['Features'] = x_train_vif.columns\n",
    "vif['VIF'] = [variance_inflation_factor(x_train_vif.values,i) for i in range(x_train_vif.shape[1])]\n",
    "vif['VIF'] = round(vif['VIF'],2)\n",
    "vif = vif.sort_values(by='VIF',ascending=False)\n",
    "vif"
   ]
  },
  {
   "cell_type": "code",
   "execution_count": 2074,
   "metadata": {},
   "outputs": [
    {
     "data": {
      "text/plain": [
       "Text(0.5, 0, 'Errors')"
      ]
     },
     "execution_count": 2074,
     "metadata": {},
     "output_type": "execute_result"
    },
    {
     "data": {
      "image/png": "[encoded data removed]",
      "text/plain": [
       "<Figure size 432x288 with 1 Axes>"
      ]
     },
     "metadata": {
      "needs_background": "light"
     },
     "output_type": "display_data"
    }
   ],
   "source": [
    "# Residual analysis\n",
    "y_train_pred = lr_mod2.predict(x_train_manual)\n",
    "# Plot the histogram of the error terms\n",
    "fig = plt.figure()\n",
    "sns.distplot((y_train - y_train_pred), bins = 20)\n",
    "fig.suptitle('Error Terms', fontsize = 20)                  # Plot heading \n",
    "plt.xlabel('Errors', fontsize = 18)                         # X-label"
   ]
  },
  {
   "cell_type": "code",
   "execution_count": 2075,
   "metadata": {},
   "outputs": [
    {
     "data": {
      "text/plain": [
       "-1.6258581485602939"
      ]
     },
     "execution_count": 2075,
     "metadata": {},
     "output_type": "execute_result"
    }
   ],
   "source": [
    "# Creating a copy of test set data\n",
    "copy_m2_test = m2_test.copy()\n",
    "# Validating the result from the Model2\n",
    "y_test = copy_m2_test.pop('cnt')\n",
    "x_test = copy_m2_test\n",
    "\n",
    "# Adding constant variable to test dataframe\n",
    "x_test_m2 = sm.add_constant(x_test)\n",
    "\n",
    "# Creating x_test_m2 dataframe by dropping variables not in model 2\n",
    "x_test_m2 = x_test_m2.drop(['holiday_Work','weekday_Sunday','temp', 'ratio_register', 'season_fall', 'season_summer', 'mnth_April', 'mnth_August', 'mnth_December','mnth_February', 'mnth_January', 'mnth_July', 'mnth_June', 'mnth_March', 'mnth_May', 'mnth_November', 'mnth_October', 'holiday_Festival', 'weekday_Friday','weekday_Saturday', 'weekday_Thursday', 'weekday_Tuesday', 'weekday_Wednesday', 'workingday_Break','workingday_Work', 'weathersit_MildClear', 'weathersit_VeryClear'], axis = 1)\n",
    "\n",
    "# Making predictions using the 2nd model\n",
    "y_pred_m2 = lr_mod2.predict(x_test_m2)\n",
    "\n",
    "#Finding the R square for test set:\n",
    "r2_score(y_true=y_test,y_pred=y_pred_m2)"
   ]
  },
  {
   "cell_type": "code",
   "execution_count": 2076,
   "metadata": {},
   "outputs": [
    {
     "name": "stdout",
     "output_type": "stream",
     "text": [
      "                            OLS Regression Results                            \n",
      "==============================================================================\n",
      "Dep. Variable:                    cnt   R-squared:                       0.830\n",
      "Model:                            OLS   Adj. R-squared:                  0.827\n",
      "Method:                 Least Squares   F-statistic:                     299.8\n",
      "Date:                Fri, 27 Nov 2020   Prob (F-statistic):          9.90e-184\n",
      "Time:                        09:38:38   Log-Likelihood:                -267.35\n",
      "No. Observations:                 501   AIC:                             552.7\n",
      "Df Residuals:                     492   BIC:                             590.6\n",
      "Df Model:                           8                                         \n",
      "Covariance Type:            nonrobust                                         \n",
      "=======================================================================================\n",
      "                          coef    std err          t      P>|t|      [0.025      0.975]\n",
      "---------------------------------------------------------------------------------------\n",
      "const                  -0.4589      0.038    -11.955      0.000      -0.534      -0.384\n",
      "atemp                   0.4740      0.030     15.970      0.000       0.416       0.532\n",
      "season_spring          -0.5148      0.069     -7.416      0.000      -0.651      -0.378\n",
      "season_winter           0.2415      0.056      4.312      0.000       0.131       0.352\n",
      "weathersit_MildRain    -0.7088      0.132     -5.375      0.000      -0.968      -0.450\n",
      "mnth_September          0.3509      0.068      5.153      0.000       0.217       0.485\n",
      "hum                    -0.1700      0.021     -8.094      0.000      -0.211      -0.129\n",
      "windspeed              -0.1041      0.020     -5.202      0.000      -0.143      -0.065\n",
      "Awareness               1.0102      0.038     26.609      0.000       0.936       1.085\n",
      "==============================================================================\n",
      "Omnibus:                       54.856   Durbin-Watson:                   2.130\n",
      "Prob(Omnibus):                  0.000   Jarque-Bera (JB):              121.910\n",
      "Skew:                          -0.601   Prob(JB):                     3.37e-27\n",
      "Kurtosis:                       5.097   Cond. No.                         8.63\n",
      "==============================================================================\n",
      "\n",
      "Warnings:\n",
      "[1] Standard Errors assume that the covariance matrix of the errors is correctly specified.\n"
     ]
    }
   ],
   "source": [
    "# Dropping weekday_Monday which has highest VIF\n",
    "# Add a constant\n",
    "x_train_manual = sm.add_constant(x_train[['atemp','season_spring','season_winter',\\\n",
    "                                          'weathersit_MildRain','mnth_September','hum','windspeed','Awareness']])\n",
    "# Create a first fitted model\n",
    "lr_mod2 = sm.OLS(y_train, x_train_manual).fit()\n",
    "# Summary\n",
    "print(lr_mod2.summary())"
   ]
  },
  {
   "cell_type": "code",
   "execution_count": 2077,
   "metadata": {},
   "outputs": [
    {
     "data": {
      "text/html": [
       "<div>\n",
       "<style scoped>\n",
       "    .dataframe tbody tr th:only-of-type {\n",
       "        vertical-align: middle;\n",
       "    }\n",
       "\n",
       "    .dataframe tbody tr th {\n",
       "        vertical-align: top;\n",
       "    }\n",
       "\n",
       "    .dataframe thead th {\n",
       "        text-align: right;\n",
       "    }\n",
       "</style>\n",
       "<table border=\"1\" class=\"dataframe\">\n",
       "  <thead>\n",
       "    <tr style=\"text-align: right;\">\n",
       "      <th></th>\n",
       "      <th>Features</th>\n",
       "      <th>VIF</th>\n",
       "    </tr>\n",
       "  </thead>\n",
       "  <tbody>\n",
       "    <tr>\n",
       "      <th>0</th>\n",
       "      <td>atemp</td>\n",
       "      <td>1.99</td>\n",
       "    </tr>\n",
       "    <tr>\n",
       "      <th>1</th>\n",
       "      <td>season_spring</td>\n",
       "      <td>1.98</td>\n",
       "    </tr>\n",
       "    <tr>\n",
       "      <th>7</th>\n",
       "      <td>Awareness</td>\n",
       "      <td>1.65</td>\n",
       "    </tr>\n",
       "    <tr>\n",
       "      <th>2</th>\n",
       "      <td>season_winter</td>\n",
       "      <td>1.42</td>\n",
       "    </tr>\n",
       "    <tr>\n",
       "      <th>5</th>\n",
       "      <td>hum</td>\n",
       "      <td>1.27</td>\n",
       "    </tr>\n",
       "    <tr>\n",
       "      <th>3</th>\n",
       "      <td>weathersit_MildRain</td>\n",
       "      <td>1.19</td>\n",
       "    </tr>\n",
       "    <tr>\n",
       "      <th>6</th>\n",
       "      <td>windspeed</td>\n",
       "      <td>1.15</td>\n",
       "    </tr>\n",
       "    <tr>\n",
       "      <th>4</th>\n",
       "      <td>mnth_September</td>\n",
       "      <td>1.14</td>\n",
       "    </tr>\n",
       "  </tbody>\n",
       "</table>\n",
       "</div>"
      ],
      "text/plain": [
       "              Features   VIF\n",
       "0                atemp  1.99\n",
       "1        season_spring  1.98\n",
       "7            Awareness  1.65\n",
       "2        season_winter  1.42\n",
       "5                  hum  1.27\n",
       "3  weathersit_MildRain  1.19\n",
       "6            windspeed  1.15\n",
       "4       mnth_September  1.14"
      ]
     },
     "execution_count": 2077,
     "metadata": {},
     "output_type": "execute_result"
    }
   ],
   "source": [
    "# Now since all columns seem to be significant, we will cross check with VIF\n",
    "x_train_vif = x_train_manual.drop('const',axis=1)\n",
    "\n",
    "vif = pd.DataFrame()\n",
    "vif['Features'] = x_train_vif.columns\n",
    "vif['VIF'] = [variance_inflation_factor(x_train_vif.values,i) for i in range(x_train_vif.shape[1])]\n",
    "vif['VIF'] = round(vif['VIF'],2)\n",
    "vif = vif.sort_values(by='VIF',ascending=False)\n",
    "vif"
   ]
  },
  {
   "cell_type": "code",
   "execution_count": 2078,
   "metadata": {},
   "outputs": [
    {
     "data": {
      "text/plain": [
       "Text(0.5, 0, 'Errors')"
      ]
     },
     "execution_count": 2078,
     "metadata": {},
     "output_type": "execute_result"
    },
    {
     "data": {
      "image/png": "[encoded data removed]",
      "text/plain": [
       "<Figure size 432x288 with 1 Axes>"
      ]
     },
     "metadata": {
      "needs_background": "light"
     },
     "output_type": "display_data"
    }
   ],
   "source": [
    "# Residual analysis\n",
    "y_train_pred = lr_mod2.predict(x_train_manual)\n",
    "# Plot the histogram of the error terms\n",
    "fig = plt.figure()\n",
    "sns.distplot((y_train - y_train_pred), bins = 20)\n",
    "fig.suptitle('Error Terms', fontsize = 20)                  # Plot heading \n",
    "plt.xlabel('Errors', fontsize = 18)                         # X-label"
   ]
  },
  {
   "cell_type": "code",
   "execution_count": 2079,
   "metadata": {},
   "outputs": [
    {
     "data": {
      "text/plain": [
       "-1.5823259966128393"
      ]
     },
     "execution_count": 2079,
     "metadata": {},
     "output_type": "execute_result"
    }
   ],
   "source": [
    "# Creating a copy of test set data\n",
    "copy_m2_test = m2_test.copy()\n",
    "# Validating the result from the Model2\n",
    "y_test = copy_m2_test.pop('cnt')\n",
    "x_test = copy_m2_test\n",
    "\n",
    "# Adding constant variable to test dataframe\n",
    "x_test_m2 = sm.add_constant(x_test)\n",
    "\n",
    "# Creating x_test_m2 dataframe by dropping variables not in model 2\n",
    "x_test_m2 = x_test_m2.drop(['weekday_Monday','holiday_Work','weekday_Sunday','temp', 'ratio_register', 'season_fall', 'season_summer', 'mnth_April', 'mnth_August', 'mnth_December','mnth_February', 'mnth_January', 'mnth_July', 'mnth_June', 'mnth_March', 'mnth_May', 'mnth_November', 'mnth_October', 'holiday_Festival', 'weekday_Friday','weekday_Saturday', 'weekday_Thursday', 'weekday_Tuesday', 'weekday_Wednesday', 'workingday_Break','workingday_Work', 'weathersit_MildClear', 'weathersit_VeryClear'], axis = 1)\n",
    "\n",
    "# Making predictions using the 2nd model\n",
    "y_pred_m2 = lr_mod2.predict(x_test_m2)\n",
    "\n",
    "#Finding the R square for test set:\n",
    "r2_score(y_true=y_test,y_pred=y_pred_m2)"
   ]
  },
  {
   "cell_type": "code",
   "execution_count": 2080,
   "metadata": {},
   "outputs": [
    {
     "name": "stdout",
     "output_type": "stream",
     "text": [
      "                            OLS Regression Results                            \n",
      "==============================================================================\n",
      "Dep. Variable:                    cnt   R-squared:                       0.742\n",
      "Model:                            OLS   Adj. R-squared:                  0.738\n",
      "Method:                 Least Squares   F-statistic:                     202.1\n",
      "Date:                Fri, 27 Nov 2020   Prob (F-statistic):          1.99e-140\n",
      "Time:                        09:40:05   Log-Likelihood:                -371.96\n",
      "No. Observations:                 501   AIC:                             759.9\n",
      "Df Residuals:                     493   BIC:                             793.7\n",
      "Df Model:                           7                                         \n",
      "Covariance Type:            nonrobust                                         \n",
      "=======================================================================================\n",
      "                          coef    std err          t      P>|t|      [0.025      0.975]\n",
      "---------------------------------------------------------------------------------------\n",
      "const                  -0.1718      0.042     -4.115      0.000      -0.254      -0.090\n",
      "season_spring          -1.3287      0.058    -22.904      0.000      -1.443      -1.215\n",
      "season_winter          -0.2621      0.057     -4.601      0.000      -0.374      -0.150\n",
      "weathersit_MildRain    -0.9115      0.162     -5.641      0.000      -1.229      -0.594\n",
      "mnth_September          0.4451      0.084      5.330      0.000       0.281       0.609\n",
      "hum                    -0.1217      0.026     -4.756      0.000      -0.172      -0.071\n",
      "windspeed              -0.1505      0.024     -6.177      0.000      -0.198      -0.103\n",
      "Awareness               1.0689      0.047     22.981      0.000       0.978       1.160\n",
      "==============================================================================\n",
      "Omnibus:                       26.930   Durbin-Watson:                   2.221\n",
      "Prob(Omnibus):                  0.000   Jarque-Bera (JB):               42.263\n",
      "Skew:                          -0.400   Prob(JB):                     6.65e-10\n",
      "Kurtosis:                       4.176   Cond. No.                         8.51\n",
      "==============================================================================\n",
      "\n",
      "Warnings:\n",
      "[1] Standard Errors assume that the covariance matrix of the errors is correctly specified.\n"
     ]
    }
   ],
   "source": [
    "# Dropping atemp which has highest VIF\n",
    "# Add a constant\n",
    "x_train_manual = sm.add_constant(x_train[['season_spring','season_winter',\\\n",
    "                                          'weathersit_MildRain','mnth_September','hum','windspeed','Awareness']])\n",
    "# Create a first fitted model\n",
    "lr_mod2 = sm.OLS(y_train, x_train_manual).fit()\n",
    "# Summary\n",
    "print(lr_mod2.summary())"
   ]
  },
  {
   "cell_type": "code",
   "execution_count": 2081,
   "metadata": {},
   "outputs": [
    {
     "data": {
      "text/html": [
       "<div>\n",
       "<style scoped>\n",
       "    .dataframe tbody tr th:only-of-type {\n",
       "        vertical-align: middle;\n",
       "    }\n",
       "\n",
       "    .dataframe tbody tr th {\n",
       "        vertical-align: top;\n",
       "    }\n",
       "\n",
       "    .dataframe thead th {\n",
       "        text-align: right;\n",
       "    }\n",
       "</style>\n",
       "<table border=\"1\" class=\"dataframe\">\n",
       "  <thead>\n",
       "    <tr style=\"text-align: right;\">\n",
       "      <th></th>\n",
       "      <th>Features</th>\n",
       "      <th>VIF</th>\n",
       "    </tr>\n",
       "  </thead>\n",
       "  <tbody>\n",
       "    <tr>\n",
       "      <th>6</th>\n",
       "      <td>Awareness</td>\n",
       "      <td>1.38</td>\n",
       "    </tr>\n",
       "    <tr>\n",
       "      <th>4</th>\n",
       "      <td>hum</td>\n",
       "      <td>1.25</td>\n",
       "    </tr>\n",
       "    <tr>\n",
       "      <th>1</th>\n",
       "      <td>season_winter</td>\n",
       "      <td>1.19</td>\n",
       "    </tr>\n",
       "    <tr>\n",
       "      <th>2</th>\n",
       "      <td>weathersit_MildRain</td>\n",
       "      <td>1.18</td>\n",
       "    </tr>\n",
       "    <tr>\n",
       "      <th>0</th>\n",
       "      <td>season_spring</td>\n",
       "      <td>1.17</td>\n",
       "    </tr>\n",
       "    <tr>\n",
       "      <th>5</th>\n",
       "      <td>windspeed</td>\n",
       "      <td>1.13</td>\n",
       "    </tr>\n",
       "    <tr>\n",
       "      <th>3</th>\n",
       "      <td>mnth_September</td>\n",
       "      <td>1.10</td>\n",
       "    </tr>\n",
       "  </tbody>\n",
       "</table>\n",
       "</div>"
      ],
      "text/plain": [
       "              Features   VIF\n",
       "6            Awareness  1.38\n",
       "4                  hum  1.25\n",
       "1        season_winter  1.19\n",
       "2  weathersit_MildRain  1.18\n",
       "0        season_spring  1.17\n",
       "5            windspeed  1.13\n",
       "3       mnth_September  1.10"
      ]
     },
     "execution_count": 2081,
     "metadata": {},
     "output_type": "execute_result"
    }
   ],
   "source": [
    "# Now since all columns seem to be significant, we will cross check with VIF\n",
    "x_train_vif = x_train_manual.drop('const',axis=1)\n",
    "\n",
    "vif = pd.DataFrame()\n",
    "vif['Features'] = x_train_vif.columns\n",
    "vif['VIF'] = [variance_inflation_factor(x_train_vif.values,i) for i in range(x_train_vif.shape[1])]\n",
    "vif['VIF'] = round(vif['VIF'],2)\n",
    "vif = vif.sort_values(by='VIF',ascending=False)\n",
    "vif"
   ]
  },
  {
   "cell_type": "code",
   "execution_count": 2082,
   "metadata": {},
   "outputs": [
    {
     "data": {
      "text/plain": [
       "Text(0.5, 0, 'Errors')"
      ]
     },
     "execution_count": 2082,
     "metadata": {},
     "output_type": "execute_result"
    },
    {
     "data": {
      "image/png": "[encoded data removed]",
      "text/plain": [
       "<Figure size 432x288 with 1 Axes>"
      ]
     },
     "metadata": {
      "needs_background": "light"
     },
     "output_type": "display_data"
    }
   ],
   "source": [
    "# Residual analysis\n",
    "y_train_pred = lr_mod2.predict(x_train_manual)\n",
    "# Plot the histogram of the error terms\n",
    "fig = plt.figure()\n",
    "sns.distplot((y_train - y_train_pred), bins = 20)\n",
    "fig.suptitle('Error Terms', fontsize = 20)                  # Plot heading \n",
    "plt.xlabel('Errors', fontsize = 18)                         # X-label"
   ]
  },
  {
   "cell_type": "code",
   "execution_count": 2083,
   "metadata": {},
   "outputs": [
    {
     "data": {
      "text/plain": [
       "-2.598755478629073"
      ]
     },
     "execution_count": 2083,
     "metadata": {},
     "output_type": "execute_result"
    }
   ],
   "source": [
    "# Creating a copy of test set data\n",
    "copy_m2_test = m2_test.copy()\n",
    "# Validating the result from the Model2\n",
    "y_test = copy_m2_test.pop('cnt')\n",
    "x_test = copy_m2_test\n",
    "\n",
    "# Adding constant variable to test dataframe\n",
    "x_test_m2 = sm.add_constant(x_test)\n",
    "\n",
    "# Creating x_test_m2 dataframe by dropping variables not in model 2\n",
    "x_test_m2 = x_test_m2.drop(['atemp','weekday_Monday','holiday_Work','weekday_Sunday','temp', 'ratio_register', 'season_fall', 'season_summer', 'mnth_April', 'mnth_August', 'mnth_December','mnth_February', 'mnth_January', 'mnth_July', 'mnth_June', 'mnth_March', 'mnth_May', 'mnth_November', 'mnth_October', 'holiday_Festival', 'weekday_Friday','weekday_Saturday', 'weekday_Thursday', 'weekday_Tuesday', 'weekday_Wednesday', 'workingday_Break','workingday_Work', 'weathersit_MildClear', 'weathersit_VeryClear'], axis = 1)\n",
    "\n",
    "# Making predictions using the 2nd model\n",
    "y_pred_m2 = lr_mod2.predict(x_test_m2)\n",
    "\n",
    "#Finding the R square for test set:\n",
    "r2_score(y_true=y_test,y_pred=y_pred_m2)"
   ]
  },
  {
   "cell_type": "code",
   "execution_count": 2084,
   "metadata": {},
   "outputs": [
    {
     "name": "stdout",
     "output_type": "stream",
     "text": [
      "                            OLS Regression Results                            \n",
      "==============================================================================\n",
      "Dep. Variable:                    cnt   R-squared:                       0.465\n",
      "Model:                            OLS   Adj. R-squared:                  0.458\n",
      "Method:                 Least Squares   F-statistic:                     71.46\n",
      "Date:                Fri, 27 Nov 2020   Prob (F-statistic):           6.31e-64\n",
      "Time:                        09:42:01   Log-Likelihood:                -554.36\n",
      "No. Observations:                 501   AIC:                             1123.\n",
      "Df Residuals:                     494   BIC:                             1152.\n",
      "Df Model:                           6                                         \n",
      "Covariance Type:            nonrobust                                         \n",
      "=======================================================================================\n",
      "                          coef    std err          t      P>|t|      [0.025      0.975]\n",
      "---------------------------------------------------------------------------------------\n",
      "const                   0.3871      0.049      7.933      0.000       0.291       0.483\n",
      "season_spring          -1.3867      0.083    -16.642      0.000      -1.550      -1.223\n",
      "season_winter          -0.3004      0.082     -3.668      0.000      -0.461      -0.139\n",
      "weathersit_MildRain    -0.9929      0.232     -4.275      0.000      -1.449      -0.537\n",
      "mnth_September          0.5164      0.120      4.304      0.000       0.281       0.752\n",
      "hum                    -0.2040      0.036     -5.599      0.000      -0.276      -0.132\n",
      "windspeed              -0.1947      0.035     -5.577      0.000      -0.263      -0.126\n",
      "==============================================================================\n",
      "Omnibus:                        2.049   Durbin-Watson:                   2.018\n",
      "Prob(Omnibus):                  0.359   Jarque-Bera (JB):                2.101\n",
      "Skew:                           0.153   Prob(JB):                        0.350\n",
      "Kurtosis:                       2.915   Cond. No.                         7.83\n",
      "==============================================================================\n",
      "\n",
      "Warnings:\n",
      "[1] Standard Errors assume that the covariance matrix of the errors is correctly specified.\n"
     ]
    }
   ],
   "source": [
    "# Dropping Awareness which has highest VIF\n",
    "# Add a constant\n",
    "x_train_manual = sm.add_constant(x_train[['season_spring','season_winter',\\\n",
    "                                          'weathersit_MildRain','mnth_September','hum','windspeed']])\n",
    "# Create a first fitted model\n",
    "lr_mod2 = sm.OLS(y_train, x_train_manual).fit()\n",
    "# Summary\n",
    "print(lr_mod2.summary())"
   ]
  },
  {
   "cell_type": "code",
   "execution_count": 2085,
   "metadata": {},
   "outputs": [
    {
     "data": {
      "text/html": [
       "<div>\n",
       "<style scoped>\n",
       "    .dataframe tbody tr th:only-of-type {\n",
       "        vertical-align: middle;\n",
       "    }\n",
       "\n",
       "    .dataframe tbody tr th {\n",
       "        vertical-align: top;\n",
       "    }\n",
       "\n",
       "    .dataframe thead th {\n",
       "        text-align: right;\n",
       "    }\n",
       "</style>\n",
       "<table border=\"1\" class=\"dataframe\">\n",
       "  <thead>\n",
       "    <tr style=\"text-align: right;\">\n",
       "      <th></th>\n",
       "      <th>Features</th>\n",
       "      <th>VIF</th>\n",
       "    </tr>\n",
       "  </thead>\n",
       "  <tbody>\n",
       "    <tr>\n",
       "      <th>4</th>\n",
       "      <td>hum</td>\n",
       "      <td>1.22</td>\n",
       "    </tr>\n",
       "    <tr>\n",
       "      <th>2</th>\n",
       "      <td>weathersit_MildRain</td>\n",
       "      <td>1.18</td>\n",
       "    </tr>\n",
       "    <tr>\n",
       "      <th>5</th>\n",
       "      <td>windspeed</td>\n",
       "      <td>1.12</td>\n",
       "    </tr>\n",
       "    <tr>\n",
       "      <th>1</th>\n",
       "      <td>season_winter</td>\n",
       "      <td>1.06</td>\n",
       "    </tr>\n",
       "    <tr>\n",
       "      <th>3</th>\n",
       "      <td>mnth_September</td>\n",
       "      <td>1.04</td>\n",
       "    </tr>\n",
       "    <tr>\n",
       "      <th>0</th>\n",
       "      <td>season_spring</td>\n",
       "      <td>1.03</td>\n",
       "    </tr>\n",
       "  </tbody>\n",
       "</table>\n",
       "</div>"
      ],
      "text/plain": [
       "              Features   VIF\n",
       "4                  hum  1.22\n",
       "2  weathersit_MildRain  1.18\n",
       "5            windspeed  1.12\n",
       "1        season_winter  1.06\n",
       "3       mnth_September  1.04\n",
       "0        season_spring  1.03"
      ]
     },
     "execution_count": 2085,
     "metadata": {},
     "output_type": "execute_result"
    }
   ],
   "source": [
    "# Now since all columns seem to be significant, we will cross check with VIF\n",
    "x_train_vif = x_train_manual.drop('const',axis=1)\n",
    "\n",
    "vif = pd.DataFrame()\n",
    "vif['Features'] = x_train_vif.columns\n",
    "vif['VIF'] = [variance_inflation_factor(x_train_vif.values,i) for i in range(x_train_vif.shape[1])]\n",
    "vif['VIF'] = round(vif['VIF'],2)\n",
    "vif = vif.sort_values(by='VIF',ascending=False)\n",
    "vif"
   ]
  },
  {
   "cell_type": "code",
   "execution_count": 2086,
   "metadata": {},
   "outputs": [
    {
     "data": {
      "text/plain": [
       "Text(0.5, 0, 'Errors')"
      ]
     },
     "execution_count": 2086,
     "metadata": {},
     "output_type": "execute_result"
    },
    {
     "data": {
      "image/png": "[encoded data removed]",
      "text/plain": [
       "<Figure size 432x288 with 1 Axes>"
      ]
     },
     "metadata": {
      "needs_background": "light"
     },
     "output_type": "display_data"
    }
   ],
   "source": [
    "# Residual analysis\n",
    "y_train_pred = lr_mod2.predict(x_train_manual)\n",
    "# Plot the histogram of the error terms\n",
    "fig = plt.figure()\n",
    "sns.distplot((y_train - y_train_pred), bins = 20)\n",
    "fig.suptitle('Error Terms', fontsize = 20)                  # Plot heading \n",
    "plt.xlabel('Errors', fontsize = 18)                         # X-label"
   ]
  },
  {
   "cell_type": "code",
   "execution_count": 2087,
   "metadata": {},
   "outputs": [
    {
     "data": {
      "text/plain": [
       "-1.1454933344995286"
      ]
     },
     "execution_count": 2087,
     "metadata": {},
     "output_type": "execute_result"
    }
   ],
   "source": [
    "# Creating a copy of test set data\n",
    "copy_m2_test = m2_test.copy()\n",
    "# Validating the result from the Model2\n",
    "y_test = copy_m2_test.pop('cnt')\n",
    "x_test = copy_m2_test\n",
    "\n",
    "# Adding constant variable to test dataframe\n",
    "x_test_m2 = sm.add_constant(x_test)\n",
    "\n",
    "# Creating x_test_m2 dataframe by dropping variables not in model 2\n",
    "x_test_m2 = x_test_m2.drop(['Awareness','atemp','weekday_Monday','holiday_Work','weekday_Sunday','temp', 'ratio_register', 'season_fall', 'season_summer', 'mnth_April', 'mnth_August', 'mnth_December','mnth_February', 'mnth_January', 'mnth_July', 'mnth_June', 'mnth_March', 'mnth_May', 'mnth_November', 'mnth_October', 'holiday_Festival', 'weekday_Friday','weekday_Saturday', 'weekday_Thursday', 'weekday_Tuesday', 'weekday_Wednesday', 'workingday_Break','workingday_Work', 'weathersit_MildClear', 'weathersit_VeryClear'], axis = 1)\n",
    "\n",
    "# Making predictions using the 2nd model\n",
    "y_pred_m2 = lr_mod2.predict(x_test_m2)\n",
    "\n",
    "#Finding the R square for test set:\n",
    "r2_score(y_true=y_test,y_pred=y_pred_m2)"
   ]
  },
  {
   "cell_type": "code",
   "execution_count": null,
   "metadata": {},
   "outputs": [],
   "source": []
  }
 ],
 "metadata": {
  "kernelspec": {
   "display_name": "Python 3",
   "language": "python",
   "name": "python3"
  },
  "language_info": {
   "codemirror_mode": {
    "name": "ipython",
    "version": 3
   },
   "file_extension": ".py",
   "mimetype": "text/x-python",
   "name": "python",
   "nbconvert_exporter": "python",
   "pygments_lexer": "ipython3",
   "version": "3.7.6"
  }
 },
 "nbformat": 4,
 "nbformat_minor": 4
}
